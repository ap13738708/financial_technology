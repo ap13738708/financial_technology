{
 "cells": [
  {
   "cell_type": "code",
   "execution_count": 1,
   "metadata": {},
   "outputs": [],
   "source": [
    "import tensorflow as tf\n",
    "from tensorflow import keras\n",
    "import numpy as np\n",
    "import pandas as pd\n",
    "import matplotlib.pyplot as plt\n",
    "from sklearn.metrics import confusion_matrix\n",
    "from sklearn.model_selection import train_test_split\n",
    "from sklearn.preprocessing import StandardScaler\n",
    "from sklearn.metrics import precision_recall_fscore_support, f1_score, roc_curve, \\\n",
    "auc, precision_recall_curve, accuracy_score\n",
    "from sklearn.tree import DecisionTreeClassifier\n",
    "from sklearn.ensemble import RandomForestClassifier\n",
    "from inspect import signature\n",
    "\n",
    "import seaborn as sns"
   ]
  },
  {
   "cell_type": "code",
   "execution_count": 2,
   "metadata": {},
   "outputs": [],
   "source": [
    "data_all = pd.read_csv('Data.csv')"
   ]
  },
  {
   "cell_type": "code",
   "execution_count": 3,
   "metadata": {},
   "outputs": [],
   "source": [
    "data_all['normalizedAmount'] = StandardScaler().fit_transform(data_all['Amount'].values.reshape(-1,1))\n",
    "# data_all['normalizedTime'] = StandardScaler().fit_transform(data_all['Time'].values.reshape(-1,1))\n",
    "data_all.drop(['Amount', 'Time'], axis=1, inplace=True)"
   ]
  },
  {
   "cell_type": "code",
   "execution_count": 4,
   "metadata": {},
   "outputs": [
    {
     "data": {
      "text/html": [
       "<div>\n",
       "<style scoped>\n",
       "    .dataframe tbody tr th:only-of-type {\n",
       "        vertical-align: middle;\n",
       "    }\n",
       "\n",
       "    .dataframe tbody tr th {\n",
       "        vertical-align: top;\n",
       "    }\n",
       "\n",
       "    .dataframe thead th {\n",
       "        text-align: right;\n",
       "    }\n",
       "</style>\n",
       "<table border=\"1\" class=\"dataframe\">\n",
       "  <thead>\n",
       "    <tr style=\"text-align: right;\">\n",
       "      <th></th>\n",
       "      <th>V1</th>\n",
       "      <th>V2</th>\n",
       "      <th>V3</th>\n",
       "      <th>V4</th>\n",
       "      <th>V5</th>\n",
       "      <th>V6</th>\n",
       "      <th>V7</th>\n",
       "      <th>V8</th>\n",
       "      <th>V9</th>\n",
       "      <th>V10</th>\n",
       "      <th>...</th>\n",
       "      <th>V21</th>\n",
       "      <th>V22</th>\n",
       "      <th>V23</th>\n",
       "      <th>V24</th>\n",
       "      <th>V25</th>\n",
       "      <th>V26</th>\n",
       "      <th>V27</th>\n",
       "      <th>V28</th>\n",
       "      <th>Class</th>\n",
       "      <th>normalizedAmount</th>\n",
       "    </tr>\n",
       "  </thead>\n",
       "  <tbody>\n",
       "    <tr>\n",
       "      <th>0</th>\n",
       "      <td>-0.489190</td>\n",
       "      <td>0.783289</td>\n",
       "      <td>-1.659097</td>\n",
       "      <td>-1.366814</td>\n",
       "      <td>2.576846</td>\n",
       "      <td>3.513254</td>\n",
       "      <td>0.271305</td>\n",
       "      <td>1.304641</td>\n",
       "      <td>-0.238853</td>\n",
       "      <td>-0.730979</td>\n",
       "      <td>...</td>\n",
       "      <td>-0.058456</td>\n",
       "      <td>-0.214896</td>\n",
       "      <td>0.222998</td>\n",
       "      <td>0.675950</td>\n",
       "      <td>-0.632860</td>\n",
       "      <td>-0.530017</td>\n",
       "      <td>0.345872</td>\n",
       "      <td>0.221294</td>\n",
       "      <td>0</td>\n",
       "      <td>-0.205108</td>\n",
       "    </tr>\n",
       "    <tr>\n",
       "      <th>1</th>\n",
       "      <td>1.293556</td>\n",
       "      <td>-1.302381</td>\n",
       "      <td>-2.241085</td>\n",
       "      <td>0.393974</td>\n",
       "      <td>0.680825</td>\n",
       "      <td>0.821662</td>\n",
       "      <td>0.501478</td>\n",
       "      <td>0.104208</td>\n",
       "      <td>0.111651</td>\n",
       "      <td>0.087403</td>\n",
       "      <td>...</td>\n",
       "      <td>0.359432</td>\n",
       "      <td>0.443179</td>\n",
       "      <td>-0.230091</td>\n",
       "      <td>-1.583791</td>\n",
       "      <td>-0.157257</td>\n",
       "      <td>0.477317</td>\n",
       "      <td>-0.104101</td>\n",
       "      <td>-0.039292</td>\n",
       "      <td>0</td>\n",
       "      <td>0.814352</td>\n",
       "    </tr>\n",
       "    <tr>\n",
       "      <th>2</th>\n",
       "      <td>-0.755894</td>\n",
       "      <td>0.121305</td>\n",
       "      <td>0.852314</td>\n",
       "      <td>-2.303416</td>\n",
       "      <td>-0.233670</td>\n",
       "      <td>-0.244191</td>\n",
       "      <td>-0.285440</td>\n",
       "      <td>0.424009</td>\n",
       "      <td>-1.072689</td>\n",
       "      <td>-0.548953</td>\n",
       "      <td>...</td>\n",
       "      <td>0.438709</td>\n",
       "      <td>1.034433</td>\n",
       "      <td>-0.232698</td>\n",
       "      <td>0.531213</td>\n",
       "      <td>0.100623</td>\n",
       "      <td>-0.203575</td>\n",
       "      <td>-0.007693</td>\n",
       "      <td>0.050117</td>\n",
       "      <td>0</td>\n",
       "      <td>-0.304594</td>\n",
       "    </tr>\n",
       "    <tr>\n",
       "      <th>3</th>\n",
       "      <td>2.038750</td>\n",
       "      <td>-0.159488</td>\n",
       "      <td>-1.096570</td>\n",
       "      <td>0.425224</td>\n",
       "      <td>-0.214944</td>\n",
       "      <td>-1.151940</td>\n",
       "      <td>0.107112</td>\n",
       "      <td>-0.250273</td>\n",
       "      <td>0.701067</td>\n",
       "      <td>0.092863</td>\n",
       "      <td>...</td>\n",
       "      <td>-0.291320</td>\n",
       "      <td>-0.766838</td>\n",
       "      <td>0.353433</td>\n",
       "      <td>-0.042129</td>\n",
       "      <td>-0.352271</td>\n",
       "      <td>0.203878</td>\n",
       "      <td>-0.075910</td>\n",
       "      <td>-0.061540</td>\n",
       "      <td>0</td>\n",
       "      <td>-0.360037</td>\n",
       "    </tr>\n",
       "    <tr>\n",
       "      <th>4</th>\n",
       "      <td>0.951025</td>\n",
       "      <td>3.252926</td>\n",
       "      <td>-5.039105</td>\n",
       "      <td>4.632411</td>\n",
       "      <td>3.014501</td>\n",
       "      <td>-1.349570</td>\n",
       "      <td>0.980940</td>\n",
       "      <td>-1.819539</td>\n",
       "      <td>-2.099049</td>\n",
       "      <td>-1.347557</td>\n",
       "      <td>...</td>\n",
       "      <td>1.404524</td>\n",
       "      <td>-0.760549</td>\n",
       "      <td>0.358292</td>\n",
       "      <td>-1.185942</td>\n",
       "      <td>-1.286177</td>\n",
       "      <td>0.000365</td>\n",
       "      <td>0.169662</td>\n",
       "      <td>0.108276</td>\n",
       "      <td>1</td>\n",
       "      <td>-0.388521</td>\n",
       "    </tr>\n",
       "  </tbody>\n",
       "</table>\n",
       "<p>5 rows × 30 columns</p>\n",
       "</div>"
      ],
      "text/plain": [
       "         V1        V2        V3        V4        V5        V6        V7  \\\n",
       "0 -0.489190  0.783289 -1.659097 -1.366814  2.576846  3.513254  0.271305   \n",
       "1  1.293556 -1.302381 -2.241085  0.393974  0.680825  0.821662  0.501478   \n",
       "2 -0.755894  0.121305  0.852314 -2.303416 -0.233670 -0.244191 -0.285440   \n",
       "3  2.038750 -0.159488 -1.096570  0.425224 -0.214944 -1.151940  0.107112   \n",
       "4  0.951025  3.252926 -5.039105  4.632411  3.014501 -1.349570  0.980940   \n",
       "\n",
       "         V8        V9       V10  ...       V21       V22       V23       V24  \\\n",
       "0  1.304641 -0.238853 -0.730979  ... -0.058456 -0.214896  0.222998  0.675950   \n",
       "1  0.104208  0.111651  0.087403  ...  0.359432  0.443179 -0.230091 -1.583791   \n",
       "2  0.424009 -1.072689 -0.548953  ...  0.438709  1.034433 -0.232698  0.531213   \n",
       "3 -0.250273  0.701067  0.092863  ... -0.291320 -0.766838  0.353433 -0.042129   \n",
       "4 -1.819539 -2.099049 -1.347557  ...  1.404524 -0.760549  0.358292 -1.185942   \n",
       "\n",
       "        V25       V26       V27       V28  Class  normalizedAmount  \n",
       "0 -0.632860 -0.530017  0.345872  0.221294      0         -0.205108  \n",
       "1 -0.157257  0.477317 -0.104101 -0.039292      0          0.814352  \n",
       "2  0.100623 -0.203575 -0.007693  0.050117      0         -0.304594  \n",
       "3 -0.352271  0.203878 -0.075910 -0.061540      0         -0.360037  \n",
       "4 -1.286177  0.000365  0.169662  0.108276      1         -0.388521  \n",
       "\n",
       "[5 rows x 30 columns]"
      ]
     },
     "execution_count": 4,
     "metadata": {},
     "output_type": "execute_result"
    }
   ],
   "source": [
    "data_all.head()"
   ]
  },
  {
   "cell_type": "code",
   "execution_count": 5,
   "metadata": {},
   "outputs": [],
   "source": [
    "train = data_all.drop(['Class'], axis=1)\n",
    "label = data_all['Class']"
   ]
  },
  {
   "cell_type": "code",
   "execution_count": 6,
   "metadata": {},
   "outputs": [],
   "source": [
    "train_set, test_set, train_label, test_label = train_test_split(train, label, test_size=0.2)"
   ]
  },
  {
   "cell_type": "code",
   "execution_count": 7,
   "metadata": {},
   "outputs": [
    {
     "name": "stdout",
     "output_type": "stream",
     "text": [
      "1120 train examples\n",
      "280 test examples\n"
     ]
    }
   ],
   "source": [
    "print(len(train_set), 'train examples') \n",
    "print(len(test_set), 'test examples') "
   ]
  },
  {
   "cell_type": "markdown",
   "metadata": {},
   "source": [
    "no. of hidden layers, no. of hidden units, learning rate, \n",
    "no. of iterations and mini-batch size"
   ]
  },
  {
   "cell_type": "markdown",
   "metadata": {},
   "source": [
    "## DNN "
   ]
  },
  {
   "cell_type": "code",
   "execution_count": 8,
   "metadata": {},
   "outputs": [],
   "source": [
    "model = keras.Sequential([\n",
    "    keras.layers.Dense(29, activation='relu', input_shape=(29,)),\n",
    "    keras.layers.Dense(64, activation='relu'), # --> dense mean fully connected layer\n",
    "    keras.layers.Dense(64, activation='relu'),\n",
    "    keras.layers.Dense(1, activation='sigmoid')\n",
    "])\n",
    "adam = keras.optimizers.Adam(learning_rate=0.003)\n",
    "model.compile(optimizer=adam, loss='binary_crossentropy',\n",
    "             metrics=['accuracy'])"
   ]
  },
  {
   "cell_type": "code",
   "execution_count": 9,
   "metadata": {},
   "outputs": [
    {
     "name": "stdout",
     "output_type": "stream",
     "text": [
      "WARNING:tensorflow:Falling back from v2 loop because of error: Failed to find data adapter that can handle input: <class 'pandas.core.frame.DataFrame'>, <class 'NoneType'>\n",
      "Train on 896 samples, validate on 224 samples\n",
      "Epoch 1/20\n",
      "896/896 [==============================] - 1s 870us/sample - loss: 0.4362 - accuracy: 0.7946 - val_loss: 0.2566 - val_accuracy: 0.9375\n",
      "Epoch 2/20\n",
      "896/896 [==============================] - 0s 56us/sample - loss: 0.2058 - accuracy: 0.9364 - val_loss: 0.1947 - val_accuracy: 0.9330\n",
      "Epoch 3/20\n",
      "896/896 [==============================] - 0s 57us/sample - loss: 0.1467 - accuracy: 0.9475 - val_loss: 0.1774 - val_accuracy: 0.9464\n",
      "Epoch 4/20\n",
      "896/896 [==============================] - 0s 53us/sample - loss: 0.1169 - accuracy: 0.9542 - val_loss: 0.1838 - val_accuracy: 0.9286\n",
      "Epoch 5/20\n",
      "896/896 [==============================] - 0s 52us/sample - loss: 0.1032 - accuracy: 0.9632 - val_loss: 0.2053 - val_accuracy: 0.9554\n",
      "Epoch 6/20\n",
      "896/896 [==============================] - 0s 52us/sample - loss: 0.0909 - accuracy: 0.9688 - val_loss: 0.2052 - val_accuracy: 0.9286\n",
      "Epoch 7/20\n",
      "896/896 [==============================] - 0s 51us/sample - loss: 0.0788 - accuracy: 0.9754 - val_loss: 0.2160 - val_accuracy: 0.9286\n",
      "Epoch 8/20\n",
      "896/896 [==============================] - 0s 51us/sample - loss: 0.0682 - accuracy: 0.9754 - val_loss: 0.2330 - val_accuracy: 0.9286\n",
      "Epoch 9/20\n",
      "896/896 [==============================] - 0s 51us/sample - loss: 0.0564 - accuracy: 0.9821 - val_loss: 0.2643 - val_accuracy: 0.9286\n",
      "Epoch 10/20\n",
      "896/896 [==============================] - 0s 53us/sample - loss: 0.0484 - accuracy: 0.9844 - val_loss: 0.2872 - val_accuracy: 0.9286\n",
      "Epoch 11/20\n",
      "896/896 [==============================] - 0s 50us/sample - loss: 0.0372 - accuracy: 0.9866 - val_loss: 0.3176 - val_accuracy: 0.9286\n",
      "Epoch 12/20\n",
      "896/896 [==============================] - 0s 51us/sample - loss: 0.0301 - accuracy: 0.9900 - val_loss: 0.3456 - val_accuracy: 0.9375\n",
      "Epoch 13/20\n",
      "896/896 [==============================] - 0s 51us/sample - loss: 0.0231 - accuracy: 0.9911 - val_loss: 0.3649 - val_accuracy: 0.9375\n",
      "Epoch 14/20\n",
      "896/896 [==============================] - 0s 50us/sample - loss: 0.0157 - accuracy: 0.9944 - val_loss: 0.4200 - val_accuracy: 0.9330\n",
      "Epoch 15/20\n",
      "896/896 [==============================] - 0s 50us/sample - loss: 0.0130 - accuracy: 0.9955 - val_loss: 0.4098 - val_accuracy: 0.9330\n",
      "Epoch 16/20\n",
      "896/896 [==============================] - 0s 53us/sample - loss: 0.0088 - accuracy: 0.9989 - val_loss: 0.4594 - val_accuracy: 0.9330\n",
      "Epoch 17/20\n",
      "896/896 [==============================] - 0s 49us/sample - loss: 0.0048 - accuracy: 1.0000 - val_loss: 0.4839 - val_accuracy: 0.9330\n",
      "Epoch 18/20\n",
      "896/896 [==============================] - 0s 51us/sample - loss: 0.0039 - accuracy: 1.0000 - val_loss: 0.4914 - val_accuracy: 0.9330\n",
      "Epoch 19/20\n",
      "896/896 [==============================] - 0s 52us/sample - loss: 0.0026 - accuracy: 1.0000 - val_loss: 0.5279 - val_accuracy: 0.9330\n",
      "Epoch 20/20\n",
      "896/896 [==============================] - 0s 52us/sample - loss: 0.0022 - accuracy: 1.0000 - val_loss: 0.5437 - val_accuracy: 0.9330\n"
     ]
    }
   ],
   "source": [
    "history = model.fit(train_set, train_label, batch_size=64, epochs=20, validation_split=0.2)"
   ]
  },
  {
   "cell_type": "code",
   "execution_count": 10,
   "metadata": {},
   "outputs": [
    {
     "name": "stdout",
     "output_type": "stream",
     "text": [
      "WARNING:tensorflow:Falling back from v2 loop because of error: Failed to find data adapter that can handle input: <class 'pandas.core.frame.DataFrame'>, <class 'NoneType'>\n",
      "1120/1120 [==============================] - 0s 36us/sample - loss: 0.1101 - accuracy: 0.9866\n",
      "Trained Acc:  0.98660713\n",
      "Trained Loss:  0.1100695909566379\n"
     ]
    }
   ],
   "source": [
    "train_loss, train_acc  = model.evaluate(train_set, train_label)\n",
    "print('Trained Acc: ', train_acc)\n",
    "print('Trained Loss: ', train_loss)"
   ]
  },
  {
   "cell_type": "code",
   "execution_count": 196,
   "metadata": {},
   "outputs": [
    {
     "name": "stdout",
     "output_type": "stream",
     "text": [
      "WARNING:tensorflow:Falling back from v2 loop because of error: Failed to find data adapter that can handle input: <class 'pandas.core.frame.DataFrame'>, <class 'NoneType'>\n",
      "280/280 [==============================] - 0s 48us/sample - loss: 0.3613 - accuracy: 0.9464\n",
      "Tested Acc:  0.9464286\n",
      "Tested Loss:  0.36126516674246106\n"
     ]
    }
   ],
   "source": [
    "test_loss, test_acc  = model.evaluate(test_set, test_label)\n",
    "print('Tested Acc: ', test_acc)\n",
    "print('Tested Loss: ', test_loss)"
   ]
  },
  {
   "cell_type": "code",
   "execution_count": 197,
   "metadata": {},
   "outputs": [
    {
     "data": {
      "image/png": "[encoded data removed]",
      "text/plain": [
       "<Figure size 432x288 with 1 Axes>"
      ]
     },
     "metadata": {
      "needs_background": "light"
     },
     "output_type": "display_data"
    },
    {
     "data": {
      "image/png": "[encoded data removed]",
      "text/plain": [
       "<Figure size 432x288 with 1 Axes>"
      ]
     },
     "metadata": {
      "needs_background": "light"
     },
     "output_type": "display_data"
    }
   ],
   "source": [
    "# Plot training & validation accuracy values\n",
    "plt.plot(history.history['accuracy'])\n",
    "plt.plot(history.history['val_accuracy'])\n",
    "plt.title('Model accuracy')\n",
    "plt.ylabel('Accuracy')\n",
    "plt.xlabel('Epoch')\n",
    "plt.legend(['Train', 'Validation'], loc='upper left')\n",
    "plt.show()\n",
    "\n",
    "# Plot training & validation loss values\n",
    "plt.plot(history.history['loss'])\n",
    "plt.plot(history.history['val_loss'])\n",
    "plt.title('Model loss')\n",
    "plt.ylabel('Loss')\n",
    "plt.xlabel('Epoch')\n",
    "plt.legend(['Train', 'Validation'], loc='upper left')\n",
    "plt.show()"
   ]
  },
  {
   "cell_type": "code",
   "execution_count": 214,
   "metadata": {},
   "outputs": [
    {
     "name": "stdout",
     "output_type": "stream",
     "text": [
      "WARNING:tensorflow:Falling back from v2 loop because of error: Failed to find data adapter that can handle input: <class 'pandas.core.frame.DataFrame'>, <class 'NoneType'>\n"
     ]
    }
   ],
   "source": [
    "# train confusion matrix\n",
    "train_pred = np.round(model.predict(train_set))\n",
    "cm_train = confusion_matrix(train_label, train_pred)"
   ]
  },
  {
   "cell_type": "code",
   "execution_count": 215,
   "metadata": {},
   "outputs": [
    {
     "data": {
      "text/plain": [
       "Text(0.5, 1, 'Train Confusion Matrix')"
      ]
     },
     "execution_count": 215,
     "metadata": {},
     "output_type": "execute_result"
    },
    {
     "data": {
      "image/png": "[encoded data removed]",
      "text/plain": [
       "<Figure size 432x288 with 2 Axes>"
      ]
     },
     "metadata": {
      "needs_background": "light"
     },
     "output_type": "display_data"
    }
   ],
   "source": [
    "ax= plt.subplot()\n",
    "matrix = sns.heatmap(cm_train, annot=True, ax = ax, fmt='d',\n",
    "           xticklabels=['predict=0', 'predict=1'],\n",
    "           yticklabels=['True=0', 'True=1']) #annot=True to annotate cells\n",
    "bottom, top = matrix.get_ylim()\n",
    "matrix.set_ylim(bottom + 0.5, top - 0.5)\n",
    "\n",
    "ax.set_xlabel('Predicted labels')\n",
    "ax.set_ylabel('True labels')\n",
    "ax.set_title('Train Confusion Matrix')"
   ]
  },
  {
   "cell_type": "code",
   "execution_count": 216,
   "metadata": {},
   "outputs": [
    {
     "name": "stdout",
     "output_type": "stream",
     "text": [
      "WARNING:tensorflow:Falling back from v2 loop because of error: Failed to find data adapter that can handle input: <class 'pandas.core.frame.DataFrame'>, <class 'NoneType'>\n"
     ]
    }
   ],
   "source": [
    "# validation confusion matrix\n",
    "test_pred = np.round(model.predict(test_set))\n",
    "cm_test = confusion_matrix(test_label, test_pred)"
   ]
  },
  {
   "cell_type": "code",
   "execution_count": 217,
   "metadata": {},
   "outputs": [
    {
     "data": {
      "text/plain": [
       "Text(0.5, 1, 'Validation Confusion Matrix')"
      ]
     },
     "execution_count": 217,
     "metadata": {},
     "output_type": "execute_result"
    },
    {
     "data": {
      "image/png": "[encoded data removed]",
      "text/plain": [
       "<Figure size 432x288 with 2 Axes>"
      ]
     },
     "metadata": {
      "needs_background": "light"
     },
     "output_type": "display_data"
    }
   ],
   "source": [
    "ax2= plt.subplot()\n",
    "matrix2 = sns.heatmap(cm_test, annot=True, ax = ax2, fmt='d',\n",
    "           xticklabels=['predict=0', 'predict=1'],\n",
    "           yticklabels=['True=0', 'True=1']) #annot=True to annotate cells\n",
    "bottom, top = matrix2.get_ylim()\n",
    "matrix2.set_ylim(bottom + 0.5, top - 0.5)\n",
    "\n",
    "ax2.set_xlabel('Predicted labels')\n",
    "ax2.set_ylabel('True labels')\n",
    "ax2.set_title('Validation Confusion Matrix')"
   ]
  },
  {
   "cell_type": "code",
   "execution_count": 218,
   "metadata": {},
   "outputs": [
    {
     "name": "stdout",
     "output_type": "stream",
     "text": [
      "\u001b[1mClass 0\u001b[0m\n",
      "Precision:  0.9788359788359788\n",
      "Recall:  0.9438775510204082\n",
      "F-score:  0.9610389610389609\n",
      "\u001b[1mClass 1\u001b[0m\n",
      "Precision:  0.8791208791208791\n",
      "Recall:  0.9523809523809523\n",
      "F-score:  0.9142857142857143\n",
      "\u001b[1mAverage\u001b[0m\n",
      "Precision:  0.928978428978429\n",
      "Recall:  0.9481292517006803\n",
      "F-score:  0.9376623376623376\n"
     ]
    }
   ],
   "source": [
    "precision, recall, fscore, _= precision_recall_fscore_support(test_label, test_pred)\n",
    "print('\\033[1mClass 0\\033[0m')\n",
    "print('Precision: ', precision[0])\n",
    "print('Recall: ', recall[0])\n",
    "print('F-score: ', fscore[0])\n",
    "print('\\033[1mClass 1\\033[0m')\n",
    "print('Precision: ', precision[1])\n",
    "print('Recall: ', recall[1])\n",
    "print('F-score: ', fscore[1])\n",
    "print('\\033[1mAverage\\033[0m')\n",
    "print('Precision: ', np.average(precision))\n",
    "print('Recall: ', np.average(recall))\n",
    "print('F-score: ', np.average(fscore))"
   ]
  },
  {
   "cell_type": "code",
   "execution_count": 219,
   "metadata": {},
   "outputs": [
    {
     "data": {
      "image/png": "[encoded data removed]",
      "text/plain": [
       "<Figure size 432x288 with 1 Axes>"
      ]
     },
     "metadata": {
      "needs_background": "light"
     },
     "output_type": "display_data"
    }
   ],
   "source": [
    "# ROC curve plot\n",
    "fpr, tpr, _ = roc_curve(test_label, test_pred)\n",
    "roc_auc = auc(fpr, tpr)\n",
    "\n",
    "plt.figure()\n",
    "plt.plot(fpr, tpr, color='darkorange',\n",
    "         lw=2, label='ROC curve (area = %0.2f)' % roc_auc)\n",
    "plt.plot([0, 1], [0, 1], color='navy', lw=2, linestyle='--')\n",
    "plt.xlim([0.0, 1.0])\n",
    "plt.ylim([0.0, 1.05])\n",
    "plt.xlabel('False Positive Rate')\n",
    "plt.ylabel('True Positive Rate')\n",
    "plt.title('Receiver operating characteristic example')\n",
    "plt.legend(loc=\"lower right\")\n",
    "plt.show()"
   ]
  },
  {
   "cell_type": "code",
   "execution_count": 220,
   "metadata": {},
   "outputs": [
    {
     "data": {
      "image/png": "[encoded data removed]",
      "text/plain": [
       "<Figure size 432x288 with 1 Axes>"
      ]
     },
     "metadata": {
      "needs_background": "light"
     },
     "output_type": "display_data"
    }
   ],
   "source": [
    "# Precision recall curve\n",
    "precision, recall, _ = precision_recall_curve(test_label, test_pred)\n",
    "\n",
    "# In matplotlib < 1.5, plt.fill_between does not have a 'step' argument\n",
    "step_kwargs = ({'step': 'post'}\n",
    "               if 'step' in signature(plt.fill_between).parameters\n",
    "               else {})\n",
    "plt.step(recall, precision, color='b', alpha=0.2,\n",
    "         where='post')\n",
    "plt.fill_between(recall, precision, alpha=0.2, color='b', **step_kwargs)\n",
    "\n",
    "plt.xlabel('Recall')\n",
    "plt.ylabel('Precision')\n",
    "plt.ylim([0.0, 1.05])\n",
    "plt.xlim([0.0, 1.0])\n",
    "plt.title('2-class Precision-Recall curve: AP={0:0.2f}'.format(\n",
    "          np.average(precision)))\n",
    "plt.show()"
   ]
  },
  {
   "cell_type": "code",
   "execution_count": 221,
   "metadata": {},
   "outputs": [
    {
     "data": {
      "text/html": [
       "<div>\n",
       "<style scoped>\n",
       "    .dataframe tbody tr th:only-of-type {\n",
       "        vertical-align: middle;\n",
       "    }\n",
       "\n",
       "    .dataframe tbody tr th {\n",
       "        vertical-align: top;\n",
       "    }\n",
       "\n",
       "    .dataframe thead th {\n",
       "        text-align: right;\n",
       "    }\n",
       "</style>\n",
       "<table border=\"1\" class=\"dataframe\">\n",
       "  <thead>\n",
       "    <tr style=\"text-align: right;\">\n",
       "      <th></th>\n",
       "      <th>V1</th>\n",
       "      <th>V2</th>\n",
       "      <th>V3</th>\n",
       "      <th>V4</th>\n",
       "      <th>V5</th>\n",
       "      <th>V6</th>\n",
       "      <th>V7</th>\n",
       "      <th>V8</th>\n",
       "      <th>V9</th>\n",
       "      <th>V10</th>\n",
       "      <th>...</th>\n",
       "      <th>V20</th>\n",
       "      <th>V21</th>\n",
       "      <th>V22</th>\n",
       "      <th>V23</th>\n",
       "      <th>V24</th>\n",
       "      <th>V25</th>\n",
       "      <th>V26</th>\n",
       "      <th>V27</th>\n",
       "      <th>V28</th>\n",
       "      <th>normalizedAmount</th>\n",
       "    </tr>\n",
       "  </thead>\n",
       "  <tbody>\n",
       "    <tr>\n",
       "      <th>0</th>\n",
       "      <td>0.754316</td>\n",
       "      <td>2.379822</td>\n",
       "      <td>-5.137274</td>\n",
       "      <td>3.818392</td>\n",
       "      <td>0.043203</td>\n",
       "      <td>-1.285451</td>\n",
       "      <td>-1.766684</td>\n",
       "      <td>0.756711</td>\n",
       "      <td>-1.765722</td>\n",
       "      <td>-3.263007</td>\n",
       "      <td>...</td>\n",
       "      <td>0.369663</td>\n",
       "      <td>0.397058</td>\n",
       "      <td>0.141165</td>\n",
       "      <td>0.171985</td>\n",
       "      <td>0.394274</td>\n",
       "      <td>-0.444642</td>\n",
       "      <td>-0.263189</td>\n",
       "      <td>0.304703</td>\n",
       "      <td>-0.044362</td>\n",
       "      <td>-0.518233</td>\n",
       "    </tr>\n",
       "    <tr>\n",
       "      <th>1</th>\n",
       "      <td>-14.179165</td>\n",
       "      <td>7.421370</td>\n",
       "      <td>-21.405836</td>\n",
       "      <td>11.927512</td>\n",
       "      <td>-7.974281</td>\n",
       "      <td>-2.202710</td>\n",
       "      <td>-15.471612</td>\n",
       "      <td>-0.356595</td>\n",
       "      <td>-6.380125</td>\n",
       "      <td>-13.348278</td>\n",
       "      <td>...</td>\n",
       "      <td>1.002764</td>\n",
       "      <td>-2.366836</td>\n",
       "      <td>1.130955</td>\n",
       "      <td>0.991153</td>\n",
       "      <td>-1.033132</td>\n",
       "      <td>-0.327179</td>\n",
       "      <td>0.634693</td>\n",
       "      <td>2.171905</td>\n",
       "      <td>-1.395288</td>\n",
       "      <td>-0.522556</td>\n",
       "    </tr>\n",
       "    <tr>\n",
       "      <th>2</th>\n",
       "      <td>2.252971</td>\n",
       "      <td>-1.177596</td>\n",
       "      <td>-2.030634</td>\n",
       "      <td>-2.541761</td>\n",
       "      <td>-0.176900</td>\n",
       "      <td>-0.218932</td>\n",
       "      <td>-0.599820</td>\n",
       "      <td>-0.092448</td>\n",
       "      <td>0.654035</td>\n",
       "      <td>0.125140</td>\n",
       "      <td>...</td>\n",
       "      <td>-0.567323</td>\n",
       "      <td>-0.084275</td>\n",
       "      <td>0.439982</td>\n",
       "      <td>-0.119047</td>\n",
       "      <td>-0.316948</td>\n",
       "      <td>0.376866</td>\n",
       "      <td>0.109228</td>\n",
       "      <td>-0.001400</td>\n",
       "      <td>-0.074179</td>\n",
       "      <td>-0.461310</td>\n",
       "    </tr>\n",
       "    <tr>\n",
       "      <th>3</th>\n",
       "      <td>-3.859881</td>\n",
       "      <td>2.632881</td>\n",
       "      <td>-5.264265</td>\n",
       "      <td>3.446113</td>\n",
       "      <td>-0.675231</td>\n",
       "      <td>-1.904959</td>\n",
       "      <td>-3.291041</td>\n",
       "      <td>-0.985766</td>\n",
       "      <td>-1.168114</td>\n",
       "      <td>-3.936294</td>\n",
       "      <td>...</td>\n",
       "      <td>-0.178626</td>\n",
       "      <td>1.664119</td>\n",
       "      <td>0.785075</td>\n",
       "      <td>0.068412</td>\n",
       "      <td>0.778961</td>\n",
       "      <td>-0.863166</td>\n",
       "      <td>-0.006810</td>\n",
       "      <td>-1.065734</td>\n",
       "      <td>1.773326</td>\n",
       "      <td>-0.521778</td>\n",
       "    </tr>\n",
       "    <tr>\n",
       "      <th>4</th>\n",
       "      <td>1.864985</td>\n",
       "      <td>-0.974664</td>\n",
       "      <td>-1.018447</td>\n",
       "      <td>-0.916147</td>\n",
       "      <td>-0.420071</td>\n",
       "      <td>0.059545</td>\n",
       "      <td>-0.592456</td>\n",
       "      <td>0.109244</td>\n",
       "      <td>1.363402</td>\n",
       "      <td>-0.279865</td>\n",
       "      <td>...</td>\n",
       "      <td>0.040632</td>\n",
       "      <td>0.176293</td>\n",
       "      <td>0.439613</td>\n",
       "      <td>0.077999</td>\n",
       "      <td>0.287905</td>\n",
       "      <td>-0.296394</td>\n",
       "      <td>0.654480</td>\n",
       "      <td>-0.068849</td>\n",
       "      <td>-0.048382</td>\n",
       "      <td>-0.098980</td>\n",
       "    </tr>\n",
       "  </tbody>\n",
       "</table>\n",
       "<p>5 rows × 29 columns</p>\n",
       "</div>"
      ],
      "text/plain": [
       "          V1        V2         V3         V4        V5        V6         V7  \\\n",
       "0   0.754316  2.379822  -5.137274   3.818392  0.043203 -1.285451  -1.766684   \n",
       "1 -14.179165  7.421370 -21.405836  11.927512 -7.974281 -2.202710 -15.471612   \n",
       "2   2.252971 -1.177596  -2.030634  -2.541761 -0.176900 -0.218932  -0.599820   \n",
       "3  -3.859881  2.632881  -5.264265   3.446113 -0.675231 -1.904959  -3.291041   \n",
       "4   1.864985 -0.974664  -1.018447  -0.916147 -0.420071  0.059545  -0.592456   \n",
       "\n",
       "         V8        V9        V10  ...       V20       V21       V22       V23  \\\n",
       "0  0.756711 -1.765722  -3.263007  ...  0.369663  0.397058  0.141165  0.171985   \n",
       "1 -0.356595 -6.380125 -13.348278  ...  1.002764 -2.366836  1.130955  0.991153   \n",
       "2 -0.092448  0.654035   0.125140  ... -0.567323 -0.084275  0.439982 -0.119047   \n",
       "3 -0.985766 -1.168114  -3.936294  ... -0.178626  1.664119  0.785075  0.068412   \n",
       "4  0.109244  1.363402  -0.279865  ...  0.040632  0.176293  0.439613  0.077999   \n",
       "\n",
       "        V24       V25       V26       V27       V28  normalizedAmount  \n",
       "0  0.394274 -0.444642 -0.263189  0.304703 -0.044362         -0.518233  \n",
       "1 -1.033132 -0.327179  0.634693  2.171905 -1.395288         -0.522556  \n",
       "2 -0.316948  0.376866  0.109228 -0.001400 -0.074179         -0.461310  \n",
       "3  0.778961 -0.863166 -0.006810 -1.065734  1.773326         -0.521778  \n",
       "4  0.287905 -0.296394  0.654480 -0.068849 -0.048382         -0.098980  \n",
       "\n",
       "[5 rows x 29 columns]"
      ]
     },
     "execution_count": 221,
     "metadata": {},
     "output_type": "execute_result"
    }
   ],
   "source": [
    "hidden_data = pd.read_csv('test_no_Class.csv')\n",
    "hidden_data['normalizedAmount'] = StandardScaler().fit_transform(hidden_data['Amount'].values.reshape(-1,1))\n",
    "hidden_data.drop(['Amount', 'Time'], axis=1, inplace=True)\n",
    "hidden_data.head()"
   ]
  },
  {
   "cell_type": "code",
   "execution_count": 222,
   "metadata": {},
   "outputs": [
    {
     "name": "stdout",
     "output_type": "stream",
     "text": [
      "WARNING:tensorflow:Falling back from v2 loop because of error: Failed to find data adapter that can handle input: <class 'pandas.core.frame.DataFrame'>, <class 'NoneType'>\n"
     ]
    }
   ],
   "source": [
    "hidden_pred = np.round(model.predict(hidden_data))"
   ]
  },
  {
   "cell_type": "code",
   "execution_count": 223,
   "metadata": {},
   "outputs": [],
   "source": [
    "with open('T08902201_answer_test.txt','w') as f:\n",
    "    i=0\n",
    "    for pred in hidden_pred:\n",
    "        row = str(int(pred[0])) + '\\n'\n",
    "        i = i + 1\n",
    "        f.write(row)"
   ]
  },
  {
   "cell_type": "markdown",
   "metadata": {},
   "source": [
    "## Decision Tree"
   ]
  },
  {
   "cell_type": "code",
   "execution_count": 224,
   "metadata": {},
   "outputs": [],
   "source": [
    "tree = DecisionTreeClassifier()\n",
    "tree = tree.fit(train_set, train_label)\n",
    "tree_pred = tree.predict(test_set)"
   ]
  },
  {
   "cell_type": "code",
   "execution_count": 225,
   "metadata": {},
   "outputs": [
    {
     "name": "stdout",
     "output_type": "stream",
     "text": [
      "Accuracy: 0.9142857142857143\n",
      "Precision: 0.9777777777777777\n",
      "Recall: 0.8979591836734694\n",
      "F1_score: 0.9361702127659575\n"
     ]
    },
    {
     "data": {
      "image/png": "[encoded data removed]",
      "text/plain": [
       "<Figure size 432x288 with 2 Axes>"
      ]
     },
     "metadata": {
      "needs_background": "light"
     },
     "output_type": "display_data"
    }
   ],
   "source": [
    "# Decision Tree confusion matrix\n",
    "tree_cm = confusion_matrix(test_label, tree_pred)\n",
    "\n",
    "tp = tree_cm[0, 0]; tn = tree_cm[1, 1]\n",
    "fp = tree_cm[1, 0]; fn = tree_cm[0, 1]\n",
    "\n",
    "p = tp/(tp+fp)\n",
    "r = tp/(tp+fn)\n",
    "print(\"Accuracy:\", accuracy_score(test_label, tree_pred))\n",
    "print('Precision:', p)\n",
    "print('Recall:', r)\n",
    "print('F1_score:', (2*p*r)/ (p + r))\n",
    "\n",
    "ax= plt.subplot()\n",
    "matrix = sns.heatmap(tree_cm, annot=True, ax = ax, fmt='d',\n",
    "           xticklabels=['predict=0', 'predict=1'],\n",
    "           yticklabels=['True=1', 'True=0']) #annot=True to annotate cells\n",
    "bottom, top = matrix.get_ylim()\n",
    "matrix.set_ylim(bottom + 0.5, top - 0.5)\n",
    "\n",
    "ax.set_xlabel('Predicted labels')\n",
    "ax.set_ylabel('True labels')\n",
    "ax.set_title('Tree Confusion Matrix')\n",
    "plt.show()"
   ]
  },
  {
   "cell_type": "markdown",
   "metadata": {},
   "source": [
    "## Random forest"
   ]
  },
  {
   "cell_type": "code",
   "execution_count": 226,
   "metadata": {},
   "outputs": [],
   "source": [
    "rf = RandomForestClassifier(n_estimators=100)\n",
    "rf.fit(train_set, train_label)\n",
    "rf_pred = rf.predict(test_set)"
   ]
  },
  {
   "cell_type": "code",
   "execution_count": 227,
   "metadata": {},
   "outputs": [],
   "source": [
    "feature_imp = pd.Series(rf.feature_importances_,index=train_set.columns).sort_values(ascending=False)"
   ]
  },
  {
   "cell_type": "code",
   "execution_count": 228,
   "metadata": {},
   "outputs": [
    {
     "name": "stderr",
     "output_type": "stream",
     "text": [
      "No handles with labels found to put in legend.\n"
     ]
    },
    {
     "data": {
      "image/png": "[encoded data removed]",
      "text/plain": [
       "<Figure size 432x288 with 1 Axes>"
      ]
     },
     "metadata": {
      "needs_background": "light"
     },
     "output_type": "display_data"
    }
   ],
   "source": [
    "# Creating a bar plot\n",
    "sns.barplot(x=feature_imp, y=feature_imp.index)\n",
    "# Add labels to your graph\n",
    "plt.xlabel('Feature Importance Score')\n",
    "plt.ylabel('Features')\n",
    "plt.title(\"Visualizing Important Features\")\n",
    "plt.legend()\n",
    "plt.show()"
   ]
  },
  {
   "cell_type": "code",
   "execution_count": 229,
   "metadata": {},
   "outputs": [
    {
     "name": "stdout",
     "output_type": "stream",
     "text": [
      "Accuracy: 0.9571428571428572\n",
      "Precision: 0.9693877551020408\n",
      "Recall: 0.9693877551020408\n",
      "F1_score: 0.9693877551020408\n"
     ]
    },
    {
     "data": {
      "image/png": "[encoded data removed]",
      "text/plain": [
       "<Figure size 432x288 with 2 Axes>"
      ]
     },
     "metadata": {
      "needs_background": "light"
     },
     "output_type": "display_data"
    }
   ],
   "source": [
    "# Random Forest confusion matrix\n",
    "rf_cm = confusion_matrix(test_label, rf_pred)\n",
    "\n",
    "tp = rf_cm[0, 0]; tn = rf_cm[1, 1]\n",
    "fp = rf_cm[1, 0]; fn = rf_cm[0, 1]\n",
    "\n",
    "p = tp/(tp+fp)\n",
    "r = tp/(tp+fn)\n",
    "print(\"Accuracy:\", accuracy_score(test_label, rf_pred))\n",
    "print('Precision:', p)\n",
    "print('Recall:', r)\n",
    "print('F1_score:', (2*p*r)/ (p + r))\n",
    "\n",
    "ax= plt.subplot()\n",
    "matrix = sns.heatmap(rf_cm, annot=True, ax = ax, fmt='d',\n",
    "           xticklabels=['predict=0', 'predict=1'],\n",
    "           yticklabels=['True=1', 'True=0']) #annot=True to annotate cells\n",
    "bottom, top = matrix.get_ylim()\n",
    "matrix.set_ylim(bottom + 0.5, top - 0.5)\n",
    "\n",
    "ax.set_xlabel('Predicted labels')\n",
    "ax.set_ylabel('True labels')\n",
    "ax.set_title('Random Forest Confusion Matrix')\n",
    "plt.show()"
   ]
  },
  {
   "cell_type": "code",
   "execution_count": null,
   "metadata": {},
   "outputs": [],
   "source": []
  }
 ],
 "metadata": {
  "kernelspec": {
   "display_name": "Python 3",
   "language": "python",
   "name": "python3"
  },
  "language_info": {
   "codemirror_mode": {
    "name": "ipython",
    "version": 3
   },
   "file_extension": ".py",
   "mimetype": "text/x-python",
   "name": "python",
   "nbconvert_exporter": "python",
   "pygments_lexer": "ipython3",
   "version": "3.7.5"
  }
 },
 "nbformat": 4,
 "nbformat_minor": 4
}
