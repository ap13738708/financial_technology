{
 "cells": [
  {
   "cell_type": "code",
   "execution_count": 259,
   "metadata": {},
   "outputs": [],
   "source": [
    "import tensorflow as tf\n",
    "from tensorflow import keras\n",
    "import numpy as np\n",
    "import pandas as pd\n",
    "import matplotlib.pyplot as plt\n",
    "from sklearn.metrics import confusion_matrix\n",
    "from sklearn.model_selection import train_test_split\n",
    "from sklearn.preprocessing import StandardScaler\n",
    "from sklearn.metrics import precision_recall_fscore_support, f1_score, roc_curve, \\\n",
    "auc, precision_recall_curve, accuracy_score\n",
    "from sklearn.tree import DecisionTreeClassifier\n",
    "from sklearn.ensemble import RandomForestClassifier\n",
    "from inspect import signature\n",
    "\n",
    "import seaborn as sns"
   ]
  },
  {
   "cell_type": "code",
   "execution_count": 260,
   "metadata": {},
   "outputs": [
    {
     "name": "stdout",
     "output_type": "stream",
     "text": [
      "2.0.0\n"
     ]
    }
   ],
   "source": [
    "print(tf.version.VERSION)"
   ]
  },
  {
   "cell_type": "code",
   "execution_count": 261,
   "metadata": {},
   "outputs": [],
   "source": [
    "data_all = pd.read_csv('Data.csv')"
   ]
  },
  {
   "cell_type": "code",
   "execution_count": 262,
   "metadata": {},
   "outputs": [
    {
     "data": {
      "text/html": [
       "<div>\n",
       "<style scoped>\n",
       "    .dataframe tbody tr th:only-of-type {\n",
       "        vertical-align: middle;\n",
       "    }\n",
       "\n",
       "    .dataframe tbody tr th {\n",
       "        vertical-align: top;\n",
       "    }\n",
       "\n",
       "    .dataframe thead th {\n",
       "        text-align: right;\n",
       "    }\n",
       "</style>\n",
       "<table border=\"1\" class=\"dataframe\">\n",
       "  <thead>\n",
       "    <tr style=\"text-align: right;\">\n",
       "      <th></th>\n",
       "      <th>Time</th>\n",
       "      <th>V1</th>\n",
       "      <th>V2</th>\n",
       "      <th>V3</th>\n",
       "      <th>V4</th>\n",
       "      <th>V5</th>\n",
       "      <th>V6</th>\n",
       "      <th>V7</th>\n",
       "      <th>V8</th>\n",
       "      <th>V9</th>\n",
       "      <th>...</th>\n",
       "      <th>V21</th>\n",
       "      <th>V22</th>\n",
       "      <th>V23</th>\n",
       "      <th>V24</th>\n",
       "      <th>V25</th>\n",
       "      <th>V26</th>\n",
       "      <th>V27</th>\n",
       "      <th>V28</th>\n",
       "      <th>Amount</th>\n",
       "      <th>Class</th>\n",
       "    </tr>\n",
       "  </thead>\n",
       "  <tbody>\n",
       "    <tr>\n",
       "      <th>0</th>\n",
       "      <td>127459.0</td>\n",
       "      <td>-0.489190</td>\n",
       "      <td>0.783289</td>\n",
       "      <td>-1.659097</td>\n",
       "      <td>-1.366814</td>\n",
       "      <td>2.576846</td>\n",
       "      <td>3.513254</td>\n",
       "      <td>0.271305</td>\n",
       "      <td>1.304641</td>\n",
       "      <td>-0.238853</td>\n",
       "      <td>...</td>\n",
       "      <td>-0.058456</td>\n",
       "      <td>-0.214896</td>\n",
       "      <td>0.222998</td>\n",
       "      <td>0.675950</td>\n",
       "      <td>-0.632860</td>\n",
       "      <td>-0.530017</td>\n",
       "      <td>0.345872</td>\n",
       "      <td>0.221294</td>\n",
       "      <td>53.70</td>\n",
       "      <td>0</td>\n",
       "    </tr>\n",
       "    <tr>\n",
       "      <th>1</th>\n",
       "      <td>128505.0</td>\n",
       "      <td>1.293556</td>\n",
       "      <td>-1.302381</td>\n",
       "      <td>-2.241085</td>\n",
       "      <td>0.393974</td>\n",
       "      <td>0.680825</td>\n",
       "      <td>0.821662</td>\n",
       "      <td>0.501478</td>\n",
       "      <td>0.104208</td>\n",
       "      <td>0.111651</td>\n",
       "      <td>...</td>\n",
       "      <td>0.359432</td>\n",
       "      <td>0.443179</td>\n",
       "      <td>-0.230091</td>\n",
       "      <td>-1.583791</td>\n",
       "      <td>-0.157257</td>\n",
       "      <td>0.477317</td>\n",
       "      <td>-0.104101</td>\n",
       "      <td>-0.039292</td>\n",
       "      <td>347.90</td>\n",
       "      <td>0</td>\n",
       "    </tr>\n",
       "    <tr>\n",
       "      <th>2</th>\n",
       "      <td>128393.0</td>\n",
       "      <td>-0.755894</td>\n",
       "      <td>0.121305</td>\n",
       "      <td>0.852314</td>\n",
       "      <td>-2.303416</td>\n",
       "      <td>-0.233670</td>\n",
       "      <td>-0.244191</td>\n",
       "      <td>-0.285440</td>\n",
       "      <td>0.424009</td>\n",
       "      <td>-1.072689</td>\n",
       "      <td>...</td>\n",
       "      <td>0.438709</td>\n",
       "      <td>1.034433</td>\n",
       "      <td>-0.232698</td>\n",
       "      <td>0.531213</td>\n",
       "      <td>0.100623</td>\n",
       "      <td>-0.203575</td>\n",
       "      <td>-0.007693</td>\n",
       "      <td>0.050117</td>\n",
       "      <td>24.99</td>\n",
       "      <td>0</td>\n",
       "    </tr>\n",
       "    <tr>\n",
       "      <th>3</th>\n",
       "      <td>128738.0</td>\n",
       "      <td>2.038750</td>\n",
       "      <td>-0.159488</td>\n",
       "      <td>-1.096570</td>\n",
       "      <td>0.425224</td>\n",
       "      <td>-0.214944</td>\n",
       "      <td>-1.151940</td>\n",
       "      <td>0.107112</td>\n",
       "      <td>-0.250273</td>\n",
       "      <td>0.701067</td>\n",
       "      <td>...</td>\n",
       "      <td>-0.291320</td>\n",
       "      <td>-0.766838</td>\n",
       "      <td>0.353433</td>\n",
       "      <td>-0.042129</td>\n",
       "      <td>-0.352271</td>\n",
       "      <td>0.203878</td>\n",
       "      <td>-0.075910</td>\n",
       "      <td>-0.061540</td>\n",
       "      <td>8.99</td>\n",
       "      <td>0</td>\n",
       "    </tr>\n",
       "    <tr>\n",
       "      <th>4</th>\n",
       "      <td>140293.0</td>\n",
       "      <td>0.951025</td>\n",
       "      <td>3.252926</td>\n",
       "      <td>-5.039105</td>\n",
       "      <td>4.632411</td>\n",
       "      <td>3.014501</td>\n",
       "      <td>-1.349570</td>\n",
       "      <td>0.980940</td>\n",
       "      <td>-1.819539</td>\n",
       "      <td>-2.099049</td>\n",
       "      <td>...</td>\n",
       "      <td>1.404524</td>\n",
       "      <td>-0.760549</td>\n",
       "      <td>0.358292</td>\n",
       "      <td>-1.185942</td>\n",
       "      <td>-1.286177</td>\n",
       "      <td>0.000365</td>\n",
       "      <td>0.169662</td>\n",
       "      <td>0.108276</td>\n",
       "      <td>0.77</td>\n",
       "      <td>1</td>\n",
       "    </tr>\n",
       "  </tbody>\n",
       "</table>\n",
       "<p>5 rows × 31 columns</p>\n",
       "</div>"
      ],
      "text/plain": [
       "       Time        V1        V2        V3        V4        V5        V6  \\\n",
       "0  127459.0 -0.489190  0.783289 -1.659097 -1.366814  2.576846  3.513254   \n",
       "1  128505.0  1.293556 -1.302381 -2.241085  0.393974  0.680825  0.821662   \n",
       "2  128393.0 -0.755894  0.121305  0.852314 -2.303416 -0.233670 -0.244191   \n",
       "3  128738.0  2.038750 -0.159488 -1.096570  0.425224 -0.214944 -1.151940   \n",
       "4  140293.0  0.951025  3.252926 -5.039105  4.632411  3.014501 -1.349570   \n",
       "\n",
       "         V7        V8        V9  ...       V21       V22       V23       V24  \\\n",
       "0  0.271305  1.304641 -0.238853  ... -0.058456 -0.214896  0.222998  0.675950   \n",
       "1  0.501478  0.104208  0.111651  ...  0.359432  0.443179 -0.230091 -1.583791   \n",
       "2 -0.285440  0.424009 -1.072689  ...  0.438709  1.034433 -0.232698  0.531213   \n",
       "3  0.107112 -0.250273  0.701067  ... -0.291320 -0.766838  0.353433 -0.042129   \n",
       "4  0.980940 -1.819539 -2.099049  ...  1.404524 -0.760549  0.358292 -1.185942   \n",
       "\n",
       "        V25       V26       V27       V28  Amount  Class  \n",
       "0 -0.632860 -0.530017  0.345872  0.221294   53.70      0  \n",
       "1 -0.157257  0.477317 -0.104101 -0.039292  347.90      0  \n",
       "2  0.100623 -0.203575 -0.007693  0.050117   24.99      0  \n",
       "3 -0.352271  0.203878 -0.075910 -0.061540    8.99      0  \n",
       "4 -1.286177  0.000365  0.169662  0.108276    0.77      1  \n",
       "\n",
       "[5 rows x 31 columns]"
      ]
     },
     "execution_count": 262,
     "metadata": {},
     "output_type": "execute_result"
    }
   ],
   "source": [
    "data_all.head()"
   ]
  },
  {
   "cell_type": "code",
   "execution_count": 263,
   "metadata": {},
   "outputs": [],
   "source": [
    "data_all['normalizedAmount'] = StandardScaler().fit_transform(data_all['Amount'].values.reshape(-1,1))\n",
    "data_all.drop(['Amount', 'Time'], axis=1, inplace=True)"
   ]
  },
  {
   "cell_type": "code",
   "execution_count": 264,
   "metadata": {},
   "outputs": [
    {
     "data": {
      "text/html": [
       "<div>\n",
       "<style scoped>\n",
       "    .dataframe tbody tr th:only-of-type {\n",
       "        vertical-align: middle;\n",
       "    }\n",
       "\n",
       "    .dataframe tbody tr th {\n",
       "        vertical-align: top;\n",
       "    }\n",
       "\n",
       "    .dataframe thead th {\n",
       "        text-align: right;\n",
       "    }\n",
       "</style>\n",
       "<table border=\"1\" class=\"dataframe\">\n",
       "  <thead>\n",
       "    <tr style=\"text-align: right;\">\n",
       "      <th></th>\n",
       "      <th>V1</th>\n",
       "      <th>V2</th>\n",
       "      <th>V3</th>\n",
       "      <th>V4</th>\n",
       "      <th>V5</th>\n",
       "      <th>V6</th>\n",
       "      <th>V7</th>\n",
       "      <th>V8</th>\n",
       "      <th>V9</th>\n",
       "      <th>V10</th>\n",
       "      <th>...</th>\n",
       "      <th>V21</th>\n",
       "      <th>V22</th>\n",
       "      <th>V23</th>\n",
       "      <th>V24</th>\n",
       "      <th>V25</th>\n",
       "      <th>V26</th>\n",
       "      <th>V27</th>\n",
       "      <th>V28</th>\n",
       "      <th>Class</th>\n",
       "      <th>normalizedAmount</th>\n",
       "    </tr>\n",
       "  </thead>\n",
       "  <tbody>\n",
       "    <tr>\n",
       "      <th>0</th>\n",
       "      <td>-0.489190</td>\n",
       "      <td>0.783289</td>\n",
       "      <td>-1.659097</td>\n",
       "      <td>-1.366814</td>\n",
       "      <td>2.576846</td>\n",
       "      <td>3.513254</td>\n",
       "      <td>0.271305</td>\n",
       "      <td>1.304641</td>\n",
       "      <td>-0.238853</td>\n",
       "      <td>-0.730979</td>\n",
       "      <td>...</td>\n",
       "      <td>-0.058456</td>\n",
       "      <td>-0.214896</td>\n",
       "      <td>0.222998</td>\n",
       "      <td>0.675950</td>\n",
       "      <td>-0.632860</td>\n",
       "      <td>-0.530017</td>\n",
       "      <td>0.345872</td>\n",
       "      <td>0.221294</td>\n",
       "      <td>0</td>\n",
       "      <td>-0.205108</td>\n",
       "    </tr>\n",
       "    <tr>\n",
       "      <th>1</th>\n",
       "      <td>1.293556</td>\n",
       "      <td>-1.302381</td>\n",
       "      <td>-2.241085</td>\n",
       "      <td>0.393974</td>\n",
       "      <td>0.680825</td>\n",
       "      <td>0.821662</td>\n",
       "      <td>0.501478</td>\n",
       "      <td>0.104208</td>\n",
       "      <td>0.111651</td>\n",
       "      <td>0.087403</td>\n",
       "      <td>...</td>\n",
       "      <td>0.359432</td>\n",
       "      <td>0.443179</td>\n",
       "      <td>-0.230091</td>\n",
       "      <td>-1.583791</td>\n",
       "      <td>-0.157257</td>\n",
       "      <td>0.477317</td>\n",
       "      <td>-0.104101</td>\n",
       "      <td>-0.039292</td>\n",
       "      <td>0</td>\n",
       "      <td>0.814352</td>\n",
       "    </tr>\n",
       "    <tr>\n",
       "      <th>2</th>\n",
       "      <td>-0.755894</td>\n",
       "      <td>0.121305</td>\n",
       "      <td>0.852314</td>\n",
       "      <td>-2.303416</td>\n",
       "      <td>-0.233670</td>\n",
       "      <td>-0.244191</td>\n",
       "      <td>-0.285440</td>\n",
       "      <td>0.424009</td>\n",
       "      <td>-1.072689</td>\n",
       "      <td>-0.548953</td>\n",
       "      <td>...</td>\n",
       "      <td>0.438709</td>\n",
       "      <td>1.034433</td>\n",
       "      <td>-0.232698</td>\n",
       "      <td>0.531213</td>\n",
       "      <td>0.100623</td>\n",
       "      <td>-0.203575</td>\n",
       "      <td>-0.007693</td>\n",
       "      <td>0.050117</td>\n",
       "      <td>0</td>\n",
       "      <td>-0.304594</td>\n",
       "    </tr>\n",
       "    <tr>\n",
       "      <th>3</th>\n",
       "      <td>2.038750</td>\n",
       "      <td>-0.159488</td>\n",
       "      <td>-1.096570</td>\n",
       "      <td>0.425224</td>\n",
       "      <td>-0.214944</td>\n",
       "      <td>-1.151940</td>\n",
       "      <td>0.107112</td>\n",
       "      <td>-0.250273</td>\n",
       "      <td>0.701067</td>\n",
       "      <td>0.092863</td>\n",
       "      <td>...</td>\n",
       "      <td>-0.291320</td>\n",
       "      <td>-0.766838</td>\n",
       "      <td>0.353433</td>\n",
       "      <td>-0.042129</td>\n",
       "      <td>-0.352271</td>\n",
       "      <td>0.203878</td>\n",
       "      <td>-0.075910</td>\n",
       "      <td>-0.061540</td>\n",
       "      <td>0</td>\n",
       "      <td>-0.360037</td>\n",
       "    </tr>\n",
       "    <tr>\n",
       "      <th>4</th>\n",
       "      <td>0.951025</td>\n",
       "      <td>3.252926</td>\n",
       "      <td>-5.039105</td>\n",
       "      <td>4.632411</td>\n",
       "      <td>3.014501</td>\n",
       "      <td>-1.349570</td>\n",
       "      <td>0.980940</td>\n",
       "      <td>-1.819539</td>\n",
       "      <td>-2.099049</td>\n",
       "      <td>-1.347557</td>\n",
       "      <td>...</td>\n",
       "      <td>1.404524</td>\n",
       "      <td>-0.760549</td>\n",
       "      <td>0.358292</td>\n",
       "      <td>-1.185942</td>\n",
       "      <td>-1.286177</td>\n",
       "      <td>0.000365</td>\n",
       "      <td>0.169662</td>\n",
       "      <td>0.108276</td>\n",
       "      <td>1</td>\n",
       "      <td>-0.388521</td>\n",
       "    </tr>\n",
       "  </tbody>\n",
       "</table>\n",
       "<p>5 rows × 30 columns</p>\n",
       "</div>"
      ],
      "text/plain": [
       "         V1        V2        V3        V4        V5        V6        V7  \\\n",
       "0 -0.489190  0.783289 -1.659097 -1.366814  2.576846  3.513254  0.271305   \n",
       "1  1.293556 -1.302381 -2.241085  0.393974  0.680825  0.821662  0.501478   \n",
       "2 -0.755894  0.121305  0.852314 -2.303416 -0.233670 -0.244191 -0.285440   \n",
       "3  2.038750 -0.159488 -1.096570  0.425224 -0.214944 -1.151940  0.107112   \n",
       "4  0.951025  3.252926 -5.039105  4.632411  3.014501 -1.349570  0.980940   \n",
       "\n",
       "         V8        V9       V10  ...       V21       V22       V23       V24  \\\n",
       "0  1.304641 -0.238853 -0.730979  ... -0.058456 -0.214896  0.222998  0.675950   \n",
       "1  0.104208  0.111651  0.087403  ...  0.359432  0.443179 -0.230091 -1.583791   \n",
       "2  0.424009 -1.072689 -0.548953  ...  0.438709  1.034433 -0.232698  0.531213   \n",
       "3 -0.250273  0.701067  0.092863  ... -0.291320 -0.766838  0.353433 -0.042129   \n",
       "4 -1.819539 -2.099049 -1.347557  ...  1.404524 -0.760549  0.358292 -1.185942   \n",
       "\n",
       "        V25       V26       V27       V28  Class  normalizedAmount  \n",
       "0 -0.632860 -0.530017  0.345872  0.221294      0         -0.205108  \n",
       "1 -0.157257  0.477317 -0.104101 -0.039292      0          0.814352  \n",
       "2  0.100623 -0.203575 -0.007693  0.050117      0         -0.304594  \n",
       "3 -0.352271  0.203878 -0.075910 -0.061540      0         -0.360037  \n",
       "4 -1.286177  0.000365  0.169662  0.108276      1         -0.388521  \n",
       "\n",
       "[5 rows x 30 columns]"
      ]
     },
     "execution_count": 264,
     "metadata": {},
     "output_type": "execute_result"
    }
   ],
   "source": [
    "data_all.head()"
   ]
  },
  {
   "cell_type": "code",
   "execution_count": 265,
   "metadata": {},
   "outputs": [],
   "source": [
    "train = data_all.drop(['Class'], axis=1)\n",
    "label = data_all['Class']"
   ]
  },
  {
   "cell_type": "code",
   "execution_count": 266,
   "metadata": {},
   "outputs": [],
   "source": [
    "train_set, test_set, train_label, test_label = train_test_split(train, label, test_size=0.2)\n"
   ]
  },
  {
   "cell_type": "code",
   "execution_count": 267,
   "metadata": {},
   "outputs": [
    {
     "name": "stdout",
     "output_type": "stream",
     "text": [
      "1120 train examples\n",
      "280 test examples\n"
     ]
    }
   ],
   "source": [
    "print(len(train_set), 'train examples') \n",
    "print(len(test_set), 'test examples') "
   ]
  },
  {
   "cell_type": "markdown",
   "metadata": {},
   "source": [
    "no. of hidden layers, no. of hidden units, learning rate, \n",
    "no. of iterations and mini-batch size"
   ]
  },
  {
   "cell_type": "markdown",
   "metadata": {},
   "source": [
    "## DNN "
   ]
  },
  {
   "cell_type": "code",
   "execution_count": 322,
   "metadata": {},
   "outputs": [],
   "source": [
    "model = keras.Sequential([\n",
    "    keras.layers.Dense(29, activation='relu', input_shape=(29,)),\n",
    "    keras.layers.Dense(32, activation='relu'), # --> dense mean fully connected layer\n",
    "    keras.layers.Dense(1, activation='sigmoid')\n",
    "])\n",
    "adam = keras.optimizers.Adam(learning_rate=0.001)\n",
    "model.compile(optimizer=adam, loss='binary_crossentropy',\n",
    "             metrics=['accuracy'])"
   ]
  },
  {
   "cell_type": "code",
   "execution_count": 323,
   "metadata": {
    "collapsed": true,
    "jupyter": {
     "outputs_hidden": true
    }
   },
   "outputs": [
    {
     "name": "stdout",
     "output_type": "stream",
     "text": [
      "WARNING:tensorflow:Falling back from v2 loop because of error: Failed to find data adapter that can handle input: <class 'pandas.core.frame.DataFrame'>, <class 'NoneType'>\n",
      "Train on 896 samples, validate on 224 samples\n",
      "Epoch 1/50\n",
      "896/896 [==============================] - 1s 725us/sample - loss: 0.4982 - accuracy: 0.8069 - val_loss: 0.3086 - val_accuracy: 0.9554\n",
      "Epoch 2/50\n",
      "896/896 [==============================] - 0s 137us/sample - loss: 0.2819 - accuracy: 0.9353 - val_loss: 0.1820 - val_accuracy: 0.9598\n",
      "Epoch 3/50\n",
      "896/896 [==============================] - 0s 122us/sample - loss: 0.2005 - accuracy: 0.9442 - val_loss: 0.1389 - val_accuracy: 0.9688\n",
      "Epoch 4/50\n",
      "896/896 [==============================] - 0s 113us/sample - loss: 0.1616 - accuracy: 0.9464 - val_loss: 0.1190 - val_accuracy: 0.9688\n",
      "Epoch 5/50\n",
      "896/896 [==============================] - 0s 115us/sample - loss: 0.1375 - accuracy: 0.9487 - val_loss: 0.1129 - val_accuracy: 0.9688\n",
      "Epoch 6/50\n",
      "896/896 [==============================] - 0s 143us/sample - loss: 0.1217 - accuracy: 0.9565 - val_loss: 0.1085 - val_accuracy: 0.9732\n",
      "Epoch 7/50\n",
      "896/896 [==============================] - 0s 151us/sample - loss: 0.1109 - accuracy: 0.9598 - val_loss: 0.1070 - val_accuracy: 0.9732\n",
      "Epoch 8/50\n",
      "896/896 [==============================] - 0s 131us/sample - loss: 0.1028 - accuracy: 0.9632 - val_loss: 0.1062 - val_accuracy: 0.9732\n",
      "Epoch 9/50\n",
      "896/896 [==============================] - 0s 127us/sample - loss: 0.0957 - accuracy: 0.9632 - val_loss: 0.1065 - val_accuracy: 0.9732\n",
      "Epoch 10/50\n",
      "896/896 [==============================] - 0s 132us/sample - loss: 0.0893 - accuracy: 0.9665 - val_loss: 0.1064 - val_accuracy: 0.9688\n",
      "Epoch 11/50\n",
      "896/896 [==============================] - 0s 130us/sample - loss: 0.0837 - accuracy: 0.9710 - val_loss: 0.1077 - val_accuracy: 0.9688\n",
      "Epoch 12/50\n",
      "896/896 [==============================] - 0s 137us/sample - loss: 0.0781 - accuracy: 0.9721 - val_loss: 0.1083 - val_accuracy: 0.9688\n",
      "Epoch 13/50\n",
      "896/896 [==============================] - 0s 140us/sample - loss: 0.0749 - accuracy: 0.9743 - val_loss: 0.1087 - val_accuracy: 0.9688\n",
      "Epoch 14/50\n",
      "896/896 [==============================] - 0s 139us/sample - loss: 0.0696 - accuracy: 0.9788 - val_loss: 0.1103 - val_accuracy: 0.9688\n",
      "Epoch 15/50\n",
      "896/896 [==============================] - 0s 138us/sample - loss: 0.0657 - accuracy: 0.9788 - val_loss: 0.1133 - val_accuracy: 0.9688\n",
      "Epoch 16/50\n",
      "896/896 [==============================] - 0s 126us/sample - loss: 0.0611 - accuracy: 0.9777 - val_loss: 0.1137 - val_accuracy: 0.9688\n",
      "Epoch 17/50\n",
      "896/896 [==============================] - 0s 142us/sample - loss: 0.0579 - accuracy: 0.9777 - val_loss: 0.1156 - val_accuracy: 0.9688\n",
      "Epoch 18/50\n",
      "896/896 [==============================] - 0s 133us/sample - loss: 0.0535 - accuracy: 0.9799 - val_loss: 0.1190 - val_accuracy: 0.9688\n",
      "Epoch 19/50\n",
      "896/896 [==============================] - 0s 136us/sample - loss: 0.0501 - accuracy: 0.9810 - val_loss: 0.1207 - val_accuracy: 0.9688\n",
      "Epoch 20/50\n",
      "896/896 [==============================] - 0s 133us/sample - loss: 0.0476 - accuracy: 0.9810 - val_loss: 0.1188 - val_accuracy: 0.9732\n",
      "Epoch 21/50\n",
      "896/896 [==============================] - 0s 129us/sample - loss: 0.0434 - accuracy: 0.9855 - val_loss: 0.1256 - val_accuracy: 0.9732\n",
      "Epoch 22/50\n",
      "896/896 [==============================] - 0s 135us/sample - loss: 0.0417 - accuracy: 0.9855 - val_loss: 0.1207 - val_accuracy: 0.9732\n",
      "Epoch 23/50\n",
      "896/896 [==============================] - 0s 141us/sample - loss: 0.0386 - accuracy: 0.9866 - val_loss: 0.1284 - val_accuracy: 0.9732\n",
      "Epoch 24/50\n",
      "896/896 [==============================] - 0s 135us/sample - loss: 0.0371 - accuracy: 0.9866 - val_loss: 0.1296 - val_accuracy: 0.9732\n",
      "Epoch 25/50\n",
      "896/896 [==============================] - 0s 146us/sample - loss: 0.0332 - accuracy: 0.9877 - val_loss: 0.1302 - val_accuracy: 0.9732\n",
      "Epoch 26/50\n",
      "896/896 [==============================] - 0s 137us/sample - loss: 0.0310 - accuracy: 0.9888 - val_loss: 0.1305 - val_accuracy: 0.9732\n",
      "Epoch 27/50\n",
      "896/896 [==============================] - 0s 137us/sample - loss: 0.0297 - accuracy: 0.9911 - val_loss: 0.1348 - val_accuracy: 0.9732\n",
      "Epoch 28/50\n",
      "896/896 [==============================] - 0s 133us/sample - loss: 0.0274 - accuracy: 0.9911 - val_loss: 0.1423 - val_accuracy: 0.9732\n",
      "Epoch 29/50\n",
      "896/896 [==============================] - 0s 116us/sample - loss: 0.0245 - accuracy: 0.9911 - val_loss: 0.1352 - val_accuracy: 0.9732\n",
      "Epoch 30/50\n",
      "896/896 [==============================] - 0s 111us/sample - loss: 0.0230 - accuracy: 0.9911 - val_loss: 0.1422 - val_accuracy: 0.9732\n",
      "Epoch 31/50\n",
      "896/896 [==============================] - 0s 111us/sample - loss: 0.0208 - accuracy: 0.9944 - val_loss: 0.1429 - val_accuracy: 0.9732\n",
      "Epoch 32/50\n",
      "896/896 [==============================] - 0s 109us/sample - loss: 0.0191 - accuracy: 0.9933 - val_loss: 0.1446 - val_accuracy: 0.9732\n",
      "Epoch 33/50\n",
      "896/896 [==============================] - 0s 110us/sample - loss: 0.0179 - accuracy: 0.9967 - val_loss: 0.1492 - val_accuracy: 0.9732\n",
      "Epoch 34/50\n",
      "896/896 [==============================] - 0s 109us/sample - loss: 0.0162 - accuracy: 0.9989 - val_loss: 0.1552 - val_accuracy: 0.9688\n",
      "Epoch 35/50\n",
      "896/896 [==============================] - 0s 106us/sample - loss: 0.0154 - accuracy: 0.9967 - val_loss: 0.1541 - val_accuracy: 0.9732\n",
      "Epoch 36/50\n",
      "896/896 [==============================] - 0s 113us/sample - loss: 0.0139 - accuracy: 1.0000 - val_loss: 0.1557 - val_accuracy: 0.9732\n",
      "Epoch 37/50\n",
      "896/896 [==============================] - 0s 141us/sample - loss: 0.0127 - accuracy: 1.0000 - val_loss: 0.1675 - val_accuracy: 0.9688\n",
      "Epoch 38/50\n",
      "896/896 [==============================] - 0s 124us/sample - loss: 0.0122 - accuracy: 0.9989 - val_loss: 0.1617 - val_accuracy: 0.9732\n",
      "Epoch 39/50\n",
      "896/896 [==============================] - 0s 108us/sample - loss: 0.0114 - accuracy: 0.9989 - val_loss: 0.1613 - val_accuracy: 0.9732\n",
      "Epoch 40/50\n",
      "896/896 [==============================] - 0s 111us/sample - loss: 0.0101 - accuracy: 1.0000 - val_loss: 0.1706 - val_accuracy: 0.9732\n",
      "Epoch 41/50\n",
      "896/896 [==============================] - 0s 114us/sample - loss: 0.0091 - accuracy: 1.0000 - val_loss: 0.1702 - val_accuracy: 0.9732\n",
      "Epoch 42/50\n",
      "896/896 [==============================] - 0s 113us/sample - loss: 0.0082 - accuracy: 1.0000 - val_loss: 0.1688 - val_accuracy: 0.9732\n",
      "Epoch 43/50\n",
      "896/896 [==============================] - 0s 117us/sample - loss: 0.0077 - accuracy: 1.0000 - val_loss: 0.1729 - val_accuracy: 0.9732\n",
      "Epoch 44/50\n",
      "896/896 [==============================] - 0s 119us/sample - loss: 0.0072 - accuracy: 1.0000 - val_loss: 0.1781 - val_accuracy: 0.9732\n",
      "Epoch 45/50\n",
      "896/896 [==============================] - 0s 118us/sample - loss: 0.0065 - accuracy: 1.0000 - val_loss: 0.1837 - val_accuracy: 0.9732\n",
      "Epoch 46/50\n",
      "896/896 [==============================] - 0s 138us/sample - loss: 0.0059 - accuracy: 1.0000 - val_loss: 0.1799 - val_accuracy: 0.9732\n",
      "Epoch 47/50\n",
      "896/896 [==============================] - 0s 116us/sample - loss: 0.0056 - accuracy: 1.0000 - val_loss: 0.1828 - val_accuracy: 0.9732\n",
      "Epoch 48/50\n",
      "896/896 [==============================] - 0s 110us/sample - loss: 0.0050 - accuracy: 1.0000 - val_loss: 0.1958 - val_accuracy: 0.9688\n",
      "Epoch 49/50\n",
      "896/896 [==============================] - 0s 111us/sample - loss: 0.0048 - accuracy: 1.0000 - val_loss: 0.1957 - val_accuracy: 0.9732\n",
      "Epoch 50/50\n",
      "896/896 [==============================] - 0s 124us/sample - loss: 0.0043 - accuracy: 1.0000 - val_loss: 0.2032 - val_accuracy: 0.9688\n"
     ]
    }
   ],
   "source": [
    "history = model.fit(train_set, train_label, batch_size=16, epochs=50, validation_split=0.2)"
   ]
  },
  {
   "cell_type": "code",
   "execution_count": 324,
   "metadata": {},
   "outputs": [
    {
     "name": "stdout",
     "output_type": "stream",
     "text": [
      "WARNING:tensorflow:Falling back from v2 loop because of error: Failed to find data adapter that can handle input: <class 'pandas.core.frame.DataFrame'>, <class 'NoneType'>\n",
      "1120/1120 [==============================] - 0s 30us/sample - loss: 0.0439 - accuracy: 0.9937\n",
      "Trained Acc:  0.99375\n",
      "Trained Loss:  0.04387959817353736\n"
     ]
    }
   ],
   "source": [
    "train_loss, train_acc  = model.evaluate(train_set, train_label)\n",
    "print('Trained Acc: ', train_acc)\n",
    "print('Trained Loss: ', train_loss)"
   ]
  },
  {
   "cell_type": "code",
   "execution_count": 325,
   "metadata": {},
   "outputs": [
    {
     "name": "stdout",
     "output_type": "stream",
     "text": [
      "WARNING:tensorflow:Falling back from v2 loop because of error: Failed to find data adapter that can handle input: <class 'pandas.core.frame.DataFrame'>, <class 'NoneType'>\n",
      "280/280 [==============================] - 0s 38us/sample - loss: 0.2783 - accuracy: 0.9500\n",
      "Tested Acc:  0.95\n",
      "Tested Loss:  0.27826649671021314\n"
     ]
    }
   ],
   "source": [
    "test_loss, test_acc  = model.evaluate(test_set, test_label)\n",
    "print('Tested Acc: ', test_acc)\n",
    "print('Tested Loss: ', test_loss)"
   ]
  },
  {
   "cell_type": "code",
   "execution_count": 326,
   "metadata": {},
   "outputs": [
    {
     "data": {
      "image/png": "[encoded data removed]",
      "text/plain": [
       "<Figure size 432x288 with 1 Axes>"
      ]
     },
     "metadata": {
      "needs_background": "light"
     },
     "output_type": "display_data"
    },
    {
     "data": {
      "image/png": "[encoded data removed]",
      "text/plain": [
       "<Figure size 432x288 with 1 Axes>"
      ]
     },
     "metadata": {
      "needs_background": "light"
     },
     "output_type": "display_data"
    }
   ],
   "source": [
    "# Plot training & validation accuracy values\n",
    "plt.plot(history.history['accuracy'])\n",
    "plt.plot(history.history['val_accuracy'])\n",
    "plt.title('Model accuracy')\n",
    "plt.ylabel('Accuracy')\n",
    "plt.xlabel('Epoch')\n",
    "plt.legend(['Train', 'Validation'], loc='upper left')\n",
    "plt.show()\n",
    "\n",
    "# Plot training & validation loss values\n",
    "plt.plot(history.history['loss'])\n",
    "plt.plot(history.history['val_loss'])\n",
    "plt.title('Model loss')\n",
    "plt.ylabel('Loss')\n",
    "plt.xlabel('Epoch')\n",
    "plt.legend(['Train', 'Validation'], loc='upper left')\n",
    "plt.show()"
   ]
  },
  {
   "cell_type": "code",
   "execution_count": 327,
   "metadata": {},
   "outputs": [
    {
     "name": "stdout",
     "output_type": "stream",
     "text": [
      "WARNING:tensorflow:Falling back from v2 loop because of error: Failed to find data adapter that can handle input: <class 'pandas.core.frame.DataFrame'>, <class 'NoneType'>\n"
     ]
    }
   ],
   "source": [
    "# train confusion matrix\n",
    "train_pred = np.round(model.predict(train_set)) ## ??!!\n",
    "cm_train = confusion_matrix(train_label, train_pred)"
   ]
  },
  {
   "cell_type": "code",
   "execution_count": 328,
   "metadata": {},
   "outputs": [
    {
     "data": {
      "text/plain": [
       "Text(0.5, 1, 'Train Confusion Matrix')"
      ]
     },
     "execution_count": 328,
     "metadata": {},
     "output_type": "execute_result"
    },
    {
     "data": {
      "image/png": "[encoded data removed]",
      "text/plain": [
       "<Figure size 432x288 with 2 Axes>"
      ]
     },
     "metadata": {
      "needs_background": "light"
     },
     "output_type": "display_data"
    }
   ],
   "source": [
    "ax= plt.subplot()\n",
    "matrix = sns.heatmap(cm_train, annot=True, ax = ax, fmt='d',\n",
    "           xticklabels=['predict=0', 'predict=1'],\n",
    "           yticklabels=['True=0', 'True=1']) #annot=True to annotate cells\n",
    "bottom, top = matrix.get_ylim()\n",
    "matrix.set_ylim(bottom + 0.5, top - 0.5)\n",
    "\n",
    "ax.set_xlabel('Predicted labels')\n",
    "ax.set_ylabel('True labels')\n",
    "ax.set_title('Train Confusion Matrix')"
   ]
  },
  {
   "cell_type": "code",
   "execution_count": 293,
   "metadata": {},
   "outputs": [
    {
     "name": "stdout",
     "output_type": "stream",
     "text": [
      "WARNING:tensorflow:Falling back from v2 loop because of error: Failed to find data adapter that can handle input: <class 'pandas.core.frame.DataFrame'>, <class 'NoneType'>\n"
     ]
    }
   ],
   "source": [
    "# validation confusion matrix\n",
    "test_pred = np.round(model.predict(test_set)) ## ??!!\n",
    "cm_test = confusion_matrix(test_label, test_pred)"
   ]
  },
  {
   "cell_type": "code",
   "execution_count": 294,
   "metadata": {},
   "outputs": [
    {
     "data": {
      "text/plain": [
       "Text(0.5, 1, 'Validation Confusion Matrix')"
      ]
     },
     "execution_count": 294,
     "metadata": {},
     "output_type": "execute_result"
    },
    {
     "data": {
      "image/png": "[encoded data removed]",
      "text/plain": [
       "<Figure size 432x288 with 2 Axes>"
      ]
     },
     "metadata": {
      "needs_background": "light"
     },
     "output_type": "display_data"
    }
   ],
   "source": [
    "ax2= plt.subplot()\n",
    "matrix2 = sns.heatmap(cm_test, annot=True, ax = ax2, fmt='d',\n",
    "           xticklabels=['predict=0', 'predict=1'],\n",
    "           yticklabels=['True=0', 'True=1']) #annot=True to annotate cells\n",
    "bottom, top = matrix2.get_ylim()\n",
    "matrix2.set_ylim(bottom + 0.5, top - 0.5)\n",
    "\n",
    "ax2.set_xlabel('Predicted labels')\n",
    "ax2.set_ylabel('True labels')\n",
    "ax2.set_title('Validation Confusion Matrix')"
   ]
  },
  {
   "cell_type": "code",
   "execution_count": 277,
   "metadata": {},
   "outputs": [
    {
     "name": "stdout",
     "output_type": "stream",
     "text": [
      "\u001b[1mClass 0\u001b[0m\n",
      "Precision:  0.9523809523809523\n",
      "Recall:  0.9782608695652174\n",
      "F-score:  0.9651474530831099\n",
      "\u001b[1mClass 1\u001b[0m\n",
      "Precision:  0.9560439560439561\n",
      "Recall:  0.90625\n",
      "F-score:  0.9304812834224598\n",
      "\u001b[1mAverage\u001b[0m\n",
      "Precision:  0.9542124542124542\n",
      "Recall:  0.9422554347826086\n",
      "F-score:  0.9478143682527849\n"
     ]
    }
   ],
   "source": [
    "precision, recall, fscore, _= precision_recall_fscore_support(test_label, test_pred)\n",
    "print('\\033[1mClass 0\\033[0m')\n",
    "print('Precision: ', precision[0])\n",
    "print('Recall: ', recall[0])\n",
    "print('F-score: ', fscore[0])\n",
    "print('\\033[1mClass 1\\033[0m')\n",
    "print('Precision: ', precision[1])\n",
    "print('Recall: ', recall[1])\n",
    "print('F-score: ', fscore[1])\n",
    "print('\\033[1mAverage\\033[0m')\n",
    "print('Precision: ', np.average(precision))\n",
    "print('Recall: ', np.average(recall))\n",
    "print('F-score: ', np.average(fscore))"
   ]
  },
  {
   "cell_type": "code",
   "execution_count": 278,
   "metadata": {},
   "outputs": [
    {
     "data": {
      "image/png": "[encoded data removed]",
      "text/plain": [
       "<Figure size 432x288 with 1 Axes>"
      ]
     },
     "metadata": {
      "needs_background": "light"
     },
     "output_type": "display_data"
    }
   ],
   "source": [
    "# ROC curve plot\n",
    "fpr, tpr, _ = roc_curve(test_label, test_pred)\n",
    "roc_auc = auc(fpr, tpr)\n",
    "\n",
    "plt.figure()\n",
    "plt.plot(fpr, tpr, color='darkorange',\n",
    "         lw=2, label='ROC curve (area = %0.2f)' % roc_auc)\n",
    "plt.plot([0, 1], [0, 1], color='navy', lw=2, linestyle='--')\n",
    "plt.xlim([0.0, 1.0])\n",
    "plt.ylim([0.0, 1.05])\n",
    "plt.xlabel('False Positive Rate')\n",
    "plt.ylabel('True Positive Rate')\n",
    "plt.title('Receiver operating characteristic example')\n",
    "plt.legend(loc=\"lower right\")\n",
    "plt.show()"
   ]
  },
  {
   "cell_type": "code",
   "execution_count": 279,
   "metadata": {},
   "outputs": [
    {
     "data": {
      "text/plain": [
       "Text(0.5, 1.0, '2-class Precision-Recall curve: AP=0.77')"
      ]
     },
     "execution_count": 279,
     "metadata": {},
     "output_type": "execute_result"
    },
    {
     "data": {
      "image/png": "[encoded data removed]",
      "text/plain": [
       "<Figure size 432x288 with 1 Axes>"
      ]
     },
     "metadata": {
      "needs_background": "light"
     },
     "output_type": "display_data"
    }
   ],
   "source": [
    "# Precision recall curve\n",
    "precision, recall, _ = precision_recall_curve(test_label, test_pred)\n",
    "\n",
    "# In matplotlib < 1.5, plt.fill_between does not have a 'step' argument\n",
    "step_kwargs = ({'step': 'post'}\n",
    "               if 'step' in signature(plt.fill_between).parameters\n",
    "               else {})\n",
    "plt.step(recall, precision, color='b', alpha=0.2,\n",
    "         where='post')\n",
    "plt.fill_between(recall, precision, alpha=0.2, color='b', **step_kwargs)\n",
    "\n",
    "plt.xlabel('Recall')\n",
    "plt.ylabel('Precision')\n",
    "plt.ylim([0.0, 1.05])\n",
    "plt.xlim([0.0, 1.0])\n",
    "plt.title('2-class Precision-Recall curve: AP={0:0.2f}'.format(\n",
    "          np.average(precision)))"
   ]
  },
  {
   "cell_type": "code",
   "execution_count": 280,
   "metadata": {},
   "outputs": [
    {
     "data": {
      "text/html": [
       "<div>\n",
       "<style scoped>\n",
       "    .dataframe tbody tr th:only-of-type {\n",
       "        vertical-align: middle;\n",
       "    }\n",
       "\n",
       "    .dataframe tbody tr th {\n",
       "        vertical-align: top;\n",
       "    }\n",
       "\n",
       "    .dataframe thead th {\n",
       "        text-align: right;\n",
       "    }\n",
       "</style>\n",
       "<table border=\"1\" class=\"dataframe\">\n",
       "  <thead>\n",
       "    <tr style=\"text-align: right;\">\n",
       "      <th></th>\n",
       "      <th>V1</th>\n",
       "      <th>V2</th>\n",
       "      <th>V3</th>\n",
       "      <th>V4</th>\n",
       "      <th>V5</th>\n",
       "      <th>V6</th>\n",
       "      <th>V7</th>\n",
       "      <th>V8</th>\n",
       "      <th>V9</th>\n",
       "      <th>V10</th>\n",
       "      <th>...</th>\n",
       "      <th>V20</th>\n",
       "      <th>V21</th>\n",
       "      <th>V22</th>\n",
       "      <th>V23</th>\n",
       "      <th>V24</th>\n",
       "      <th>V25</th>\n",
       "      <th>V26</th>\n",
       "      <th>V27</th>\n",
       "      <th>V28</th>\n",
       "      <th>normalizedAmount</th>\n",
       "    </tr>\n",
       "  </thead>\n",
       "  <tbody>\n",
       "    <tr>\n",
       "      <th>0</th>\n",
       "      <td>0.754316</td>\n",
       "      <td>2.379822</td>\n",
       "      <td>-5.137274</td>\n",
       "      <td>3.818392</td>\n",
       "      <td>0.043203</td>\n",
       "      <td>-1.285451</td>\n",
       "      <td>-1.766684</td>\n",
       "      <td>0.756711</td>\n",
       "      <td>-1.765722</td>\n",
       "      <td>-3.263007</td>\n",
       "      <td>...</td>\n",
       "      <td>0.369663</td>\n",
       "      <td>0.397058</td>\n",
       "      <td>0.141165</td>\n",
       "      <td>0.171985</td>\n",
       "      <td>0.394274</td>\n",
       "      <td>-0.444642</td>\n",
       "      <td>-0.263189</td>\n",
       "      <td>0.304703</td>\n",
       "      <td>-0.044362</td>\n",
       "      <td>-0.518233</td>\n",
       "    </tr>\n",
       "    <tr>\n",
       "      <th>1</th>\n",
       "      <td>-14.179165</td>\n",
       "      <td>7.421370</td>\n",
       "      <td>-21.405836</td>\n",
       "      <td>11.927512</td>\n",
       "      <td>-7.974281</td>\n",
       "      <td>-2.202710</td>\n",
       "      <td>-15.471612</td>\n",
       "      <td>-0.356595</td>\n",
       "      <td>-6.380125</td>\n",
       "      <td>-13.348278</td>\n",
       "      <td>...</td>\n",
       "      <td>1.002764</td>\n",
       "      <td>-2.366836</td>\n",
       "      <td>1.130955</td>\n",
       "      <td>0.991153</td>\n",
       "      <td>-1.033132</td>\n",
       "      <td>-0.327179</td>\n",
       "      <td>0.634693</td>\n",
       "      <td>2.171905</td>\n",
       "      <td>-1.395288</td>\n",
       "      <td>-0.522556</td>\n",
       "    </tr>\n",
       "    <tr>\n",
       "      <th>2</th>\n",
       "      <td>2.252971</td>\n",
       "      <td>-1.177596</td>\n",
       "      <td>-2.030634</td>\n",
       "      <td>-2.541761</td>\n",
       "      <td>-0.176900</td>\n",
       "      <td>-0.218932</td>\n",
       "      <td>-0.599820</td>\n",
       "      <td>-0.092448</td>\n",
       "      <td>0.654035</td>\n",
       "      <td>0.125140</td>\n",
       "      <td>...</td>\n",
       "      <td>-0.567323</td>\n",
       "      <td>-0.084275</td>\n",
       "      <td>0.439982</td>\n",
       "      <td>-0.119047</td>\n",
       "      <td>-0.316948</td>\n",
       "      <td>0.376866</td>\n",
       "      <td>0.109228</td>\n",
       "      <td>-0.001400</td>\n",
       "      <td>-0.074179</td>\n",
       "      <td>-0.461310</td>\n",
       "    </tr>\n",
       "    <tr>\n",
       "      <th>3</th>\n",
       "      <td>-3.859881</td>\n",
       "      <td>2.632881</td>\n",
       "      <td>-5.264265</td>\n",
       "      <td>3.446113</td>\n",
       "      <td>-0.675231</td>\n",
       "      <td>-1.904959</td>\n",
       "      <td>-3.291041</td>\n",
       "      <td>-0.985766</td>\n",
       "      <td>-1.168114</td>\n",
       "      <td>-3.936294</td>\n",
       "      <td>...</td>\n",
       "      <td>-0.178626</td>\n",
       "      <td>1.664119</td>\n",
       "      <td>0.785075</td>\n",
       "      <td>0.068412</td>\n",
       "      <td>0.778961</td>\n",
       "      <td>-0.863166</td>\n",
       "      <td>-0.006810</td>\n",
       "      <td>-1.065734</td>\n",
       "      <td>1.773326</td>\n",
       "      <td>-0.521778</td>\n",
       "    </tr>\n",
       "    <tr>\n",
       "      <th>4</th>\n",
       "      <td>1.864985</td>\n",
       "      <td>-0.974664</td>\n",
       "      <td>-1.018447</td>\n",
       "      <td>-0.916147</td>\n",
       "      <td>-0.420071</td>\n",
       "      <td>0.059545</td>\n",
       "      <td>-0.592456</td>\n",
       "      <td>0.109244</td>\n",
       "      <td>1.363402</td>\n",
       "      <td>-0.279865</td>\n",
       "      <td>...</td>\n",
       "      <td>0.040632</td>\n",
       "      <td>0.176293</td>\n",
       "      <td>0.439613</td>\n",
       "      <td>0.077999</td>\n",
       "      <td>0.287905</td>\n",
       "      <td>-0.296394</td>\n",
       "      <td>0.654480</td>\n",
       "      <td>-0.068849</td>\n",
       "      <td>-0.048382</td>\n",
       "      <td>-0.098980</td>\n",
       "    </tr>\n",
       "  </tbody>\n",
       "</table>\n",
       "<p>5 rows × 29 columns</p>\n",
       "</div>"
      ],
      "text/plain": [
       "          V1        V2         V3         V4        V5        V6         V7  \\\n",
       "0   0.754316  2.379822  -5.137274   3.818392  0.043203 -1.285451  -1.766684   \n",
       "1 -14.179165  7.421370 -21.405836  11.927512 -7.974281 -2.202710 -15.471612   \n",
       "2   2.252971 -1.177596  -2.030634  -2.541761 -0.176900 -0.218932  -0.599820   \n",
       "3  -3.859881  2.632881  -5.264265   3.446113 -0.675231 -1.904959  -3.291041   \n",
       "4   1.864985 -0.974664  -1.018447  -0.916147 -0.420071  0.059545  -0.592456   \n",
       "\n",
       "         V8        V9        V10  ...       V20       V21       V22       V23  \\\n",
       "0  0.756711 -1.765722  -3.263007  ...  0.369663  0.397058  0.141165  0.171985   \n",
       "1 -0.356595 -6.380125 -13.348278  ...  1.002764 -2.366836  1.130955  0.991153   \n",
       "2 -0.092448  0.654035   0.125140  ... -0.567323 -0.084275  0.439982 -0.119047   \n",
       "3 -0.985766 -1.168114  -3.936294  ... -0.178626  1.664119  0.785075  0.068412   \n",
       "4  0.109244  1.363402  -0.279865  ...  0.040632  0.176293  0.439613  0.077999   \n",
       "\n",
       "        V24       V25       V26       V27       V28  normalizedAmount  \n",
       "0  0.394274 -0.444642 -0.263189  0.304703 -0.044362         -0.518233  \n",
       "1 -1.033132 -0.327179  0.634693  2.171905 -1.395288         -0.522556  \n",
       "2 -0.316948  0.376866  0.109228 -0.001400 -0.074179         -0.461310  \n",
       "3  0.778961 -0.863166 -0.006810 -1.065734  1.773326         -0.521778  \n",
       "4  0.287905 -0.296394  0.654480 -0.068849 -0.048382         -0.098980  \n",
       "\n",
       "[5 rows x 29 columns]"
      ]
     },
     "execution_count": 280,
     "metadata": {},
     "output_type": "execute_result"
    }
   ],
   "source": [
    "hidden_data = pd.read_csv('test_no_Class.csv')\n",
    "hidden_data['normalizedAmount'] = StandardScaler().fit_transform(hidden_data['Amount'].values.reshape(-1,1))\n",
    "hidden_data.drop(['Amount', 'Time'], axis=1, inplace=True)\n",
    "hidden_data.head()"
   ]
  },
  {
   "cell_type": "code",
   "execution_count": 281,
   "metadata": {},
   "outputs": [
    {
     "name": "stdout",
     "output_type": "stream",
     "text": [
      "WARNING:tensorflow:Falling back from v2 loop because of error: Failed to find data adapter that can handle input: <class 'pandas.core.frame.DataFrame'>, <class 'NoneType'>\n"
     ]
    },
    {
     "data": {
      "text/plain": [
       "array([[1.],\n",
       "       [1.],\n",
       "       [0.],\n",
       "       [1.],\n",
       "       [0.]], dtype=float32)"
      ]
     },
     "execution_count": 281,
     "metadata": {},
     "output_type": "execute_result"
    }
   ],
   "source": [
    "hidden_pred = np.round(model.predict(hidden_data))\n",
    "hidden_pred[:5]"
   ]
  },
  {
   "cell_type": "code",
   "execution_count": 282,
   "metadata": {},
   "outputs": [],
   "source": [
    "with open('T08902201_answer.txt','w') as f:\n",
    "    i=0\n",
    "    for pred in hidden_pred:\n",
    "        row = str(int(pred[0])) + '\\n'\n",
    "        i = i + 1\n",
    "        f.write(row)"
   ]
  },
  {
   "cell_type": "markdown",
   "metadata": {},
   "source": [
    "## Decision Tree"
   ]
  },
  {
   "cell_type": "code",
   "execution_count": 298,
   "metadata": {},
   "outputs": [],
   "source": [
    "tree = DecisionTreeClassifier()\n",
    "tree = tree.fit(train_set, train_label)\n",
    "tree_pred = tree.predict(test_set)"
   ]
  },
  {
   "cell_type": "code",
   "execution_count": 306,
   "metadata": {},
   "outputs": [
    {
     "name": "stdout",
     "output_type": "stream",
     "text": [
      "Accuracy: 0.9142857142857143\n",
      "Precision 0.949438202247191\n",
      "Recall 0.9184782608695652\n",
      "F1_score 0.9337016574585635\n"
     ]
    },
    {
     "data": {
      "text/plain": [
       "Text(0.5, 1, 'Tree Confusion Matrix')"
      ]
     },
     "execution_count": 306,
     "metadata": {},
     "output_type": "execute_result"
    },
    {
     "data": {
      "image/png": "[encoded data removed]",
      "text/plain": [
       "<Figure size 432x288 with 2 Axes>"
      ]
     },
     "metadata": {
      "needs_background": "light"
     },
     "output_type": "display_data"
    }
   ],
   "source": [
    "# Decision Tree confusion matrix\n",
    "tree_cm = confusion_matrix(test_label, tree_pred)\n",
    "\n",
    "tp = tree_cm[0, 0]; tn = tree_cm[1, 1]\n",
    "fp = tree_cm[1, 0]; fn = tree_cm[0, 1]\n",
    "\n",
    "p = tp/(tp+fp)\n",
    "r = tp/(tp+fn)\n",
    "print(\"Accuracy:\", accuracy_score(test_label, tree_pred))\n",
    "print('Precision', p)\n",
    "print('Recall', r)\n",
    "print('F1_score', (2*p*r)/ (p + r))\n",
    "\n",
    "ax= plt.subplot()\n",
    "matrix = sns.heatmap(tree_cm, annot=True, ax = ax, fmt='d',\n",
    "           xticklabels=['predict=0', 'predict=1'],\n",
    "           yticklabels=['True=1', 'True=0']) #annot=True to annotate cells\n",
    "bottom, top = matrix.get_ylim()\n",
    "matrix.set_ylim(bottom + 0.5, top - 0.5)\n",
    "\n",
    "ax.set_xlabel('Predicted labels')\n",
    "ax.set_ylabel('True labels')\n",
    "ax.set_title('Tree Confusion Matrix')"
   ]
  },
  {
   "cell_type": "markdown",
   "metadata": {},
   "source": [
    "## Random forest"
   ]
  },
  {
   "cell_type": "code",
   "execution_count": 287,
   "metadata": {},
   "outputs": [],
   "source": [
    "rf = RandomForestClassifier(n_estimators=100)\n",
    "rf.fit(train_set, train_label)\n",
    "rf_pred = rf.predict(test_set)"
   ]
  },
  {
   "cell_type": "code",
   "execution_count": 289,
   "metadata": {},
   "outputs": [],
   "source": [
    "feature_imp = pd.Series(rf.feature_importances_,index=train_set.columns).sort_values(ascending=False)"
   ]
  },
  {
   "cell_type": "code",
   "execution_count": 290,
   "metadata": {},
   "outputs": [
    {
     "name": "stderr",
     "output_type": "stream",
     "text": [
      "No handles with labels found to put in legend.\n"
     ]
    },
    {
     "data": {
      "image/png": "[encoded data removed]",
      "text/plain": [
       "<Figure size 432x288 with 1 Axes>"
      ]
     },
     "metadata": {
      "needs_background": "light"
     },
     "output_type": "display_data"
    }
   ],
   "source": [
    "# Creating a bar plot\n",
    "sns.barplot(x=feature_imp, y=feature_imp.index)\n",
    "# Add labels to your graph\n",
    "plt.xlabel('Feature Importance Score')\n",
    "plt.ylabel('Features')\n",
    "plt.title(\"Visualizing Important Features\")\n",
    "plt.legend()\n",
    "plt.show()"
   ]
  },
  {
   "cell_type": "code",
   "execution_count": 310,
   "metadata": {},
   "outputs": [
    {
     "name": "stdout",
     "output_type": "stream",
     "text": [
      "Accuracy: 0.9571428571428572\n",
      "Precision 0.9479166666666666\n",
      "Recall 0.9891304347826086\n",
      "F1_score 0.9680851063829786\n"
     ]
    },
    {
     "data": {
      "text/plain": [
       "Text(0.5, 1, 'Random Forest Confusion Matrix')"
      ]
     },
     "execution_count": 310,
     "metadata": {},
     "output_type": "execute_result"
    },
    {
     "data": {
      "image/png": "[encoded data removed]",
      "text/plain": [
       "<Figure size 432x288 with 2 Axes>"
      ]
     },
     "metadata": {
      "needs_background": "light"
     },
     "output_type": "display_data"
    }
   ],
   "source": [
    "# Random Forest confusion matrix\n",
    "rf_cm = confusion_matrix(test_label, rf_pred)\n",
    "\n",
    "tp = rf_cm[0, 0]; tn = rf_cm[1, 1]\n",
    "fp = rf_cm[1, 0]; fn = rf_cm[0, 1]\n",
    "\n",
    "p = tp/(tp+fp)\n",
    "r = tp/(tp+fn)\n",
    "print(\"Accuracy:\", accuracy_score(test_label, rf_pred))\n",
    "print('Precision', p)\n",
    "print('Recall', r)\n",
    "print('F1_score', (2*p*r)/ (p + r))\n",
    "\n",
    "ax= plt.subplot()\n",
    "matrix = sns.heatmap(rf_cm, annot=True, ax = ax, fmt='d',\n",
    "           xticklabels=['predict=0', 'predict=1'],\n",
    "           yticklabels=['True=1', 'True=0']) #annot=True to annotate cells\n",
    "bottom, top = matrix.get_ylim()\n",
    "matrix.set_ylim(bottom + 0.5, top - 0.5)\n",
    "\n",
    "ax.set_xlabel('Predicted labels')\n",
    "ax.set_ylabel('True labels')\n",
    "ax.set_title('Random Forest Confusion Matrix')"
   ]
  },
  {
   "cell_type": "code",
   "execution_count": null,
   "metadata": {},
   "outputs": [],
   "source": []
  }
 ],
 "metadata": {
  "kernelspec": {
   "display_name": "Python 3",
   "language": "python",
   "name": "python3"
  },
  "language_info": {
   "codemirror_mode": {
    "name": "ipython",
    "version": 3
   },
   "file_extension": ".py",
   "mimetype": "text/x-python",
   "name": "python",
   "nbconvert_exporter": "python",
   "pygments_lexer": "ipython3",
   "version": "3.6.7"
  }
 },
 "nbformat": 4,
 "nbformat_minor": 4
}
