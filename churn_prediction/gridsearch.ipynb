{
 "cells": [
  {
   "cell_type": "code",
   "execution_count": 27,
   "metadata": {},
   "outputs": [],
   "source": [
    "import numpy as np\n",
    "import pandas as pd\n",
    "from keras import models\n",
    "from keras import layers\n",
    "from keras import optimizers\n",
    "from sklearn.model_selection import train_test_split\n",
    "from sklearn.preprocessing import StandardScaler\n",
    "from keras.wrappers.scikit_learn import KerasClassifier\n",
    "from sklearn.model_selection import GridSearchCV\n",
    "from sklearn.datasets import make_classification\n",
    "from sklearn import metrics\n",
    "from warnings import simplefilter\n",
    "simplefilter(action='ignore', category=FutureWarning)"
   ]
  },
  {
   "cell_type": "code",
   "execution_count": 2,
   "metadata": {},
   "outputs": [],
   "source": [
    "def oneHotEncoded(data_frame, column_name_ls):\n",
    "    df = data_frame.copy(deep=True)\n",
    "    for col in column_name_ls:\n",
    "        df[col] = pd.Categorical(df[col])\n",
    "        df_dummies = pd.get_dummies(df[col], prefix=col)\n",
    "        df = pd.concat([df, df_dummies], axis=1)\n",
    "        df.drop([col], axis=1, inplace=True)\n",
    "        \n",
    "    return df\n",
    "\n",
    "def build_classifier(units=32, learn_rate=0.001, hidden_layers=1, optimizer='adam'):\n",
    "    m =  models.Sequential()\n",
    "\n",
    "    m.add(layers.Dense(units=46, activation='relu', input_shape=(46,)))\n",
    "    for i in range(hidden_layers):\n",
    "         m.add(layers.Dense(units=units, activation='relu'))\n",
    "#             m.add(layers.Dropout(dropout))\n",
    "    m.add(layers.Dense(units=1, activation='sigmoid'))\n",
    "#     optimizer = optimizers.Adam(learning_rate=learn_rate)\n",
    "    m.compile(optimizer=optimizer, loss='binary_crossentropy',\n",
    "             metrics=['accuracy'])\n",
    "    return m"
   ]
  },
  {
   "cell_type": "code",
   "execution_count": 3,
   "metadata": {},
   "outputs": [],
   "source": [
    "df = pd.read_csv('WA_Fn-UseC_-Telco-Customer-Churn.csv')\n",
    "total_charges_filter = df['TotalCharges'] == ' '\n",
    "df = df[~total_charges_filter]\n",
    "\n",
    "categorical_features = ['gender', 'SeniorCitizen', 'Partner',\n",
    " 'Dependents', 'PhoneService', 'MultipleLines', 'InternetService',\n",
    " 'OnlineSecurity', 'OnlineBackup', 'DeviceProtection', 'TechSupport',\n",
    " 'StreamingTV', 'StreamingMovies', 'Contract', 'PaperlessBilling',\n",
    " 'PaymentMethod'] # ~16\n",
    "numerical_features = ['tenure', 'MonthlyCharges', 'TotalCharges']\n",
    "target = 'Churn'\n",
    "\n",
    "df['TotalCharges'] = pd.to_numeric(df['TotalCharges'])\n",
    "\n",
    "label = df['Churn'].map({'Yes': 1, 'No': 0})\n",
    "\n",
    "data = oneHotEncoded(df.drop(['customerID','Churn'], axis=1), categorical_features)\n",
    "data_numpy = data.to_numpy(copy=True)\n",
    "label_numpy = label.to_numpy(copy=True)\n",
    "\n",
    "x_train, x_test, y_train, y_test = train_test_split(data_numpy, label_numpy, test_size = 0.2)"
   ]
  },
  {
   "cell_type": "code",
   "execution_count": null,
   "metadata": {},
   "outputs": [],
   "source": [
    "classifier = KerasClassifier(build_fn=build_classifier)\n",
    "parameters ={\n",
    "            'epochs':[10,20,30],\n",
    "            'units':[16, 32, 64, 128],\n",
    "            'batch_size': [32, 64, 128],\n",
    "            'hidden_layers': [1, 2, 3, 4],\n",
    "            'optimizer': ['SGD', 'RMSprop', 'Adam']}\n",
    "# doesn't tune the learning rate because I will use colab to train and now I don't know how to tune learning rate together with optimizer\n",
    "gridSearch = GridSearchCV(estimator=classifier,\n",
    "                          param_grid=parameters,\n",
    "                         n_jobs=-1)"
   ]
  },
  {
   "cell_type": "code",
   "execution_count": null,
   "metadata": {},
   "outputs": [],
   "source": [
    "grid_result = gridSearch.fit(train, label, verbose=1)"
   ]
  },
  {
   "cell_type": "code",
   "execution_count": null,
   "metadata": {},
   "outputs": [],
   "source": [
    "print(\"Best: %f using %s\"%(grid_result.best_score_,grid_result.best_params_))\n",
    "means=grid_result.cv_results_['mean_test_score']\n",
    "stds=grid_result.cv_results_['std_test_score']\n",
    "params=grid_result.cv_results_['params']\n",
    "for mean,stdev,param in zip(means,stds,params):\n",
    "    print(\"%f (%f) with: %r\"%(mean,stdev,param))"
   ]
  },
  {
   "cell_type": "markdown",
   "metadata": {},
   "source": [
    "### SVM gridsearch"
   ]
  },
  {
   "cell_type": "code",
   "execution_count": 9,
   "metadata": {},
   "outputs": [],
   "source": [
    "from sklearn.metrics import classification_report, confusion_matrix \n",
    "from sklearn.svm import SVC"
   ]
  },
  {
   "cell_type": "code",
   "execution_count": 18,
   "metadata": {
    "collapsed": true,
    "jupyter": {
     "outputs_hidden": true
    }
   },
   "outputs": [
    {
     "data": {
      "text/plain": [
       "GridSearchCV(cv=10, error_score='raise-deprecating',\n",
       "             estimator=SVC(C=1.0, cache_size=200, class_weight=None, coef0=0.0,\n",
       "                           decision_function_shape='ovr', degree=3,\n",
       "                           gamma='auto_deprecated', kernel='rbf', max_iter=-1,\n",
       "                           probability=False, random_state=None, shrinking=True,\n",
       "                           tol=0.001, verbose=False),\n",
       "             iid='warn', n_jobs=None,\n",
       "             param_grid={'C': [0.1, 1, 10, 100, 1000],\n",
       "                         'gamma': [1, 0.1, 0.01, 0.001, 0.0001],\n",
       "                         'kernel': ['rbf']},\n",
       "             pre_dispatch='2*n_jobs', refit=True, return_train_score=False,\n",
       "             scoring=None, verbose=0)"
      ]
     },
     "execution_count": 18,
     "metadata": {},
     "output_type": "execute_result"
    }
   ],
   "source": [
    "# defining parameter range \n",
    "param_grid = {'C': [0.1, 1, 10, 100, 1000],  \n",
    "              'gamma': [1, 0.1, 0.01, 0.001, 0.0001], \n",
    "              'kernel': ['rbf']}  \n",
    "  \n",
    "svc_grid = GridSearchCV(SVC(), param_grid, refit = True, cv=10) \n",
    "  \n",
    "# fitting the model for grid search \n",
    "svc_grid.fit(x_train, y_train) "
   ]
  },
  {
   "cell_type": "code",
   "execution_count": 28,
   "metadata": {},
   "outputs": [
    {
     "name": "stdout",
     "output_type": "stream",
     "text": [
      "              precision    recall  f1-score   support\n",
      "\n",
      "           0       0.81      0.93      0.87      1039\n",
      "           1       0.67      0.38      0.49       368\n",
      "\n",
      "    accuracy                           0.79      1407\n",
      "   macro avg       0.74      0.66      0.68      1407\n",
      "weighted avg       0.77      0.79      0.77      1407\n",
      "\n",
      "Accuracy: 0.7882018479033405\n"
     ]
    }
   ],
   "source": [
    "# print best parameter after tuning \n",
    "# print(grid_svc.best_params_) \n",
    "  \n",
    "# print how our model looks after hyper-parameter tuning \n",
    "# print(grid_svc.best_estimator_) \n",
    "\n",
    "svc_pred = svc_grid.predict(x_test) \n",
    "  \n",
    "# print classification report \n",
    "print(classification_report(y_test, svc_pred))\n",
    "print(\"Accuracy:\",metrics.accuracy_score(y_test, svc_pred))"
   ]
  },
  {
   "cell_type": "markdown",
   "metadata": {},
   "source": [
    "### Logistic regression gridsearch"
   ]
  },
  {
   "cell_type": "code",
   "execution_count": 15,
   "metadata": {},
   "outputs": [],
   "source": [
    "from sklearn.linear_model import LogisticRegression"
   ]
  },
  {
   "cell_type": "code",
   "execution_count": 30,
   "metadata": {
    "collapsed": true,
    "jupyter": {
     "outputs_hidden": true
    }
   },
   "outputs": [
    {
     "data": {
      "text/plain": [
       "GridSearchCV(cv=10, error_score='raise-deprecating',\n",
       "             estimator=LogisticRegression(C=1.0, class_weight=None, dual=False,\n",
       "                                          fit_intercept=True,\n",
       "                                          intercept_scaling=1, l1_ratio=None,\n",
       "                                          max_iter=100, multi_class='warn',\n",
       "                                          n_jobs=None, penalty='l2',\n",
       "                                          random_state=None, solver='warn',\n",
       "                                          tol=0.0001, verbose=0,\n",
       "                                          warm_start=False),\n",
       "             iid='warn', n_jobs=None,\n",
       "             param_grid={'C': array([1.00000000e+00, 2.78255940e+00, 7.74263683e+00, 2.15443469e+01,\n",
       "       5.99484250e+01, 1.66810054e+02, 4.64158883e+02, 1.29154967e+03,\n",
       "       3.59381366e+03, 1.00000000e+04]),\n",
       "                         'penalty': ['l1', 'l2']},\n",
       "             pre_dispatch='2*n_jobs', refit=True, return_train_score=False,\n",
       "             scoring=None, verbose=0)"
      ]
     },
     "execution_count": 30,
     "metadata": {},
     "output_type": "execute_result"
    }
   ],
   "source": [
    "logistic = LogisticRegression()\n",
    "\n",
    "penalty = ['l1', 'l2']\n",
    "\n",
    "C = np.logspace(0, 4, 10)\n",
    "\n",
    "# Create hyperparameter options\n",
    "hyperparameters = dict(C=C, penalty=penalty)\n",
    "\n",
    "lr_grid = GridSearchCV(logistic, hyperparameters, cv=10, verbose=0)\n",
    "lr_grid.fit(x_train, y_train)"
   ]
  },
  {
   "cell_type": "code",
   "execution_count": 31,
   "metadata": {},
   "outputs": [
    {
     "name": "stdout",
     "output_type": "stream",
     "text": [
      "              precision    recall  f1-score   support\n",
      "\n",
      "           0       0.85      0.90      0.87      1039\n",
      "           1       0.65      0.55      0.60       368\n",
      "\n",
      "    accuracy                           0.81      1407\n",
      "   macro avg       0.75      0.72      0.73      1407\n",
      "weighted avg       0.80      0.81      0.80      1407\n",
      "\n",
      "Accuracy: 0.8059701492537313\n"
     ]
    }
   ],
   "source": [
    "lr_pred = lr_grid.predict(x_test) \n",
    "  \n",
    "print(classification_report(y_test, lr_pred))\n",
    "print(\"Accuracy:\",metrics.accuracy_score(y_test, lr_pred))"
   ]
  },
  {
   "cell_type": "markdown",
   "metadata": {},
   "source": [
    "### RandomForest gridsearch"
   ]
  },
  {
   "cell_type": "code",
   "execution_count": 19,
   "metadata": {},
   "outputs": [],
   "source": [
    "from sklearn.ensemble import RandomForestClassifier"
   ]
  },
  {
   "cell_type": "code",
   "execution_count": 23,
   "metadata": {
    "collapsed": true,
    "jupyter": {
     "outputs_hidden": true
    }
   },
   "outputs": [
    {
     "data": {
      "text/plain": [
       "GridSearchCV(cv=10, error_score='raise-deprecating',\n",
       "             estimator=RandomForestClassifier(bootstrap=True, class_weight=None,\n",
       "                                              criterion='gini', max_depth=None,\n",
       "                                              max_features='auto',\n",
       "                                              max_leaf_nodes=None,\n",
       "                                              min_impurity_decrease=0.0,\n",
       "                                              min_impurity_split=None,\n",
       "                                              min_samples_leaf=1,\n",
       "                                              min_samples_split=2,\n",
       "                                              min_weight_fraction_leaf=0.0,\n",
       "                                              n_estimators='warn', n_jobs=None,\n",
       "                                              oob_score=False,\n",
       "                                              random_state=None, verbose=0,\n",
       "                                              warm_start=False),\n",
       "             iid='warn', n_jobs=None,\n",
       "             param_grid={'criterion': ['gini', 'entropy'],\n",
       "                         'max_depth': [4, 5, 6, 7, 8],\n",
       "                         'n_estimators': [100, 300, 500]},\n",
       "             pre_dispatch='2*n_jobs', refit=True, return_train_score=False,\n",
       "             scoring=None, verbose=0)"
      ]
     },
     "execution_count": 23,
     "metadata": {},
     "output_type": "execute_result"
    }
   ],
   "source": [
    "rf_param = {\n",
    "    'max_depth': [4,5,6,7,8],\n",
    "    'n_estimators': [100, 300, 500],\n",
    "    'criterion' :['gini', 'entropy']\n",
    "}\n",
    "rf = RandomForestClassifier()\n",
    "\n",
    "rf_grid = GridSearchCV(estimator=rf, param_grid=rf_param, cv= 10)\n",
    "rf_grid.fit(x_train, y_train)"
   ]
  },
  {
   "cell_type": "code",
   "execution_count": 24,
   "metadata": {},
   "outputs": [
    {
     "data": {
      "text/plain": [
       "{'criterion': 'gini', 'max_depth': 8, 'n_estimators': 300}"
      ]
     },
     "execution_count": 24,
     "metadata": {},
     "output_type": "execute_result"
    }
   ],
   "source": [
    "rf_grid.best_params_"
   ]
  },
  {
   "cell_type": "code",
   "execution_count": 32,
   "metadata": {},
   "outputs": [
    {
     "name": "stdout",
     "output_type": "stream",
     "text": [
      "              precision    recall  f1-score   support\n",
      "\n",
      "           0       0.84      0.91      0.88      1039\n",
      "           1       0.68      0.51      0.58       368\n",
      "\n",
      "    accuracy                           0.81      1407\n",
      "   macro avg       0.76      0.71      0.73      1407\n",
      "weighted avg       0.80      0.81      0.80      1407\n",
      "\n",
      "Accuracy: 0.8073916133617626\n"
     ]
    }
   ],
   "source": [
    "rf_pred = rf_grid.predict(x_test) \n",
    "  \n",
    "print(classification_report(y_test, rf_pred))\n",
    "print(\"Accuracy:\",metrics.accuracy_score(y_test, rf_pred))"
   ]
  },
  {
   "cell_type": "markdown",
   "metadata": {},
   "source": [
    "### DNN"
   ]
  },
  {
   "cell_type": "code",
   "execution_count": 33,
   "metadata": {},
   "outputs": [],
   "source": [
    "import tensorflow as tf\n",
    "from tensorflow import keras"
   ]
  },
  {
   "cell_type": "code",
   "execution_count": 35,
   "metadata": {},
   "outputs": [],
   "source": [
    "EPOCHS = 50\n",
    "LR = 0.001\n",
    "model = keras.Sequential([\n",
    "    keras.layers.Dense(46, activation='relu', input_shape=(46,)),\n",
    "    keras.layers.Dense(32, activation='relu'),\n",
    "    keras.layers.Dense(32, activation='relu'),\n",
    "    keras.layers.Dense(32, activation='relu'),\n",
    "    keras.layers.Dense(32, activation='relu'),\n",
    "    keras.layers.Dense(32, activation='relu'),\n",
    "    keras.layers.Dense(1, activation='sigmoid')\n",
    "])\n",
    "adam = keras.optimizers.Adam(learning_rate= LR, decay= LR/ EPOCHS)\n",
    "model.compile(optimizer=adam, loss='binary_crossentropy',\n",
    "             metrics=['accuracy'])\n",
    "model.load_weights('best.hdf5')"
   ]
  },
  {
   "cell_type": "code",
   "execution_count": 38,
   "metadata": {},
   "outputs": [
    {
     "name": "stdout",
     "output_type": "stream",
     "text": [
      "Tested Acc:  0.8152097\n",
      "Tested Loss:  0.4128850566298723\n"
     ]
    }
   ],
   "source": [
    "test_loss, test_acc  = model.evaluate(x_test, y_test, verbose=False)\n",
    "print('Tested Acc: ', test_acc)\n",
    "print('Tested Loss: ', test_loss)"
   ]
  },
  {
   "cell_type": "code",
   "execution_count": null,
   "metadata": {},
   "outputs": [],
   "source": []
  }
 ],
 "metadata": {
  "kernelspec": {
   "display_name": "Python 3",
   "language": "python",
   "name": "python3"
  },
  "language_info": {
   "codemirror_mode": {
    "name": "ipython",
    "version": 3
   },
   "file_extension": ".py",
   "mimetype": "text/x-python",
   "name": "python",
   "nbconvert_exporter": "python",
   "pygments_lexer": "ipython3",
   "version": "3.7.5"
  }
 },
 "nbformat": 4,
 "nbformat_minor": 4
}
