{
 "cells": [
  {
   "cell_type": "markdown",
   "metadata": {},
   "source": [
    "# Backathon: Anomalies Clustering for International Trading"
   ]
  },
  {
   "cell_type": "markdown",
   "metadata": {},
   "source": [
    "## Preprocess Data"
   ]
  },
  {
   "cell_type": "code",
   "execution_count": 2,
   "metadata": {},
   "outputs": [],
   "source": [
    "import numpy as np\n",
    "import pandas as pd\n",
    "import matplotlib.pyplot as plt\n",
    "import datetime as dt"
   ]
  },
  {
   "cell_type": "code",
   "execution_count": 3,
   "metadata": {},
   "outputs": [],
   "source": [
    "df = pd.read_csv('scripts/final.csv')[['Period', 'Reporter', 'Partner', 'Trade Value (US$)']]"
   ]
  },
  {
   "cell_type": "markdown",
   "metadata": {},
   "source": [
    "Drop rows where `Partner` is `World`"
   ]
  },
  {
   "cell_type": "code",
   "execution_count": 4,
   "metadata": {},
   "outputs": [],
   "source": [
    "df = df.loc[df['Partner'] != 'World']"
   ]
  },
  {
   "cell_type": "code",
   "execution_count": 5,
   "metadata": {},
   "outputs": [
    {
     "data": {
      "text/plain": [
       "Period               object\n",
       "Reporter             object\n",
       "Partner              object\n",
       "Trade Value (US$)     int64\n",
       "time                 object\n",
       "dtype: object"
      ]
     },
     "execution_count": 5,
     "metadata": {},
     "output_type": "execute_result"
    }
   ],
   "source": [
    "df = df.astype({'Period': str})\n",
    "df['time'] = df['Period'].str[2:]\n",
    "df.dtypes"
   ]
  },
  {
   "cell_type": "code",
   "execution_count": 6,
   "metadata": {},
   "outputs": [
    {
     "data": {
      "text/html": [
       "<div>\n",
       "<style scoped>\n",
       "    .dataframe tbody tr th:only-of-type {\n",
       "        vertical-align: middle;\n",
       "    }\n",
       "\n",
       "    .dataframe tbody tr th {\n",
       "        vertical-align: top;\n",
       "    }\n",
       "\n",
       "    .dataframe thead th {\n",
       "        text-align: right;\n",
       "    }\n",
       "</style>\n",
       "<table border=\"1\" class=\"dataframe\">\n",
       "  <thead>\n",
       "    <tr style=\"text-align: right;\">\n",
       "      <th></th>\n",
       "      <th>Period</th>\n",
       "      <th>Reporter</th>\n",
       "      <th>Partner</th>\n",
       "      <th>Trade Value (US$)</th>\n",
       "      <th>time</th>\n",
       "    </tr>\n",
       "  </thead>\n",
       "  <tbody>\n",
       "    <tr>\n",
       "      <th>1</th>\n",
       "      <td>201504</td>\n",
       "      <td>Armenia</td>\n",
       "      <td>France</td>\n",
       "      <td>25</td>\n",
       "      <td>1504</td>\n",
       "    </tr>\n",
       "    <tr>\n",
       "      <th>2</th>\n",
       "      <td>201504</td>\n",
       "      <td>Armenia</td>\n",
       "      <td>Italy</td>\n",
       "      <td>77</td>\n",
       "      <td>1504</td>\n",
       "    </tr>\n",
       "    <tr>\n",
       "      <th>3</th>\n",
       "      <td>201504</td>\n",
       "      <td>Armenia</td>\n",
       "      <td>Russian Federation</td>\n",
       "      <td>4283</td>\n",
       "      <td>1504</td>\n",
       "    </tr>\n",
       "    <tr>\n",
       "      <th>5</th>\n",
       "      <td>201506</td>\n",
       "      <td>Armenia</td>\n",
       "      <td>Bulgaria</td>\n",
       "      <td>4470</td>\n",
       "      <td>1506</td>\n",
       "    </tr>\n",
       "    <tr>\n",
       "      <th>6</th>\n",
       "      <td>201506</td>\n",
       "      <td>Armenia</td>\n",
       "      <td>France</td>\n",
       "      <td>109</td>\n",
       "      <td>1506</td>\n",
       "    </tr>\n",
       "  </tbody>\n",
       "</table>\n",
       "</div>"
      ],
      "text/plain": [
       "   Period Reporter             Partner  Trade Value (US$)  time\n",
       "1  201504  Armenia              France                 25  1504\n",
       "2  201504  Armenia               Italy                 77  1504\n",
       "3  201504  Armenia  Russian Federation               4283  1504\n",
       "5  201506  Armenia            Bulgaria               4470  1506\n",
       "6  201506  Armenia              France                109  1506"
      ]
     },
     "execution_count": 6,
     "metadata": {},
     "output_type": "execute_result"
    }
   ],
   "source": [
    "df.head()"
   ]
  },
  {
   "cell_type": "code",
   "execution_count": 7,
   "metadata": {},
   "outputs": [],
   "source": [
    "df['time'] = pd.to_datetime(df['time'], format=\"%y%m\")"
   ]
  },
  {
   "cell_type": "code",
   "execution_count": 8,
   "metadata": {},
   "outputs": [
    {
     "data": {
      "text/html": [
       "<div>\n",
       "<style scoped>\n",
       "    .dataframe tbody tr th:only-of-type {\n",
       "        vertical-align: middle;\n",
       "    }\n",
       "\n",
       "    .dataframe tbody tr th {\n",
       "        vertical-align: top;\n",
       "    }\n",
       "\n",
       "    .dataframe thead th {\n",
       "        text-align: right;\n",
       "    }\n",
       "</style>\n",
       "<table border=\"1\" class=\"dataframe\">\n",
       "  <thead>\n",
       "    <tr style=\"text-align: right;\">\n",
       "      <th></th>\n",
       "      <th>Period</th>\n",
       "      <th>Reporter</th>\n",
       "      <th>Partner</th>\n",
       "      <th>Trade Value (US$)</th>\n",
       "      <th>time</th>\n",
       "    </tr>\n",
       "  </thead>\n",
       "  <tbody>\n",
       "    <tr>\n",
       "      <th>2</th>\n",
       "      <td>201504</td>\n",
       "      <td>Armenia</td>\n",
       "      <td>Italy</td>\n",
       "      <td>77</td>\n",
       "      <td>2015-04-01</td>\n",
       "    </tr>\n",
       "    <tr>\n",
       "      <th>8</th>\n",
       "      <td>201506</td>\n",
       "      <td>Armenia</td>\n",
       "      <td>Italy</td>\n",
       "      <td>15844</td>\n",
       "      <td>2015-06-01</td>\n",
       "    </tr>\n",
       "    <tr>\n",
       "      <th>17</th>\n",
       "      <td>201502</td>\n",
       "      <td>Armenia</td>\n",
       "      <td>Italy</td>\n",
       "      <td>2840</td>\n",
       "      <td>2015-02-01</td>\n",
       "    </tr>\n",
       "    <tr>\n",
       "      <th>22</th>\n",
       "      <td>201501</td>\n",
       "      <td>Armenia</td>\n",
       "      <td>Italy</td>\n",
       "      <td>23</td>\n",
       "      <td>2015-01-01</td>\n",
       "    </tr>\n",
       "    <tr>\n",
       "      <th>27</th>\n",
       "      <td>201508</td>\n",
       "      <td>Armenia</td>\n",
       "      <td>Italy</td>\n",
       "      <td>6356</td>\n",
       "      <td>2015-08-01</td>\n",
       "    </tr>\n",
       "  </tbody>\n",
       "</table>\n",
       "</div>"
      ],
      "text/plain": [
       "    Period Reporter Partner  Trade Value (US$)       time\n",
       "2   201504  Armenia   Italy                 77 2015-04-01\n",
       "8   201506  Armenia   Italy              15844 2015-06-01\n",
       "17  201502  Armenia   Italy               2840 2015-02-01\n",
       "22  201501  Armenia   Italy                 23 2015-01-01\n",
       "27  201508  Armenia   Italy               6356 2015-08-01"
      ]
     },
     "execution_count": 8,
     "metadata": {},
     "output_type": "execute_result"
    }
   ],
   "source": [
    "df[df['Partner'] == 'Italy'].head()"
   ]
  },
  {
   "cell_type": "markdown",
   "metadata": {},
   "source": [
    "## Anomalies Detection\n",
    "Due to limited time, we use rule based anomaly detector. In case of further improvement needed, more complex model can be used and is recommended."
   ]
  },
  {
   "cell_type": "markdown",
   "metadata": {},
   "source": [
    "### Detect a drop in export value"
   ]
  },
  {
   "cell_type": "code",
   "execution_count": 9,
   "metadata": {},
   "outputs": [],
   "source": [
    "gb = df.groupby(['Reporter', 'Partner'])\n",
    "dfs = [gb.get_group(x) for x in gb.groups]"
   ]
  },
  {
   "cell_type": "code",
   "execution_count": 10,
   "metadata": {},
   "outputs": [],
   "source": [
    "# the trading record that contains sample less than this number will be neglected\n",
    "SAMPLE_CUTOFF = 5 # need to be checked\n",
    "\n",
    "dist = []\n",
    "dfs1 = []\n",
    "for i, table in enumerate(dfs):\n",
    "    sample = table.shape[0]\n",
    "    if sample >= SAMPLE_CUTOFF:\n",
    "#         print(table.Reporter.unique(), table.Partner.unique(), table.shape[0])\n",
    "        dist.append(sample)\n",
    "        dfs1.append(table)"
   ]
  },
  {
   "cell_type": "code",
   "execution_count": 11,
   "metadata": {},
   "outputs": [
    {
     "name": "stdout",
     "output_type": "stream",
     "text": [
      "number of trading observed:\t1841\n",
      "mean of number of sample:\t28.54535578489951\n",
      "median of number of sample:\t24.0\n"
     ]
    }
   ],
   "source": [
    "print('number of trading observed:\\t{}'.format(len(dfs1)))\n",
    "print('mean of number of sample:\\t{}'.format(np.mean(dist)))\n",
    "print('median of number of sample:\\t{}'.format(np.median(dist)))"
   ]
  },
  {
   "cell_type": "code",
   "execution_count": 12,
   "metadata": {},
   "outputs": [
    {
     "data": {
      "image/png": "[encoded data removed]",
      "text/plain": [
       "<Figure size 432x288 with 1 Axes>"
      ]
     },
     "metadata": {
      "needs_background": "light"
     },
     "output_type": "display_data"
    }
   ],
   "source": [
    "plt.hist(dist, 50)\n",
    "plt.title('Distribution of sample per rice trade')\n",
    "plt.show()"
   ]
  },
  {
   "cell_type": "markdown",
   "metadata": {},
   "source": [
    "The baseline method for detecting export value drop is as follow: $x_t < x_{t-1}$"
   ]
  },
  {
   "cell_type": "code",
   "execution_count": 13,
   "metadata": {},
   "outputs": [],
   "source": [
    "# plot trend of each trade\n",
    "# for i, table in enumerate(dfs):\n",
    "#     sample = table.shape[0]\n",
    "#     if sample >= SAMPLE_CUTOFF:\n",
    "#         table.plot(x='Period', y='Trade Value (US$)', marker='o')\n",
    "#         plt.title('Trade from {} to {}'.format(table.Reporter.unique()[0], table.Partner.unique()[0]))\n",
    "#         plt.show()\n",
    "#         xt = table['Trade Value (US$)'].tolist()[len(table)-1]\n",
    "#         xt1 = table['Trade Value (US$)'].tolist()[len(table)-2]\n",
    "#         diff1 = xt - xt1"
   ]
  },
  {
   "cell_type": "code",
   "execution_count": 14,
   "metadata": {},
   "outputs": [],
   "source": [
    "DROP_THRESHOLD = -100\n",
    "\n",
    "out_1 = []\n",
    "for i, table in enumerate(dfs):\n",
    "    reporter = table.Reporter.unique()[0]\n",
    "    partner = table.Partner.unique()[0]\n",
    "    sample = table.shape[0]\n",
    "    if sample >= SAMPLE_CUTOFF:\n",
    "        xt = table['Trade Value (US$)'].tolist()[len(table)-1]\n",
    "        xt1 = table['Trade Value (US$)'].tolist()[len(table)-2]\n",
    "        diff1 = xt - xt1\n",
    "        if diff1 < DROP_THRESHOLD:\n",
    "            out_1.append(table.iloc[len(table)-1,:])\n",
    "out_1 = pd.DataFrame(out_1)"
   ]
  },
  {
   "cell_type": "code",
   "execution_count": 15,
   "metadata": {},
   "outputs": [
    {
     "data": {
      "text/plain": [
       "(943, 5)"
      ]
     },
     "execution_count": 15,
     "metadata": {},
     "output_type": "execute_result"
    }
   ],
   "source": [
    "out_1.shape"
   ]
  },
  {
   "cell_type": "markdown",
   "metadata": {},
   "source": [
    "### Detect whether demand is also dropped or not"
   ]
  },
  {
   "cell_type": "code",
   "execution_count": 16,
   "metadata": {},
   "outputs": [],
   "source": [
    "def is_demand_drop(interest_partner, year):\n",
    "    gb_by_partner = df.groupby('Partner')\n",
    "    all_partner_import_from = gb_by_partner.get_group(interest_partner)\n",
    "    all_partner_import_from_within_year = all_partner_import_from[all_partner_import_from['time'].dt.year == year]\n",
    "    partner_import_from_ls = all_partner_import_from_within_year['Reporter'].unique()\n",
    "    gb_by_reporter_and_partner = df.groupby(['Reporter','Partner'])\n",
    "    \n",
    "    check_ls = []\n",
    "    for reporter in partner_import_from_ls:  \n",
    "        temp_df = gb_by_reporter_and_partner.get_group((reporter ,interest_partner))\n",
    "        if len(temp_df) < 2 : \n",
    "            continue\n",
    "        temp_df = temp_df.sort_values(by='time')\n",
    "        if temp_df.iloc[-1]['Trade Value (US$)'] < temp_df.iloc[-2]['Trade Value (US$)']: # demand drop\n",
    "            check_ls.append(True)\n",
    "        else:\n",
    "            check_ls.append(False)\n",
    "            \n",
    "    percentage = (sum(check_ls) / len(check_ls)) * 100\n",
    "    if percentage < 80:\n",
    "        return False\n",
    "    else: \n",
    "        return True\n",
    "    "
   ]
  },
  {
   "cell_type": "code",
   "execution_count": 17,
   "metadata": {},
   "outputs": [
    {
     "data": {
      "text/plain": [
       "False"
      ]
     },
     "execution_count": 17,
     "metadata": {},
     "output_type": "execute_result"
    }
   ],
   "source": [
    "is_demand_drop('Italy', 2015)"
   ]
  },
  {
   "cell_type": "code",
   "execution_count": 18,
   "metadata": {},
   "outputs": [
    {
     "data": {
      "text/plain": [
       "35.714285714285715"
      ]
     },
     "execution_count": 18,
     "metadata": {},
     "output_type": "execute_result"
    }
   ],
   "source": [
    "#----------- For testing\n",
    "gb_by_partner = df.groupby('Partner')\n",
    "partner_df = gb_by_partner.get_group('Italy')\n",
    "all_partner_import_from_within_year = partner_df[partner_df['time'].dt.year == 2015]\n",
    "partner_import_from_ls = all_partner_import_from_within_year['Reporter'].unique()\n",
    "\n",
    "gb_by_reporter_and_partner = df.groupby(['Reporter','Partner'])\n",
    "\n",
    "check_ls = []\n",
    "for reporter in partner_import_from_ls: \n",
    "        temp_df = gb_by_reporter_and_partner.get_group((reporter ,'Italy'))\n",
    "        if len(temp_df) < 2 : \n",
    "            continue\n",
    "        temp_df = temp_df.sort_values(by='time')\n",
    "        if temp_df.iloc[-1]['Trade Value (US$)'] < temp_df.iloc[-2]['Trade Value (US$)']: # demand drop\n",
    "            check_ls.append(True)\n",
    "        else:\n",
    "            check_ls.append(False) \n",
    "percentage = (sum(check_ls) / len(check_ls)) * 100\n",
    "percentage"
   ]
  },
  {
   "cell_type": "code",
   "execution_count": 19,
   "metadata": {},
   "outputs": [],
   "source": [
    "check_ls = []\n",
    "for index, row in out_1.iterrows():\n",
    "    check_ls.append(is_demand_drop(row['Partner'], row['time'].year))\n",
    "out_1['opportunity'] = check_ls\n",
    "out_2 = out_1.loc[out_1.opportunity][['Period', 'Reporter', 'Partner', 'Trade Value (US$)']]"
   ]
  },
  {
   "cell_type": "code",
   "execution_count": 20,
   "metadata": {},
   "outputs": [
    {
     "data": {
      "text/html": [
       "<div>\n",
       "<style scoped>\n",
       "    .dataframe tbody tr th:only-of-type {\n",
       "        vertical-align: middle;\n",
       "    }\n",
       "\n",
       "    .dataframe tbody tr th {\n",
       "        vertical-align: top;\n",
       "    }\n",
       "\n",
       "    .dataframe thead th {\n",
       "        text-align: right;\n",
       "    }\n",
       "</style>\n",
       "<table border=\"1\" class=\"dataframe\">\n",
       "  <thead>\n",
       "    <tr style=\"text-align: right;\">\n",
       "      <th></th>\n",
       "      <th>Period</th>\n",
       "      <th>Reporter</th>\n",
       "      <th>Partner</th>\n",
       "      <th>Trade Value (US$)</th>\n",
       "    </tr>\n",
       "  </thead>\n",
       "  <tbody>\n",
       "    <tr>\n",
       "      <th>727</th>\n",
       "      <td>201901</td>\n",
       "      <td>Azerbaijan</td>\n",
       "      <td>Malaysia</td>\n",
       "      <td>774</td>\n",
       "    </tr>\n",
       "    <tr>\n",
       "      <th>733</th>\n",
       "      <td>201901</td>\n",
       "      <td>Azerbaijan</td>\n",
       "      <td>Ukraine</td>\n",
       "      <td>1419</td>\n",
       "    </tr>\n",
       "    <tr>\n",
       "      <th>5154</th>\n",
       "      <td>201712</td>\n",
       "      <td>China</td>\n",
       "      <td>Andorra</td>\n",
       "      <td>195</td>\n",
       "    </tr>\n",
       "    <tr>\n",
       "      <th>5447</th>\n",
       "      <td>201711</td>\n",
       "      <td>China</td>\n",
       "      <td>Yemen</td>\n",
       "      <td>4043913</td>\n",
       "    </tr>\n",
       "    <tr>\n",
       "      <th>8026</th>\n",
       "      <td>201902</td>\n",
       "      <td>Egypt</td>\n",
       "      <td>Eritrea</td>\n",
       "      <td>37738</td>\n",
       "    </tr>\n",
       "  </tbody>\n",
       "</table>\n",
       "</div>"
      ],
      "text/plain": [
       "      Period    Reporter   Partner  Trade Value (US$)\n",
       "727   201901  Azerbaijan  Malaysia                774\n",
       "733   201901  Azerbaijan   Ukraine               1419\n",
       "5154  201712       China   Andorra                195\n",
       "5447  201711       China     Yemen            4043913\n",
       "8026  201902       Egypt   Eritrea              37738"
      ]
     },
     "execution_count": 20,
     "metadata": {},
     "output_type": "execute_result"
    }
   ],
   "source": [
    "out_2.head()"
   ]
  },
  {
   "cell_type": "code",
   "execution_count": 21,
   "metadata": {},
   "outputs": [
    {
     "data": {
      "text/plain": [
       "(56, 4)"
      ]
     },
     "execution_count": 21,
     "metadata": {},
     "output_type": "execute_result"
    }
   ],
   "source": [
    "out_2.shape"
   ]
  },
  {
   "cell_type": "markdown",
   "metadata": {},
   "source": [
    "## Preprocess Categorical Features"
   ]
  },
  {
   "cell_type": "code",
   "execution_count": 331,
   "metadata": {},
   "outputs": [
    {
     "name": "stdout",
     "output_type": "stream",
     "text": [
      "(56, 3)\n"
     ]
    }
   ],
   "source": [
    "X_df = out_2[['Reporter', 'Partner', 'Trade Value (US$)']]\n",
    "print(X_df.shape)"
   ]
  },
  {
   "cell_type": "code",
   "execution_count": 332,
   "metadata": {},
   "outputs": [
    {
     "name": "stdout",
     "output_type": "stream",
     "text": [
      "Number of unique Reporter:\t14\n",
      "Number of unique Partner:\t30\n"
     ]
    }
   ],
   "source": [
    "print('Number of unique Reporter:\\t{}'.format(X_df.Reporter.unique().shape[0]))\n",
    "print('Number of unique Partner:\\t{}'.format(X_df.Partner.unique().shape[0]))"
   ]
  },
  {
   "cell_type": "code",
   "execution_count": 333,
   "metadata": {},
   "outputs": [],
   "source": [
    "from sklearn.preprocessing import OneHotEncoder, StandardScaler\n",
    "\n",
    "enc = OneHotEncoder()\n",
    "X = enc.fit_transform(X_df[['Reporter', 'Partner']].values).toarray()"
   ]
  },
  {
   "cell_type": "code",
   "execution_count": 334,
   "metadata": {},
   "outputs": [],
   "source": [
    "# t = X_df['time'].values.reshape(X_df['time'].shape[0], 1)\n",
    "# time_scaler = StandardScaler().fit(t)\n",
    "# t_norm = time_scaler.transform(t)\n",
    "\n",
    "tv = X_df['Trade Value (US$)'].values.reshape(X_df['Trade Value (US$)'].shape[0], 1)\n",
    "value_scaler = StandardScaler().fit(tv)\n",
    "tv_norm = value_scaler.fit_transform(tv)\n",
    "\n",
    "X = np.concatenate((X, tv), axis=1)"
   ]
  },
  {
   "cell_type": "code",
   "execution_count": 335,
   "metadata": {},
   "outputs": [
    {
     "name": "stdout",
     "output_type": "stream",
     "text": [
      "(56, 45)\n"
     ]
    }
   ],
   "source": [
    "print(X.shape)"
   ]
  },
  {
   "cell_type": "markdown",
   "metadata": {},
   "source": [
    "## Cluster anomalies (baseline, no additional features)"
   ]
  },
  {
   "cell_type": "markdown",
   "metadata": {},
   "source": [
    "### Inspect value of K with elbow method"
   ]
  },
  {
   "cell_type": "code",
   "execution_count": 336,
   "metadata": {},
   "outputs": [],
   "source": [
    "from sklearn.cluster import KMeans\n",
    "from scipy.spatial.distance import cdist\n",
    "\n",
    "def plot_elbow(range_k, X):\n",
    "    distortions = []\n",
    "    K = range(1, range_k+1)\n",
    "    for k in K:\n",
    "        kmeanModel = KMeans(n_clusters=k).fit(X)\n",
    "        kmeanModel.fit(X)\n",
    "        distortions.append(sum(np.min(cdist(X, kmeanModel.cluster_centers_, 'euclidean'), axis=1)) / X.shape[0])\n",
    "        \n",
    "    plt.plot(K, distortions, 'bx-')\n",
    "    plt.xlabel('k')\n",
    "    plt.ylabel('Distortion')\n",
    "    plt.title('The Elbow Method showing the optimal k')\n",
    "    plt.show()"
   ]
  },
  {
   "cell_type": "code",
   "execution_count": 346,
   "metadata": {},
   "outputs": [
    {
     "data": {
      "image/png": "[encoded data removed]",
      "text/plain": [
       "<Figure size 432x288 with 1 Axes>"
      ]
     },
     "metadata": {
      "needs_background": "light"
     },
     "output_type": "display_data"
    }
   ],
   "source": [
    "plot_elbow(15, X)"
   ]
  },
  {
   "cell_type": "markdown",
   "metadata": {},
   "source": [
    "### Clustering\n",
    "Using k-mean clustering and"
   ]
  },
  {
   "cell_type": "code",
   "execution_count": 347,
   "metadata": {},
   "outputs": [],
   "source": [
    "from sklearn.decomposition import PCA\n",
    "\n",
    "K_CLUSTER = 4\n",
    "\n",
    "pred = KMeans(n_clusters = K_CLUSTER).fit_predict(X)\n",
    "pca = PCA(n_components = 2).fit_transform(X)"
   ]
  },
  {
   "cell_type": "code",
   "execution_count": 348,
   "metadata": {},
   "outputs": [],
   "source": [
    "from collections import defaultdict\n",
    "\n",
    "def assign_cluster(pred, X):\n",
    "    clusters = defaultdict(list)\n",
    "    for p, x, in zip(pred, X):\n",
    "        clusters[p].append(x)\n",
    "    return clusters"
   ]
  },
  {
   "cell_type": "code",
   "execution_count": 349,
   "metadata": {},
   "outputs": [],
   "source": [
    "clusters = assign_cluster(pred, X)\n",
    "pca_clusters = assign_cluster(pred, pca)"
   ]
  },
  {
   "cell_type": "code",
   "execution_count": 350,
   "metadata": {},
   "outputs": [],
   "source": [
    "import colorsys, random\n",
    "import warnings\n",
    "warnings.filterwarnings(\"ignore\")\n",
    "\n",
    "def get_colors(num_colors):\n",
    "    \"\"\"\n",
    "    Function to generate a list of randomly generated colors\n",
    "    The function first generates 256 different colors and then\n",
    "    we randomly select the number of colors required from it\n",
    "    num_colors        -> Number of colors to generate\n",
    "    colors            -> Consists of 256 different colors\n",
    "    random_colors     -> Randomly returns required(num_color) colors\n",
    "    \"\"\"\n",
    "    colors = []\n",
    "    random_colors = []\n",
    "    # Generate 256 different colors and choose num_clors randomly\n",
    "    for i in np.arange(0., 360., 360. / 256.):\n",
    "        hue = i / 360.\n",
    "        lightness = (50 + np.random.rand() * 10) / 100.\n",
    "        saturation = (90 + np.random.rand() * 10) / 100.\n",
    "        colors.append(colorsys.hls_to_rgb(hue, lightness, saturation))\n",
    "\n",
    "    for i in range(0, num_colors):\n",
    "        random_colors.append(colors[random.randint(0, len(colors) - 1)])\n",
    "    return random_colors\n",
    "\n",
    "def plot_clusters(clusters):\n",
    "    colors = get_colors(len(clusters.keys()))\n",
    "    i=0\n",
    "    for c in clusters.keys():\n",
    "        for c_item in clusters[c]:\n",
    "            plt.scatter(c_item[0], c_item[1], c = np.array(colors[i]).reshape(1,3), marker='x')\n",
    "        i += 1\n",
    "    plt.title('Clustering on PCA spaces')\n",
    "    plt.xlabel('PCA space 1')\n",
    "    plt.ylabel('PCA space 2')\n",
    "    plt.show()"
   ]
  },
  {
   "cell_type": "code",
   "execution_count": 351,
   "metadata": {},
   "outputs": [
    {
     "data": {
      "image/png": "[encoded data removed]",
      "text/plain": [
       "<Figure size 432x288 with 1 Axes>"
      ]
     },
     "metadata": {
      "needs_background": "light"
     },
     "output_type": "display_data"
    }
   ],
   "source": [
    "plot_clusters(pca_clusters)"
   ]
  },
  {
   "cell_type": "markdown",
   "metadata": {},
   "source": [
    "### Analysing clustered anomalies"
   ]
  },
  {
   "cell_type": "code",
   "execution_count": 352,
   "metadata": {},
   "outputs": [
    {
     "data": {
      "text/plain": [
       "('Azerbaijan', 'Malaysia', 658377910.2691377)"
      ]
     },
     "execution_count": 352,
     "metadata": {},
     "output_type": "execute_result"
    }
   ],
   "source": [
    "def inv_transform(x, enc, value_scaler):\n",
    "    reporter = x[:14]\n",
    "    partner = x[15:len(x)-2]\n",
    "    reporter_partner = x[:len(x)-1]\n",
    "    value = x[len(x)-1]\n",
    "    rp = reporter_partner.reshape(-1,reporter_partner.shape[0])\n",
    "    v = value_scaler.inverse_transform(np.array(value).reshape(1,1))[0][0]\n",
    "    r, p = enc.inverse_transform(rp)[0]\n",
    "    return r,p,v\n",
    "inv_transform(clusters[0][0], enc, value_scaler)"
   ]
  },
  {
   "cell_type": "code",
   "execution_count": 353,
   "metadata": {},
   "outputs": [],
   "source": [
    "def get_clusters_value(clusters, value_scaler, enc):\n",
    "    values = []\n",
    "    for i, key in enumerate(clusters):\n",
    "        c = np.array(clusters[key])\n",
    "        value = np.sum(value_scaler.inverse_transform(np.array(c[:,c.shape[1]-1])))\n",
    "        print('='*5,'Cluster {}, cluster value = {}'.format(i+1, value), '='*5)\n",
    "        c_prettify = []\n",
    "        for xi in c:\n",
    "            print(inv_transform(xi, enc, value_scaler))\n",
    "            c_prettify.append(inv_transform(xi, enc, value_scaler))\n",
    "        values.append((i, value, np.array(c_prettify)))\n",
    "    return values"
   ]
  },
  {
   "cell_type": "code",
   "execution_count": 354,
   "metadata": {},
   "outputs": [
    {
     "name": "stdout",
     "output_type": "stream",
     "text": [
      "===== Cluster 1, cluster value = 574611491246.4875 =====\n",
      "('Azerbaijan', 'Malaysia', 658377910.2691377)\n",
      "('Azerbaijan', 'Ukraine', 1206769533.335681)\n",
      "('China', 'Andorra', 166100778.86521742)\n",
      "('Egypt', 'Eritrea', 32085894119.62063)\n",
      "('India', \"Dem. People's Rep. of Korea\", 921095757.5986911)\n",
      "('India', 'Mongolia', 11213853879.83679)\n",
      "('India', 'Venezuela', 3794837906.381508)\n",
      "('Indonesia', 'French Polynesia', 12211036.578326967)\n",
      "('Indonesia', 'Yemen', 94917970609.91615)\n",
      "('Israel', 'South Africa', 14454040663.567947)\n",
      "('Israel', 'Ukraine', 15304260234.21375)\n",
      "('Japan', 'Bermuda', 4038000703.586208)\n",
      "('Japan', 'Croatia', 32145409489.565834)\n",
      "('Japan', 'Equatorial Guinea', 1695645786.4570181)\n",
      "('Japan', 'Haiti', 12590359364.712347)\n",
      "('Japan', 'Maldives', 1850385748.3145545)\n",
      "('Japan', 'Mozambique', 14978626138.656408)\n",
      "('Japan', 'North America and Central America, nes', 40674812222.28454)\n",
      "('Japan', 'Palau', 7767063740.438703)\n",
      "('Malaysia', 'Belize', 16095814654.484995)\n",
      "('Malaysia', 'Central African Rep.', 56520354360.41038)\n",
      "('Malaysia', 'Equatorial Guinea', 6339545081.324398)\n",
      "('Malaysia', 'French Polynesia', 4624652207.331812)\n",
      "('Malaysia', 'Guyana', 1849535528.7439086)\n",
      "('Malaysia', 'Honduras', 30592908553.566597)\n",
      "('Pakistan', 'Ukraine', 467078506.873832)\n",
      "('Philippines', 'Palau', 183105170.2781335)\n",
      "('Philippines', 'South Africa', 21493858708.515205)\n",
      "('Singapore', 'Equatorial Guinea', 11360817.007681163)\n",
      "('Singapore', 'Guyana', 24114110.567368217)\n",
      "('Singapore', 'Palau', 359950840.9724607)\n",
      "('Singapore', 'Tonga', 1030774082.2119998)\n",
      "('Turkey', 'Belize', 23677222565.933628)\n",
      "('Turkey', 'Central African Rep.', 143995070.02842653)\n",
      "('Turkey', 'Cuba', 308937666.7337125)\n",
      "('Turkey', 'Equatorial Guinea', 4585542107.082106)\n",
      "('Turkey', 'Faeroe Isds', 25556207817.060856)\n",
      "('Turkey', 'French Polynesia', 14074842735.05992)\n",
      "('Turkey', 'Guinea-Bissau', 30796111030.950943)\n",
      "('Turkey', 'Honduras', 9673256017.826593)\n",
      "('Turkey', 'Jamaica', 19378512416.748444)\n",
      "('Turkey', 'Mozambique', 5826862680.224978)\n",
      "('United Arab Emirates', 'Comoros', 5073568140.632796)\n",
      "('United Arab Emirates', 'Guinea-Bissau', 5447664751.71695)\n",
      "===== Cluster 2, cluster value = 9180335160771.18 =====\n",
      "('China', 'Yemen', 3438214282551.573)\n",
      "('Philippines', 'Malaysia', 2975034215513.8643)\n",
      "('Turkey', 'South Africa', 2767086662705.743)\n",
      "===== Cluster 3, cluster value = 1347444277067.7065 =====\n",
      "('Japan', 'Cuba', 138302974860.83023)\n",
      "('Jordan', 'Free Zones', 200351999126.561)\n",
      "('Malaysia', 'Venezuela', 154969829104.19992)\n",
      "('Turkey', 'Albania', 239255496020.60104)\n",
      "('Turkey', 'Croatia', 428126672322.14246)\n",
      "('Turkey', 'Malaysia', 186437305633.37177)\n",
      "===== Cluster 4, cluster value = 3560432261317.945 =====\n",
      "('Japan', 'Mongolia', 877203297121.9788)\n",
      "('Turkey', 'Free Zones', 1449663786013.9343)\n",
      "('Turkey', 'Ukraine', 1233565178182.0317)\n"
     ]
    }
   ],
   "source": [
    "prettify_cluster = get_clusters_value(clusters, value_scaler, enc)"
   ]
  },
  {
   "cell_type": "code",
   "execution_count": 48,
   "metadata": {},
   "outputs": [
    {
     "data": {
      "text/plain": [
       "[(0, 39477.0, array([['Azerbaijan', 'Malaysia', '774.0'],\n",
       "         ['Azerbaijan', 'Ukraine', '1419.0'],\n",
       "         ['India', \"Dem. People's Rep. of Korea\", '1083.0'],\n",
       "         ['India', 'Mongolia', '13189.0'],\n",
       "         ['India', 'Venezuela', '4463.0'],\n",
       "         ['Israel', 'Ukraine', '18000.0'],\n",
       "         ['Pakistan', 'Ukraine', '549.0']], dtype='<U27')),\n",
       " (4, 331104.0, array([['Malaysia', 'Belize', '18931.0'],\n",
       "         ['Malaysia', 'Central African Rep.', '66476.99999999997'],\n",
       "         ['Malaysia', 'Equatorial Guinea', '7456.0'],\n",
       "         ['Malaysia', 'French Polynesia', '5439.0'],\n",
       "         ['Malaysia', 'Guyana', '2175.0'],\n",
       "         ['Malaysia', 'Honduras', '35982.0'],\n",
       "         ['Malaysia', 'Venezuela', '182270.0'],\n",
       "         ['United Arab Emirates', 'Comoros', '5967.0'],\n",
       "         ['United Arab Emirates', 'Guinea-Bissau', '6407.0']], dtype='<U20')),\n",
       " (1, 429404.0, array([['China', 'Andorra', '195.0'],\n",
       "         ['Egypt', 'Eritrea', '37738.0'],\n",
       "         ['Indonesia', 'French Polynesia', '14.0'],\n",
       "         ['Indonesia', 'Yemen', '111639.0'],\n",
       "         ['Israel', 'South Africa', '17000.0'],\n",
       "         ['Jordan', 'Free Zones', '235647.0'],\n",
       "         ['Philippines', 'Palau', '215.0'],\n",
       "         ['Philippines', 'South Africa', '25280.0'],\n",
       "         ['Singapore', 'Equatorial Guinea', '13.0'],\n",
       "         ['Singapore', 'Guyana', '28.0'],\n",
       "         ['Singapore', 'Palau', '423.0'],\n",
       "         ['Singapore', 'Tonga', '1212.0']], dtype='<U17')),\n",
       " (5, 1161861.0, array([['Turkey', 'Albania', '281404.0'],\n",
       "         ['Turkey', 'Belize', '27848.0'],\n",
       "         ['Turkey', 'Central African Rep.', '169.0'],\n",
       "         ['Turkey', 'Croatia', '503548.0'],\n",
       "         ['Turkey', 'Cuba', '363.0'],\n",
       "         ['Turkey', 'Equatorial Guinea', '5393.0'],\n",
       "         ['Turkey', 'Faeroe Isds', '30058.0'],\n",
       "         ['Turkey', 'French Polynesia', '16554.0'],\n",
       "         ['Turkey', 'Guinea-Bissau', '36221.0'],\n",
       "         ['Turkey', 'Honduras', '11377.0'],\n",
       "         ['Turkey', 'Jamaica', '22792.0'],\n",
       "         ['Turkey', 'Malaysia', '219281.0'],\n",
       "         ['Turkey', 'Mozambique', '6853.0']], dtype='<U20')),\n",
       " (3, 1330531.0, array([['Japan', 'Bermuda', '4749.0'],\n",
       "         ['Japan', 'Croatia', '37808.0'],\n",
       "         ['Japan', 'Cuba', '162667.0'],\n",
       "         ['Japan', 'Equatorial Guinea', '1994.0'],\n",
       "         ['Japan', 'Haiti', '14808.0'],\n",
       "         ['Japan', 'Maldives', '2176.0'],\n",
       "         ['Japan', 'Mongolia', '1031737.0'],\n",
       "         ['Japan', 'Mozambique', '17617.0'],\n",
       "         ['Japan', 'North America and Central America, nes',\n",
       "          '47840.00000000003'],\n",
       "         ['Japan', 'Palau', '9135.0']], dtype='<U38')),\n",
       " (6, 3155924.0, array([['Turkey', 'Free Zones', '1705046.0'],\n",
       "         ['Turkey', 'Ukraine', '1450878.0']], dtype='<U10')),\n",
       " (2, 10797604.0, array([['China', 'Yemen', '4043913.0'],\n",
       "         ['Philippines', 'Malaysia', '3499136.0'],\n",
       "         ['Turkey', 'South Africa', '3254555.0']], dtype='<U12'))]"
      ]
     },
     "execution_count": 48,
     "metadata": {},
     "output_type": "execute_result"
    }
   ],
   "source": [
    "sorted(prettify_cluster, key=lambda tup: tup[1])"
   ]
  },
  {
   "cell_type": "markdown",
   "metadata": {},
   "source": [
    "## Cluster anomalies (with additional features)"
   ]
  },
  {
   "cell_type": "markdown",
   "metadata": {},
   "source": [
    "### Preprocess features"
   ]
  },
  {
   "cell_type": "code",
   "execution_count": 181,
   "metadata": {},
   "outputs": [
    {
     "name": "stdout",
     "output_type": "stream",
     "text": [
      "(245, 16)\n"
     ]
    },
    {
     "data": {
      "text/html": [
       "<div>\n",
       "<style scoped>\n",
       "    .dataframe tbody tr th:only-of-type {\n",
       "        vertical-align: middle;\n",
       "    }\n",
       "\n",
       "    .dataframe tbody tr th {\n",
       "        vertical-align: top;\n",
       "    }\n",
       "\n",
       "    .dataframe thead th {\n",
       "        text-align: right;\n",
       "    }\n",
       "</style>\n",
       "<table border=\"1\" class=\"dataframe\">\n",
       "  <thead>\n",
       "    <tr style=\"text-align: right;\">\n",
       "      <th></th>\n",
       "      <th>country</th>\n",
       "      <th>year</th>\n",
       "      <th>AG.LND.AGRI.ZS</th>\n",
       "      <th>SH.STA.SUIC.P5</th>\n",
       "      <th>VC.IDP.NWDS</th>\n",
       "      <th>EN.ATM.PM25.MC.M3</th>\n",
       "      <th>SL.UEM.TOTL.ZS</th>\n",
       "      <th>NY.GDP.DEFL.KD.ZG</th>\n",
       "      <th>NY.GDP.PCAP.KD.ZG</th>\n",
       "      <th>DT.DOD.DSTC.IR.ZS</th>\n",
       "      <th>NY.GNS.ICTR.ZS</th>\n",
       "      <th>LP.EXP.DURS.MD</th>\n",
       "      <th>SL.AGR.EMPL.MA.ZS</th>\n",
       "      <th>SP.RUR.TOTL.ZS</th>\n",
       "      <th>BX.KLT.DINV.CD.WD</th>\n",
       "      <th>FR.INR.LEND</th>\n",
       "    </tr>\n",
       "  </thead>\n",
       "  <tbody>\n",
       "    <tr>\n",
       "      <th>0</th>\n",
       "      <td>United Arab Emirates</td>\n",
       "      <td>2018</td>\n",
       "      <td>5.463719</td>\n",
       "      <td>2.8</td>\n",
       "      <td>850.0</td>\n",
       "      <td>40.439506</td>\n",
       "      <td>2.575</td>\n",
       "      <td>6.740992</td>\n",
       "      <td>-0.090057</td>\n",
       "      <td>0.0</td>\n",
       "      <td>0.0</td>\n",
       "      <td>2.0</td>\n",
       "      <td>4.308</td>\n",
       "      <td>13.478</td>\n",
       "      <td>9.895359e+09</td>\n",
       "      <td>0.0</td>\n",
       "    </tr>\n",
       "    <tr>\n",
       "      <th>1</th>\n",
       "      <td>United Arab Emirates</td>\n",
       "      <td>2017</td>\n",
       "      <td>5.463719</td>\n",
       "      <td>2.8</td>\n",
       "      <td>850.0</td>\n",
       "      <td>40.917510</td>\n",
       "      <td>2.463</td>\n",
       "      <td>6.310088</td>\n",
       "      <td>-0.550571</td>\n",
       "      <td>0.0</td>\n",
       "      <td>0.0</td>\n",
       "      <td>2.0</td>\n",
       "      <td>4.343</td>\n",
       "      <td>13.752</td>\n",
       "      <td>1.035422e+10</td>\n",
       "      <td>0.0</td>\n",
       "    </tr>\n",
       "    <tr>\n",
       "      <th>2</th>\n",
       "      <td>United Arab Emirates</td>\n",
       "      <td>2016</td>\n",
       "      <td>5.474514</td>\n",
       "      <td>2.8</td>\n",
       "      <td>850.0</td>\n",
       "      <td>40.522103</td>\n",
       "      <td>1.636</td>\n",
       "      <td>-3.197247</td>\n",
       "      <td>1.909377</td>\n",
       "      <td>0.0</td>\n",
       "      <td>0.0</td>\n",
       "      <td>2.0</td>\n",
       "      <td>4.378</td>\n",
       "      <td>14.035</td>\n",
       "      <td>9.604773e+09</td>\n",
       "      <td>0.0</td>\n",
       "    </tr>\n",
       "    <tr>\n",
       "      <th>3</th>\n",
       "      <td>United Arab Emirates</td>\n",
       "      <td>2015</td>\n",
       "      <td>5.460434</td>\n",
       "      <td>2.8</td>\n",
       "      <td>850.0</td>\n",
       "      <td>42.334990</td>\n",
       "      <td>1.836</td>\n",
       "      <td>-15.445400</td>\n",
       "      <td>4.512037</td>\n",
       "      <td>0.0</td>\n",
       "      <td>0.0</td>\n",
       "      <td>2.0</td>\n",
       "      <td>4.445</td>\n",
       "      <td>14.326</td>\n",
       "      <td>8.550902e+09</td>\n",
       "      <td>0.0</td>\n",
       "    </tr>\n",
       "    <tr>\n",
       "      <th>4</th>\n",
       "      <td>United Arab Emirates</td>\n",
       "      <td>2014</td>\n",
       "      <td>5.456210</td>\n",
       "      <td>2.8</td>\n",
       "      <td>850.0</td>\n",
       "      <td>37.983421</td>\n",
       "      <td>2.061</td>\n",
       "      <td>-1.014102</td>\n",
       "      <td>4.214411</td>\n",
       "      <td>0.0</td>\n",
       "      <td>0.0</td>\n",
       "      <td>2.0</td>\n",
       "      <td>4.588</td>\n",
       "      <td>14.625</td>\n",
       "      <td>1.107154e+10</td>\n",
       "      <td>0.0</td>\n",
       "    </tr>\n",
       "  </tbody>\n",
       "</table>\n",
       "</div>"
      ],
      "text/plain": [
       "                country  year  AG.LND.AGRI.ZS  SH.STA.SUIC.P5  VC.IDP.NWDS  \\\n",
       "0  United Arab Emirates  2018        5.463719             2.8        850.0   \n",
       "1  United Arab Emirates  2017        5.463719             2.8        850.0   \n",
       "2  United Arab Emirates  2016        5.474514             2.8        850.0   \n",
       "3  United Arab Emirates  2015        5.460434             2.8        850.0   \n",
       "4  United Arab Emirates  2014        5.456210             2.8        850.0   \n",
       "\n",
       "   EN.ATM.PM25.MC.M3  SL.UEM.TOTL.ZS  NY.GDP.DEFL.KD.ZG  NY.GDP.PCAP.KD.ZG  \\\n",
       "0          40.439506           2.575           6.740992          -0.090057   \n",
       "1          40.917510           2.463           6.310088          -0.550571   \n",
       "2          40.522103           1.636          -3.197247           1.909377   \n",
       "3          42.334990           1.836         -15.445400           4.512037   \n",
       "4          37.983421           2.061          -1.014102           4.214411   \n",
       "\n",
       "   DT.DOD.DSTC.IR.ZS  NY.GNS.ICTR.ZS  LP.EXP.DURS.MD  SL.AGR.EMPL.MA.ZS  \\\n",
       "0                0.0             0.0             2.0              4.308   \n",
       "1                0.0             0.0             2.0              4.343   \n",
       "2                0.0             0.0             2.0              4.378   \n",
       "3                0.0             0.0             2.0              4.445   \n",
       "4                0.0             0.0             2.0              4.588   \n",
       "\n",
       "   SP.RUR.TOTL.ZS  BX.KLT.DINV.CD.WD  FR.INR.LEND  \n",
       "0          13.478       9.895359e+09          0.0  \n",
       "1          13.752       1.035422e+10          0.0  \n",
       "2          14.035       9.604773e+09          0.0  \n",
       "3          14.326       8.550902e+09          0.0  \n",
       "4          14.625       1.107154e+10          0.0  "
      ]
     },
     "execution_count": 181,
     "metadata": {},
     "output_type": "execute_result"
    }
   ],
   "source": [
    "feats = pd.read_csv('scripts/feats.csv')\n",
    "feats.drop(feats.columns[0], axis=1, inplace=True)\n",
    "print(feats.shape)\n",
    "feats.head()"
   ]
  },
  {
   "cell_type": "code",
   "execution_count": 182,
   "metadata": {},
   "outputs": [
    {
     "data": {
      "text/html": [
       "<div>\n",
       "<style scoped>\n",
       "    .dataframe tbody tr th:only-of-type {\n",
       "        vertical-align: middle;\n",
       "    }\n",
       "\n",
       "    .dataframe tbody tr th {\n",
       "        vertical-align: top;\n",
       "    }\n",
       "\n",
       "    .dataframe thead th {\n",
       "        text-align: right;\n",
       "    }\n",
       "</style>\n",
       "<table border=\"1\" class=\"dataframe\">\n",
       "  <thead>\n",
       "    <tr style=\"text-align: right;\">\n",
       "      <th></th>\n",
       "      <th>Period</th>\n",
       "      <th>Reporter</th>\n",
       "      <th>Partner</th>\n",
       "      <th>Trade Value (US$)</th>\n",
       "    </tr>\n",
       "  </thead>\n",
       "  <tbody>\n",
       "    <tr>\n",
       "      <th>727</th>\n",
       "      <td>201901</td>\n",
       "      <td>Azerbaijan</td>\n",
       "      <td>Malaysia</td>\n",
       "      <td>774</td>\n",
       "    </tr>\n",
       "    <tr>\n",
       "      <th>733</th>\n",
       "      <td>201901</td>\n",
       "      <td>Azerbaijan</td>\n",
       "      <td>Ukraine</td>\n",
       "      <td>1419</td>\n",
       "    </tr>\n",
       "    <tr>\n",
       "      <th>5154</th>\n",
       "      <td>201712</td>\n",
       "      <td>China</td>\n",
       "      <td>Andorra</td>\n",
       "      <td>195</td>\n",
       "    </tr>\n",
       "    <tr>\n",
       "      <th>5447</th>\n",
       "      <td>201711</td>\n",
       "      <td>China</td>\n",
       "      <td>Yemen</td>\n",
       "      <td>4043913</td>\n",
       "    </tr>\n",
       "    <tr>\n",
       "      <th>8026</th>\n",
       "      <td>201902</td>\n",
       "      <td>Egypt</td>\n",
       "      <td>Eritrea</td>\n",
       "      <td>37738</td>\n",
       "    </tr>\n",
       "  </tbody>\n",
       "</table>\n",
       "</div>"
      ],
      "text/plain": [
       "      Period    Reporter   Partner  Trade Value (US$)\n",
       "727   201901  Azerbaijan  Malaysia                774\n",
       "733   201901  Azerbaijan   Ukraine               1419\n",
       "5154  201712       China   Andorra                195\n",
       "5447  201711       China     Yemen            4043913\n",
       "8026  201902       Egypt   Eritrea              37738"
      ]
     },
     "execution_count": 182,
     "metadata": {},
     "output_type": "execute_result"
    }
   ],
   "source": [
    "out_2.head()"
   ]
  },
  {
   "cell_type": "code",
   "execution_count": 183,
   "metadata": {},
   "outputs": [],
   "source": [
    "temp = out_2.copy()\n",
    "temp['time'] = out_2['Period'].str[:-2]\n",
    "temp = temp.loc[temp['Period'] != '2019']"
   ]
  },
  {
   "cell_type": "code",
   "execution_count": 184,
   "metadata": {},
   "outputs": [
    {
     "name": "stdout",
     "output_type": "stream",
     "text": [
      "(56, 5)\n"
     ]
    },
    {
     "data": {
      "text/html": [
       "<div>\n",
       "<style scoped>\n",
       "    .dataframe tbody tr th:only-of-type {\n",
       "        vertical-align: middle;\n",
       "    }\n",
       "\n",
       "    .dataframe tbody tr th {\n",
       "        vertical-align: top;\n",
       "    }\n",
       "\n",
       "    .dataframe thead th {\n",
       "        text-align: right;\n",
       "    }\n",
       "</style>\n",
       "<table border=\"1\" class=\"dataframe\">\n",
       "  <thead>\n",
       "    <tr style=\"text-align: right;\">\n",
       "      <th></th>\n",
       "      <th>Period</th>\n",
       "      <th>Reporter</th>\n",
       "      <th>Partner</th>\n",
       "      <th>Trade Value (US$)</th>\n",
       "      <th>time</th>\n",
       "    </tr>\n",
       "  </thead>\n",
       "  <tbody>\n",
       "    <tr>\n",
       "      <th>727</th>\n",
       "      <td>201901</td>\n",
       "      <td>Azerbaijan</td>\n",
       "      <td>Malaysia</td>\n",
       "      <td>774</td>\n",
       "      <td>2019</td>\n",
       "    </tr>\n",
       "    <tr>\n",
       "      <th>733</th>\n",
       "      <td>201901</td>\n",
       "      <td>Azerbaijan</td>\n",
       "      <td>Ukraine</td>\n",
       "      <td>1419</td>\n",
       "      <td>2019</td>\n",
       "    </tr>\n",
       "    <tr>\n",
       "      <th>5154</th>\n",
       "      <td>201712</td>\n",
       "      <td>China</td>\n",
       "      <td>Andorra</td>\n",
       "      <td>195</td>\n",
       "      <td>2017</td>\n",
       "    </tr>\n",
       "    <tr>\n",
       "      <th>5447</th>\n",
       "      <td>201711</td>\n",
       "      <td>China</td>\n",
       "      <td>Yemen</td>\n",
       "      <td>4043913</td>\n",
       "      <td>2017</td>\n",
       "    </tr>\n",
       "    <tr>\n",
       "      <th>8026</th>\n",
       "      <td>201902</td>\n",
       "      <td>Egypt</td>\n",
       "      <td>Eritrea</td>\n",
       "      <td>37738</td>\n",
       "      <td>2019</td>\n",
       "    </tr>\n",
       "  </tbody>\n",
       "</table>\n",
       "</div>"
      ],
      "text/plain": [
       "      Period    Reporter   Partner  Trade Value (US$)  time\n",
       "727   201901  Azerbaijan  Malaysia                774  2019\n",
       "733   201901  Azerbaijan   Ukraine               1419  2019\n",
       "5154  201712       China   Andorra                195  2017\n",
       "5447  201711       China     Yemen            4043913  2017\n",
       "8026  201902       Egypt   Eritrea              37738  2019"
      ]
     },
     "execution_count": 184,
     "metadata": {},
     "output_type": "execute_result"
    }
   ],
   "source": [
    "print(temp.shape)\n",
    "temp.head()"
   ]
  },
  {
   "cell_type": "code",
   "execution_count": 185,
   "metadata": {},
   "outputs": [
    {
     "data": {
      "text/plain": [
       "Period               object\n",
       "Reporter             object\n",
       "Partner              object\n",
       "Trade Value (US$)     int64\n",
       "time                 object\n",
       "dtype: object"
      ]
     },
     "execution_count": 185,
     "metadata": {},
     "output_type": "execute_result"
    }
   ],
   "source": [
    "temp.dtypes"
   ]
  },
  {
   "cell_type": "code",
   "execution_count": 186,
   "metadata": {},
   "outputs": [
    {
     "data": {
      "text/plain": [
       "country               object\n",
       "year                  object\n",
       "AG.LND.AGRI.ZS       float64\n",
       "SH.STA.SUIC.P5       float64\n",
       "VC.IDP.NWDS          float64\n",
       "EN.ATM.PM25.MC.M3    float64\n",
       "SL.UEM.TOTL.ZS       float64\n",
       "NY.GDP.DEFL.KD.ZG    float64\n",
       "NY.GDP.PCAP.KD.ZG    float64\n",
       "DT.DOD.DSTC.IR.ZS    float64\n",
       "NY.GNS.ICTR.ZS       float64\n",
       "LP.EXP.DURS.MD       float64\n",
       "SL.AGR.EMPL.MA.ZS    float64\n",
       "SP.RUR.TOTL.ZS       float64\n",
       "BX.KLT.DINV.CD.WD    float64\n",
       "FR.INR.LEND          float64\n",
       "dtype: object"
      ]
     },
     "execution_count": 186,
     "metadata": {},
     "output_type": "execute_result"
    }
   ],
   "source": [
    "feats = feats.astype({'year': str})\n",
    "feats.dtypes"
   ]
  },
  {
   "cell_type": "code",
   "execution_count": 187,
   "metadata": {},
   "outputs": [],
   "source": [
    "X_merged = pd.merge(temp, feats, left_on=['time', 'Reporter'], right_on=['year', 'country'], how='inner')\n",
    "X_merged = X_merged.drop(X_merged[['time', 'country', 'year']], axis=1)"
   ]
  },
  {
   "cell_type": "code",
   "execution_count": 188,
   "metadata": {},
   "outputs": [
    {
     "data": {
      "text/html": [
       "<div>\n",
       "<style scoped>\n",
       "    .dataframe tbody tr th:only-of-type {\n",
       "        vertical-align: middle;\n",
       "    }\n",
       "\n",
       "    .dataframe tbody tr th {\n",
       "        vertical-align: top;\n",
       "    }\n",
       "\n",
       "    .dataframe thead th {\n",
       "        text-align: right;\n",
       "    }\n",
       "</style>\n",
       "<table border=\"1\" class=\"dataframe\">\n",
       "  <thead>\n",
       "    <tr style=\"text-align: right;\">\n",
       "      <th></th>\n",
       "      <th>Period</th>\n",
       "      <th>Reporter</th>\n",
       "      <th>Partner</th>\n",
       "      <th>Trade Value (US$)</th>\n",
       "      <th>AG.LND.AGRI.ZS</th>\n",
       "      <th>SH.STA.SUIC.P5</th>\n",
       "      <th>VC.IDP.NWDS</th>\n",
       "      <th>EN.ATM.PM25.MC.M3</th>\n",
       "      <th>SL.UEM.TOTL.ZS</th>\n",
       "      <th>NY.GDP.DEFL.KD.ZG</th>\n",
       "      <th>NY.GDP.PCAP.KD.ZG</th>\n",
       "      <th>DT.DOD.DSTC.IR.ZS</th>\n",
       "      <th>NY.GNS.ICTR.ZS</th>\n",
       "      <th>LP.EXP.DURS.MD</th>\n",
       "      <th>SL.AGR.EMPL.MA.ZS</th>\n",
       "      <th>SP.RUR.TOTL.ZS</th>\n",
       "      <th>BX.KLT.DINV.CD.WD</th>\n",
       "      <th>FR.INR.LEND</th>\n",
       "    </tr>\n",
       "  </thead>\n",
       "  <tbody>\n",
       "    <tr>\n",
       "      <th>0</th>\n",
       "      <td>201712</td>\n",
       "      <td>China</td>\n",
       "      <td>Andorra</td>\n",
       "      <td>195</td>\n",
       "      <td>55.747896</td>\n",
       "      <td>9.65</td>\n",
       "      <td>4473000.0</td>\n",
       "      <td>52.664596</td>\n",
       "      <td>4.400</td>\n",
       "      <td>3.884170</td>\n",
       "      <td>6.161772</td>\n",
       "      <td>31.852117</td>\n",
       "      <td>46.360727</td>\n",
       "      <td>2.5</td>\n",
       "      <td>28.976999</td>\n",
       "      <td>42.04</td>\n",
       "      <td>1.660838e+11</td>\n",
       "      <td>4.350000</td>\n",
       "    </tr>\n",
       "    <tr>\n",
       "      <th>1</th>\n",
       "      <td>201711</td>\n",
       "      <td>China</td>\n",
       "      <td>Yemen</td>\n",
       "      <td>4043913</td>\n",
       "      <td>55.747896</td>\n",
       "      <td>9.65</td>\n",
       "      <td>4473000.0</td>\n",
       "      <td>52.664596</td>\n",
       "      <td>4.400</td>\n",
       "      <td>3.884170</td>\n",
       "      <td>6.161772</td>\n",
       "      <td>31.852117</td>\n",
       "      <td>46.360727</td>\n",
       "      <td>2.5</td>\n",
       "      <td>28.976999</td>\n",
       "      <td>42.04</td>\n",
       "      <td>1.660838e+11</td>\n",
       "      <td>4.350000</td>\n",
       "    </tr>\n",
       "    <tr>\n",
       "      <th>2</th>\n",
       "      <td>201810</td>\n",
       "      <td>India</td>\n",
       "      <td>Dem. People's Rep. of Korea</td>\n",
       "      <td>1083</td>\n",
       "      <td>60.447196</td>\n",
       "      <td>16.40</td>\n",
       "      <td>2675000.0</td>\n",
       "      <td>89.867776</td>\n",
       "      <td>2.551</td>\n",
       "      <td>4.184739</td>\n",
       "      <td>5.878317</td>\n",
       "      <td>24.067597</td>\n",
       "      <td>32.184153</td>\n",
       "      <td>3.0</td>\n",
       "      <td>40.174000</td>\n",
       "      <td>65.97</td>\n",
       "      <td>4.075270e+10</td>\n",
       "      <td>9.454167</td>\n",
       "    </tr>\n",
       "    <tr>\n",
       "      <th>3</th>\n",
       "      <td>201807</td>\n",
       "      <td>India</td>\n",
       "      <td>Mongolia</td>\n",
       "      <td>13189</td>\n",
       "      <td>60.447196</td>\n",
       "      <td>16.40</td>\n",
       "      <td>2675000.0</td>\n",
       "      <td>89.867776</td>\n",
       "      <td>2.551</td>\n",
       "      <td>4.184739</td>\n",
       "      <td>5.878317</td>\n",
       "      <td>24.067597</td>\n",
       "      <td>32.184153</td>\n",
       "      <td>3.0</td>\n",
       "      <td>40.174000</td>\n",
       "      <td>65.97</td>\n",
       "      <td>4.075270e+10</td>\n",
       "      <td>9.454167</td>\n",
       "    </tr>\n",
       "    <tr>\n",
       "      <th>4</th>\n",
       "      <td>201803</td>\n",
       "      <td>India</td>\n",
       "      <td>Venezuela</td>\n",
       "      <td>4463</td>\n",
       "      <td>60.447196</td>\n",
       "      <td>16.40</td>\n",
       "      <td>2675000.0</td>\n",
       "      <td>89.867776</td>\n",
       "      <td>2.551</td>\n",
       "      <td>4.184739</td>\n",
       "      <td>5.878317</td>\n",
       "      <td>24.067597</td>\n",
       "      <td>32.184153</td>\n",
       "      <td>3.0</td>\n",
       "      <td>40.174000</td>\n",
       "      <td>65.97</td>\n",
       "      <td>4.075270e+10</td>\n",
       "      <td>9.454167</td>\n",
       "    </tr>\n",
       "  </tbody>\n",
       "</table>\n",
       "</div>"
      ],
      "text/plain": [
       "   Period Reporter                      Partner  Trade Value (US$)  \\\n",
       "0  201712    China                      Andorra                195   \n",
       "1  201711    China                        Yemen            4043913   \n",
       "2  201810    India  Dem. People's Rep. of Korea               1083   \n",
       "3  201807    India                     Mongolia              13189   \n",
       "4  201803    India                    Venezuela               4463   \n",
       "\n",
       "   AG.LND.AGRI.ZS  SH.STA.SUIC.P5  VC.IDP.NWDS  EN.ATM.PM25.MC.M3  \\\n",
       "0       55.747896            9.65    4473000.0          52.664596   \n",
       "1       55.747896            9.65    4473000.0          52.664596   \n",
       "2       60.447196           16.40    2675000.0          89.867776   \n",
       "3       60.447196           16.40    2675000.0          89.867776   \n",
       "4       60.447196           16.40    2675000.0          89.867776   \n",
       "\n",
       "   SL.UEM.TOTL.ZS  NY.GDP.DEFL.KD.ZG  NY.GDP.PCAP.KD.ZG  DT.DOD.DSTC.IR.ZS  \\\n",
       "0           4.400           3.884170           6.161772          31.852117   \n",
       "1           4.400           3.884170           6.161772          31.852117   \n",
       "2           2.551           4.184739           5.878317          24.067597   \n",
       "3           2.551           4.184739           5.878317          24.067597   \n",
       "4           2.551           4.184739           5.878317          24.067597   \n",
       "\n",
       "   NY.GNS.ICTR.ZS  LP.EXP.DURS.MD  SL.AGR.EMPL.MA.ZS  SP.RUR.TOTL.ZS  \\\n",
       "0       46.360727             2.5          28.976999           42.04   \n",
       "1       46.360727             2.5          28.976999           42.04   \n",
       "2       32.184153             3.0          40.174000           65.97   \n",
       "3       32.184153             3.0          40.174000           65.97   \n",
       "4       32.184153             3.0          40.174000           65.97   \n",
       "\n",
       "   BX.KLT.DINV.CD.WD  FR.INR.LEND  \n",
       "0       1.660838e+11     4.350000  \n",
       "1       1.660838e+11     4.350000  \n",
       "2       4.075270e+10     9.454167  \n",
       "3       4.075270e+10     9.454167  \n",
       "4       4.075270e+10     9.454167  "
      ]
     },
     "execution_count": 188,
     "metadata": {},
     "output_type": "execute_result"
    }
   ],
   "source": [
    "X_merged.head()"
   ]
  },
  {
   "cell_type": "code",
   "execution_count": 189,
   "metadata": {},
   "outputs": [
    {
     "name": "stdout",
     "output_type": "stream",
     "text": [
      "Unique reporters: 8\n",
      "Unique partner: 16\n"
     ]
    }
   ],
   "source": [
    "print('Unique reporters:',len(X_merged.Reporter.unique()))\n",
    "print('Unique partner:',len(X_merged.Partner.unique()))"
   ]
  },
  {
   "cell_type": "code",
   "execution_count": 190,
   "metadata": {},
   "outputs": [],
   "source": [
    "enc = OneHotEncoder()\n",
    "X_ohe = enc.fit_transform(X_merged[['Reporter', 'Partner']].values).toarray()"
   ]
  },
  {
   "cell_type": "code",
   "execution_count": 191,
   "metadata": {},
   "outputs": [],
   "source": [
    "X_no_oh = X_merged.drop(X_merged[['Period', 'Reporter', 'Partner']], axis=1)"
   ]
  },
  {
   "cell_type": "code",
   "execution_count": 192,
   "metadata": {},
   "outputs": [],
   "source": [
    "X = np.concatenate((X_no_oh.values, X_ohe), axis=1)"
   ]
  },
  {
   "cell_type": "code",
   "execution_count": 193,
   "metadata": {},
   "outputs": [
    {
     "data": {
      "text/plain": [
       "(25, 39)"
      ]
     },
     "execution_count": 193,
     "metadata": {},
     "output_type": "execute_result"
    }
   ],
   "source": [
    "X.shape"
   ]
  },
  {
   "cell_type": "markdown",
   "metadata": {},
   "source": [
    "### Elbow Method"
   ]
  },
  {
   "cell_type": "code",
   "execution_count": 194,
   "metadata": {},
   "outputs": [
    {
     "data": {
      "image/png": "[encoded data removed]",
      "text/plain": [
       "<Figure size 432x288 with 1 Axes>"
      ]
     },
     "metadata": {
      "needs_background": "light"
     },
     "output_type": "display_data"
    }
   ],
   "source": [
    "plot_elbow(15, X)"
   ]
  },
  {
   "cell_type": "markdown",
   "metadata": {},
   "source": [
    "### Clustering\n",
    "Using k-mean clustering and"
   ]
  },
  {
   "cell_type": "code",
   "execution_count": 195,
   "metadata": {},
   "outputs": [],
   "source": [
    "K_CLUSTER = 4\n",
    "\n",
    "pred = KMeans(n_clusters = K_CLUSTER).fit_predict(X)\n",
    "pca = PCA(n_components = 2).fit_transform(X)"
   ]
  },
  {
   "cell_type": "code",
   "execution_count": 196,
   "metadata": {},
   "outputs": [],
   "source": [
    "clusters = assign_cluster(pred, X)\n",
    "pca_clusters = assign_cluster(pred, pca)"
   ]
  },
  {
   "cell_type": "code",
   "execution_count": 198,
   "metadata": {},
   "outputs": [
    {
     "data": {
      "image/png": "[encoded data removed]",
      "text/plain": [
       "<Figure size 432x288 with 1 Axes>"
      ]
     },
     "metadata": {
      "needs_background": "light"
     },
     "output_type": "display_data"
    }
   ],
   "source": [
    "plot_clusters(pca_clusters)"
   ]
  },
  {
   "cell_type": "markdown",
   "metadata": {},
   "source": [
    "### Analysing clustered anomalies"
   ]
  },
  {
   "cell_type": "code",
   "execution_count": 224,
   "metadata": {},
   "outputs": [],
   "source": [
    "def inv_transform(x, enc):\n",
    "    reporter_partner = x[15:]\n",
    "    value = x[0]\n",
    "    rp = reporter_partner.reshape(-1,reporter_partner.shape[0])\n",
    "    r, p = enc.inverse_transform(rp)[0]\n",
    "    return r,p, value\n",
    "inv_transform(clusters[0][0], enc)\n",
    "\n",
    "def get_clusters_value_best(clusters, enc):\n",
    "    values = []\n",
    "    for i, key in enumerate(clusters):\n",
    "        c = np.array(clusters[key])\n",
    "        value = np.sum(np.array(c[:,0]))\n",
    "        print('='*5,'Cluster {}, cluster value = {}'.format(i+1, value), '='*5)\n",
    "        c_prettify = []\n",
    "        for xi in c:\n",
    "            print(inv_transform(xi, enc))\n",
    "            c_prettify.append(inv_transform(xi, enc))\n",
    "        values.append((i, value, np.array(c_prettify)))\n",
    "    return values"
   ]
  },
  {
   "cell_type": "code",
   "execution_count": 227,
   "metadata": {},
   "outputs": [
    {
     "name": "stdout",
     "output_type": "stream",
     "text": [
      "===== Cluster 1, cluster value = 4044108.0 =====\n",
      "('China', 'Andorra', 195.0)\n",
      "('China', 'Yemen', 4043913.0)\n",
      "===== Cluster 2, cluster value = 18735.0 =====\n",
      "('India', \"Dem. People's Rep. of Korea\", 1083.0)\n",
      "('India', 'Mongolia', 13189.0)\n",
      "('India', 'Venezuela', 4463.0)\n",
      "===== Cluster 3, cluster value = 747949.0 =====\n",
      "('Indonesia', 'French Polynesia', 14.0)\n",
      "('Indonesia', 'Yemen', 111639.0)\n",
      "('Jordan', 'Free Zones', 235647.0)\n",
      "('Malaysia', 'Belize', 18931.0)\n",
      "('Malaysia', 'Central African Rep.', 66477.0)\n",
      "('Malaysia', 'Equatorial Guinea', 7456.0)\n",
      "('Malaysia', 'French Polynesia', 5439.0)\n",
      "('Malaysia', 'Guyana', 2175.0)\n",
      "('Malaysia', 'Honduras', 35982.0)\n",
      "('Malaysia', 'Venezuela', 182270.0)\n",
      "('Turkey', 'Equatorial Guinea', 5393.0)\n",
      "('Turkey', 'French Polynesia', 16554.0)\n",
      "('Turkey', 'Honduras', 11377.0)\n",
      "('Turkey', 'Guinea-Bissau', 36221.0)\n",
      "('United Arab Emirates', 'Comoros', 5967.0)\n",
      "('United Arab Emirates', 'Guinea-Bissau', 6407.0)\n",
      "===== Cluster 4, cluster value = 1676.0 =====\n",
      "('Singapore', 'Equatorial Guinea', 13.0)\n",
      "('Singapore', 'Guyana', 28.0)\n",
      "('Singapore', 'Palau', 423.0)\n",
      "('Singapore', 'Tonga', 1212.0)\n"
     ]
    }
   ],
   "source": [
    "prettify_cluster = get_clusters_value_best(clusters, enc)"
   ]
  },
  {
   "cell_type": "code",
   "execution_count": 228,
   "metadata": {},
   "outputs": [
    {
     "data": {
      "text/plain": [
       "[(0, 4044108.0, array([['China', 'Andorra', '195.0'],\n",
       "         ['China', 'Yemen', '4043913.0']], dtype='<U9')),\n",
       " (1, 18735.0, array([['India', \"Dem. People's Rep. of Korea\", '1083.0'],\n",
       "         ['India', 'Mongolia', '13189.0'],\n",
       "         ['India', 'Venezuela', '4463.0']], dtype='<U27')),\n",
       " (2, 747949.0, array([['Indonesia', 'French Polynesia', '14.0'],\n",
       "         ['Indonesia', 'Yemen', '111639.0'],\n",
       "         ['Jordan', 'Free Zones', '235647.0'],\n",
       "         ['Malaysia', 'Belize', '18931.0'],\n",
       "         ['Malaysia', 'Central African Rep.', '66477.0'],\n",
       "         ['Malaysia', 'Equatorial Guinea', '7456.0'],\n",
       "         ['Malaysia', 'French Polynesia', '5439.0'],\n",
       "         ['Malaysia', 'Guyana', '2175.0'],\n",
       "         ['Malaysia', 'Honduras', '35982.0'],\n",
       "         ['Malaysia', 'Venezuela', '182270.0'],\n",
       "         ['Turkey', 'Equatorial Guinea', '5393.0'],\n",
       "         ['Turkey', 'French Polynesia', '16554.0'],\n",
       "         ['Turkey', 'Honduras', '11377.0'],\n",
       "         ['Turkey', 'Guinea-Bissau', '36221.0'],\n",
       "         ['United Arab Emirates', 'Comoros', '5967.0'],\n",
       "         ['United Arab Emirates', 'Guinea-Bissau', '6407.0']], dtype='<U20')),\n",
       " (3, 1676.0, array([['Singapore', 'Equatorial Guinea', '13.0'],\n",
       "         ['Singapore', 'Guyana', '28.0'],\n",
       "         ['Singapore', 'Palau', '423.0'],\n",
       "         ['Singapore', 'Tonga', '1212.0']], dtype='<U17'))]"
      ]
     },
     "execution_count": 228,
     "metadata": {},
     "output_type": "execute_result"
    }
   ],
   "source": [
    "prettify_cluster"
   ]
  },
  {
   "cell_type": "code",
   "execution_count": 316,
   "metadata": {},
   "outputs": [],
   "source": [
    "def visualize(prettify_cluster, feats, X_merged):\n",
    "    dfs = []\n",
    "    for cluster in prettify_cluster:\n",
    "        print('Cluster {}: Potential value ${}'.format(cluster[0]+1, int(cluster[1])))\n",
    "        df_c = pd.DataFrame(cluster[2])\n",
    "        X_merged = X_merged.astype({'Trade Value (US$)':float})\n",
    "        X_merged = X_merged.astype({'Trade Value (US$)':str})\n",
    "#         print(df_c.head())\n",
    "#         print(X_merged.head())\n",
    "        joined = pd.merge(df_c, X_merged, left_on=[0, 1, 2], \n",
    "                          right_on=['Reporter', 'Partner', 'Trade Value (US$)'], how='inner')\n",
    "        dfs.append(joined.drop(joined[[0, 1, 2, 'Period']], axis=1))\n",
    "    return dfs"
   ]
  },
  {
   "cell_type": "code",
   "execution_count": 317,
   "metadata": {},
   "outputs": [
    {
     "name": "stdout",
     "output_type": "stream",
     "text": [
      "Cluster 1: Potential value $4044108\n",
      "Cluster 2: Potential value $18735\n",
      "Cluster 3: Potential value $747949\n",
      "Cluster 4: Potential value $1676\n"
     ]
    }
   ],
   "source": [
    "cdfs = visualize(prettify_cluster, feats, X_merged)"
   ]
  },
  {
   "cell_type": "code",
   "execution_count": 318,
   "metadata": {},
   "outputs": [
    {
     "data": {
      "text/html": [
       "<div>\n",
       "<style scoped>\n",
       "    .dataframe tbody tr th:only-of-type {\n",
       "        vertical-align: middle;\n",
       "    }\n",
       "\n",
       "    .dataframe tbody tr th {\n",
       "        vertical-align: top;\n",
       "    }\n",
       "\n",
       "    .dataframe thead th {\n",
       "        text-align: right;\n",
       "    }\n",
       "</style>\n",
       "<table border=\"1\" class=\"dataframe\">\n",
       "  <thead>\n",
       "    <tr style=\"text-align: right;\">\n",
       "      <th></th>\n",
       "      <th>Reporter</th>\n",
       "      <th>Partner</th>\n",
       "      <th>Trade Value (US$)</th>\n",
       "      <th>AG.LND.AGRI.ZS</th>\n",
       "      <th>SH.STA.SUIC.P5</th>\n",
       "      <th>VC.IDP.NWDS</th>\n",
       "      <th>EN.ATM.PM25.MC.M3</th>\n",
       "      <th>SL.UEM.TOTL.ZS</th>\n",
       "      <th>NY.GDP.DEFL.KD.ZG</th>\n",
       "      <th>NY.GDP.PCAP.KD.ZG</th>\n",
       "      <th>DT.DOD.DSTC.IR.ZS</th>\n",
       "      <th>NY.GNS.ICTR.ZS</th>\n",
       "      <th>LP.EXP.DURS.MD</th>\n",
       "      <th>SL.AGR.EMPL.MA.ZS</th>\n",
       "      <th>SP.RUR.TOTL.ZS</th>\n",
       "      <th>BX.KLT.DINV.CD.WD</th>\n",
       "      <th>FR.INR.LEND</th>\n",
       "    </tr>\n",
       "  </thead>\n",
       "  <tbody>\n",
       "    <tr>\n",
       "      <th>0</th>\n",
       "      <td>China</td>\n",
       "      <td>Andorra</td>\n",
       "      <td>195.0</td>\n",
       "      <td>55.747896</td>\n",
       "      <td>9.65</td>\n",
       "      <td>4473000.0</td>\n",
       "      <td>52.664596</td>\n",
       "      <td>4.4</td>\n",
       "      <td>3.88417</td>\n",
       "      <td>6.161772</td>\n",
       "      <td>31.852117</td>\n",
       "      <td>46.360727</td>\n",
       "      <td>2.5</td>\n",
       "      <td>28.976999</td>\n",
       "      <td>42.04</td>\n",
       "      <td>1.660838e+11</td>\n",
       "      <td>4.35</td>\n",
       "    </tr>\n",
       "    <tr>\n",
       "      <th>1</th>\n",
       "      <td>China</td>\n",
       "      <td>Yemen</td>\n",
       "      <td>4043913.0</td>\n",
       "      <td>55.747896</td>\n",
       "      <td>9.65</td>\n",
       "      <td>4473000.0</td>\n",
       "      <td>52.664596</td>\n",
       "      <td>4.4</td>\n",
       "      <td>3.88417</td>\n",
       "      <td>6.161772</td>\n",
       "      <td>31.852117</td>\n",
       "      <td>46.360727</td>\n",
       "      <td>2.5</td>\n",
       "      <td>28.976999</td>\n",
       "      <td>42.04</td>\n",
       "      <td>1.660838e+11</td>\n",
       "      <td>4.35</td>\n",
       "    </tr>\n",
       "  </tbody>\n",
       "</table>\n",
       "</div>"
      ],
      "text/plain": [
       "  Reporter  Partner Trade Value (US$)  AG.LND.AGRI.ZS  SH.STA.SUIC.P5  \\\n",
       "0    China  Andorra             195.0       55.747896            9.65   \n",
       "1    China    Yemen         4043913.0       55.747896            9.65   \n",
       "\n",
       "   VC.IDP.NWDS  EN.ATM.PM25.MC.M3  SL.UEM.TOTL.ZS  NY.GDP.DEFL.KD.ZG  \\\n",
       "0    4473000.0          52.664596             4.4            3.88417   \n",
       "1    4473000.0          52.664596             4.4            3.88417   \n",
       "\n",
       "   NY.GDP.PCAP.KD.ZG  DT.DOD.DSTC.IR.ZS  NY.GNS.ICTR.ZS  LP.EXP.DURS.MD  \\\n",
       "0           6.161772          31.852117       46.360727             2.5   \n",
       "1           6.161772          31.852117       46.360727             2.5   \n",
       "\n",
       "   SL.AGR.EMPL.MA.ZS  SP.RUR.TOTL.ZS  BX.KLT.DINV.CD.WD  FR.INR.LEND  \n",
       "0          28.976999           42.04       1.660838e+11         4.35  \n",
       "1          28.976999           42.04       1.660838e+11         4.35  "
      ]
     },
     "execution_count": 318,
     "metadata": {},
     "output_type": "execute_result"
    }
   ],
   "source": [
    "cdfs[0]"
   ]
  },
  {
   "cell_type": "code",
   "execution_count": 319,
   "metadata": {},
   "outputs": [
    {
     "data": {
      "text/html": [
       "<div>\n",
       "<style scoped>\n",
       "    .dataframe tbody tr th:only-of-type {\n",
       "        vertical-align: middle;\n",
       "    }\n",
       "\n",
       "    .dataframe tbody tr th {\n",
       "        vertical-align: top;\n",
       "    }\n",
       "\n",
       "    .dataframe thead th {\n",
       "        text-align: right;\n",
       "    }\n",
       "</style>\n",
       "<table border=\"1\" class=\"dataframe\">\n",
       "  <thead>\n",
       "    <tr style=\"text-align: right;\">\n",
       "      <th></th>\n",
       "      <th>Reporter</th>\n",
       "      <th>Partner</th>\n",
       "      <th>Trade Value (US$)</th>\n",
       "      <th>AG.LND.AGRI.ZS</th>\n",
       "      <th>SH.STA.SUIC.P5</th>\n",
       "      <th>VC.IDP.NWDS</th>\n",
       "      <th>EN.ATM.PM25.MC.M3</th>\n",
       "      <th>SL.UEM.TOTL.ZS</th>\n",
       "      <th>NY.GDP.DEFL.KD.ZG</th>\n",
       "      <th>NY.GDP.PCAP.KD.ZG</th>\n",
       "      <th>DT.DOD.DSTC.IR.ZS</th>\n",
       "      <th>NY.GNS.ICTR.ZS</th>\n",
       "      <th>LP.EXP.DURS.MD</th>\n",
       "      <th>SL.AGR.EMPL.MA.ZS</th>\n",
       "      <th>SP.RUR.TOTL.ZS</th>\n",
       "      <th>BX.KLT.DINV.CD.WD</th>\n",
       "      <th>FR.INR.LEND</th>\n",
       "    </tr>\n",
       "  </thead>\n",
       "  <tbody>\n",
       "    <tr>\n",
       "      <th>0</th>\n",
       "      <td>India</td>\n",
       "      <td>Dem. People's Rep. of Korea</td>\n",
       "      <td>1083.0</td>\n",
       "      <td>60.447196</td>\n",
       "      <td>16.4</td>\n",
       "      <td>2675000.0</td>\n",
       "      <td>89.867776</td>\n",
       "      <td>2.551</td>\n",
       "      <td>4.184739</td>\n",
       "      <td>5.878317</td>\n",
       "      <td>24.067597</td>\n",
       "      <td>32.184153</td>\n",
       "      <td>3.0</td>\n",
       "      <td>40.174</td>\n",
       "      <td>65.97</td>\n",
       "      <td>4.075270e+10</td>\n",
       "      <td>9.454167</td>\n",
       "    </tr>\n",
       "    <tr>\n",
       "      <th>1</th>\n",
       "      <td>India</td>\n",
       "      <td>Mongolia</td>\n",
       "      <td>13189.0</td>\n",
       "      <td>60.447196</td>\n",
       "      <td>16.4</td>\n",
       "      <td>2675000.0</td>\n",
       "      <td>89.867776</td>\n",
       "      <td>2.551</td>\n",
       "      <td>4.184739</td>\n",
       "      <td>5.878317</td>\n",
       "      <td>24.067597</td>\n",
       "      <td>32.184153</td>\n",
       "      <td>3.0</td>\n",
       "      <td>40.174</td>\n",
       "      <td>65.97</td>\n",
       "      <td>4.075270e+10</td>\n",
       "      <td>9.454167</td>\n",
       "    </tr>\n",
       "    <tr>\n",
       "      <th>2</th>\n",
       "      <td>India</td>\n",
       "      <td>Venezuela</td>\n",
       "      <td>4463.0</td>\n",
       "      <td>60.447196</td>\n",
       "      <td>16.4</td>\n",
       "      <td>2675000.0</td>\n",
       "      <td>89.867776</td>\n",
       "      <td>2.551</td>\n",
       "      <td>4.184739</td>\n",
       "      <td>5.878317</td>\n",
       "      <td>24.067597</td>\n",
       "      <td>32.184153</td>\n",
       "      <td>3.0</td>\n",
       "      <td>40.174</td>\n",
       "      <td>65.97</td>\n",
       "      <td>4.075270e+10</td>\n",
       "      <td>9.454167</td>\n",
       "    </tr>\n",
       "  </tbody>\n",
       "</table>\n",
       "</div>"
      ],
      "text/plain": [
       "  Reporter                      Partner Trade Value (US$)  AG.LND.AGRI.ZS  \\\n",
       "0    India  Dem. People's Rep. of Korea            1083.0       60.447196   \n",
       "1    India                     Mongolia           13189.0       60.447196   \n",
       "2    India                    Venezuela            4463.0       60.447196   \n",
       "\n",
       "   SH.STA.SUIC.P5  VC.IDP.NWDS  EN.ATM.PM25.MC.M3  SL.UEM.TOTL.ZS  \\\n",
       "0            16.4    2675000.0          89.867776           2.551   \n",
       "1            16.4    2675000.0          89.867776           2.551   \n",
       "2            16.4    2675000.0          89.867776           2.551   \n",
       "\n",
       "   NY.GDP.DEFL.KD.ZG  NY.GDP.PCAP.KD.ZG  DT.DOD.DSTC.IR.ZS  NY.GNS.ICTR.ZS  \\\n",
       "0           4.184739           5.878317          24.067597       32.184153   \n",
       "1           4.184739           5.878317          24.067597       32.184153   \n",
       "2           4.184739           5.878317          24.067597       32.184153   \n",
       "\n",
       "   LP.EXP.DURS.MD  SL.AGR.EMPL.MA.ZS  SP.RUR.TOTL.ZS  BX.KLT.DINV.CD.WD  \\\n",
       "0             3.0             40.174           65.97       4.075270e+10   \n",
       "1             3.0             40.174           65.97       4.075270e+10   \n",
       "2             3.0             40.174           65.97       4.075270e+10   \n",
       "\n",
       "   FR.INR.LEND  \n",
       "0     9.454167  \n",
       "1     9.454167  \n",
       "2     9.454167  "
      ]
     },
     "execution_count": 319,
     "metadata": {},
     "output_type": "execute_result"
    }
   ],
   "source": [
    "cdfs[1]"
   ]
  },
  {
   "cell_type": "code",
   "execution_count": 323,
   "metadata": {},
   "outputs": [],
   "source": [
    "cdfs[2].to_csv('INSIGHT.csv', sep='\\t', encoding='utf-8')"
   ]
  },
  {
   "cell_type": "code",
   "execution_count": 321,
   "metadata": {},
   "outputs": [
    {
     "data": {
      "text/html": [
       "<div>\n",
       "<style scoped>\n",
       "    .dataframe tbody tr th:only-of-type {\n",
       "        vertical-align: middle;\n",
       "    }\n",
       "\n",
       "    .dataframe tbody tr th {\n",
       "        vertical-align: top;\n",
       "    }\n",
       "\n",
       "    .dataframe thead th {\n",
       "        text-align: right;\n",
       "    }\n",
       "</style>\n",
       "<table border=\"1\" class=\"dataframe\">\n",
       "  <thead>\n",
       "    <tr style=\"text-align: right;\">\n",
       "      <th></th>\n",
       "      <th>Reporter</th>\n",
       "      <th>Partner</th>\n",
       "      <th>Trade Value (US$)</th>\n",
       "      <th>AG.LND.AGRI.ZS</th>\n",
       "      <th>SH.STA.SUIC.P5</th>\n",
       "      <th>VC.IDP.NWDS</th>\n",
       "      <th>EN.ATM.PM25.MC.M3</th>\n",
       "      <th>SL.UEM.TOTL.ZS</th>\n",
       "      <th>NY.GDP.DEFL.KD.ZG</th>\n",
       "      <th>NY.GDP.PCAP.KD.ZG</th>\n",
       "      <th>DT.DOD.DSTC.IR.ZS</th>\n",
       "      <th>NY.GNS.ICTR.ZS</th>\n",
       "      <th>LP.EXP.DURS.MD</th>\n",
       "      <th>SL.AGR.EMPL.MA.ZS</th>\n",
       "      <th>SP.RUR.TOTL.ZS</th>\n",
       "      <th>BX.KLT.DINV.CD.WD</th>\n",
       "      <th>FR.INR.LEND</th>\n",
       "    </tr>\n",
       "  </thead>\n",
       "  <tbody>\n",
       "    <tr>\n",
       "      <th>0</th>\n",
       "      <td>Singapore</td>\n",
       "      <td>Equatorial Guinea</td>\n",
       "      <td>13.0</td>\n",
       "      <td>0.930889</td>\n",
       "      <td>9.45</td>\n",
       "      <td>0.0</td>\n",
       "      <td>18.987081</td>\n",
       "      <td>3.768</td>\n",
       "      <td>1.908415</td>\n",
       "      <td>2.65615</td>\n",
       "      <td>0.0</td>\n",
       "      <td>46.060607</td>\n",
       "      <td>2.0</td>\n",
       "      <td>0.655</td>\n",
       "      <td>0.0</td>\n",
       "      <td>8.203935e+10</td>\n",
       "      <td>5.33</td>\n",
       "    </tr>\n",
       "    <tr>\n",
       "      <th>1</th>\n",
       "      <td>Singapore</td>\n",
       "      <td>Guyana</td>\n",
       "      <td>28.0</td>\n",
       "      <td>0.930889</td>\n",
       "      <td>9.45</td>\n",
       "      <td>0.0</td>\n",
       "      <td>18.987081</td>\n",
       "      <td>3.768</td>\n",
       "      <td>1.908415</td>\n",
       "      <td>2.65615</td>\n",
       "      <td>0.0</td>\n",
       "      <td>46.060607</td>\n",
       "      <td>2.0</td>\n",
       "      <td>0.655</td>\n",
       "      <td>0.0</td>\n",
       "      <td>8.203935e+10</td>\n",
       "      <td>5.33</td>\n",
       "    </tr>\n",
       "    <tr>\n",
       "      <th>2</th>\n",
       "      <td>Singapore</td>\n",
       "      <td>Palau</td>\n",
       "      <td>423.0</td>\n",
       "      <td>0.930889</td>\n",
       "      <td>9.45</td>\n",
       "      <td>0.0</td>\n",
       "      <td>18.987081</td>\n",
       "      <td>3.768</td>\n",
       "      <td>1.908415</td>\n",
       "      <td>2.65615</td>\n",
       "      <td>0.0</td>\n",
       "      <td>46.060607</td>\n",
       "      <td>2.0</td>\n",
       "      <td>0.655</td>\n",
       "      <td>0.0</td>\n",
       "      <td>8.203935e+10</td>\n",
       "      <td>5.33</td>\n",
       "    </tr>\n",
       "    <tr>\n",
       "      <th>3</th>\n",
       "      <td>Singapore</td>\n",
       "      <td>Tonga</td>\n",
       "      <td>1212.0</td>\n",
       "      <td>0.930889</td>\n",
       "      <td>9.45</td>\n",
       "      <td>0.0</td>\n",
       "      <td>18.987081</td>\n",
       "      <td>3.768</td>\n",
       "      <td>1.908415</td>\n",
       "      <td>2.65615</td>\n",
       "      <td>0.0</td>\n",
       "      <td>46.060607</td>\n",
       "      <td>2.0</td>\n",
       "      <td>0.655</td>\n",
       "      <td>0.0</td>\n",
       "      <td>8.203935e+10</td>\n",
       "      <td>5.33</td>\n",
       "    </tr>\n",
       "  </tbody>\n",
       "</table>\n",
       "</div>"
      ],
      "text/plain": [
       "    Reporter            Partner Trade Value (US$)  AG.LND.AGRI.ZS  \\\n",
       "0  Singapore  Equatorial Guinea              13.0        0.930889   \n",
       "1  Singapore             Guyana              28.0        0.930889   \n",
       "2  Singapore              Palau             423.0        0.930889   \n",
       "3  Singapore              Tonga            1212.0        0.930889   \n",
       "\n",
       "   SH.STA.SUIC.P5  VC.IDP.NWDS  EN.ATM.PM25.MC.M3  SL.UEM.TOTL.ZS  \\\n",
       "0            9.45          0.0          18.987081           3.768   \n",
       "1            9.45          0.0          18.987081           3.768   \n",
       "2            9.45          0.0          18.987081           3.768   \n",
       "3            9.45          0.0          18.987081           3.768   \n",
       "\n",
       "   NY.GDP.DEFL.KD.ZG  NY.GDP.PCAP.KD.ZG  DT.DOD.DSTC.IR.ZS  NY.GNS.ICTR.ZS  \\\n",
       "0           1.908415            2.65615                0.0       46.060607   \n",
       "1           1.908415            2.65615                0.0       46.060607   \n",
       "2           1.908415            2.65615                0.0       46.060607   \n",
       "3           1.908415            2.65615                0.0       46.060607   \n",
       "\n",
       "   LP.EXP.DURS.MD  SL.AGR.EMPL.MA.ZS  SP.RUR.TOTL.ZS  BX.KLT.DINV.CD.WD  \\\n",
       "0             2.0              0.655             0.0       8.203935e+10   \n",
       "1             2.0              0.655             0.0       8.203935e+10   \n",
       "2             2.0              0.655             0.0       8.203935e+10   \n",
       "3             2.0              0.655             0.0       8.203935e+10   \n",
       "\n",
       "   FR.INR.LEND  \n",
       "0         5.33  \n",
       "1         5.33  \n",
       "2         5.33  \n",
       "3         5.33  "
      ]
     },
     "execution_count": 321,
     "metadata": {},
     "output_type": "execute_result"
    }
   ],
   "source": [
    "cdfs[3]"
   ]
  },
  {
   "cell_type": "markdown",
   "metadata": {},
   "source": [
    "## Analysing insight"
   ]
  },
  {
   "cell_type": "code",
   "execution_count": 324,
   "metadata": {},
   "outputs": [],
   "source": [
    "insight = cdfs[2]"
   ]
  },
  {
   "cell_type": "code",
   "execution_count": 326,
   "metadata": {},
   "outputs": [
    {
     "data": {
      "text/html": [
       "<div>\n",
       "<style scoped>\n",
       "    .dataframe tbody tr th:only-of-type {\n",
       "        vertical-align: middle;\n",
       "    }\n",
       "\n",
       "    .dataframe tbody tr th {\n",
       "        vertical-align: top;\n",
       "    }\n",
       "\n",
       "    .dataframe thead th {\n",
       "        text-align: right;\n",
       "    }\n",
       "</style>\n",
       "<table border=\"1\" class=\"dataframe\">\n",
       "  <thead>\n",
       "    <tr style=\"text-align: right;\">\n",
       "      <th></th>\n",
       "      <th>Reporter</th>\n",
       "      <th>Partner</th>\n",
       "      <th>Trade Value (US$)</th>\n",
       "      <th>AG.LND.AGRI.ZS</th>\n",
       "      <th>SH.STA.SUIC.P5</th>\n",
       "      <th>VC.IDP.NWDS</th>\n",
       "      <th>EN.ATM.PM25.MC.M3</th>\n",
       "      <th>SL.UEM.TOTL.ZS</th>\n",
       "      <th>NY.GDP.DEFL.KD.ZG</th>\n",
       "      <th>NY.GDP.PCAP.KD.ZG</th>\n",
       "      <th>DT.DOD.DSTC.IR.ZS</th>\n",
       "      <th>NY.GNS.ICTR.ZS</th>\n",
       "      <th>LP.EXP.DURS.MD</th>\n",
       "      <th>SL.AGR.EMPL.MA.ZS</th>\n",
       "      <th>SP.RUR.TOTL.ZS</th>\n",
       "      <th>BX.KLT.DINV.CD.WD</th>\n",
       "      <th>FR.INR.LEND</th>\n",
       "    </tr>\n",
       "  </thead>\n",
       "  <tbody>\n",
       "    <tr>\n",
       "      <th>0</th>\n",
       "      <td>Indonesia</td>\n",
       "      <td>French Polynesia</td>\n",
       "      <td>14.0</td>\n",
       "      <td>31.464420</td>\n",
       "      <td>3.40</td>\n",
       "      <td>365000.0</td>\n",
       "      <td>16.502653</td>\n",
       "      <td>4.185</td>\n",
       "      <td>4.274986</td>\n",
       "      <td>3.839982</td>\n",
       "      <td>37.621131</td>\n",
       "      <td>30.789206</td>\n",
       "      <td>3.0</td>\n",
       "      <td>32.042999</td>\n",
       "      <td>45.341</td>\n",
       "      <td>2.051031e+10</td>\n",
       "      <td>11.073333</td>\n",
       "    </tr>\n",
       "    <tr>\n",
       "      <th>1</th>\n",
       "      <td>Indonesia</td>\n",
       "      <td>Yemen</td>\n",
       "      <td>111639.0</td>\n",
       "      <td>31.464420</td>\n",
       "      <td>3.40</td>\n",
       "      <td>365000.0</td>\n",
       "      <td>16.502653</td>\n",
       "      <td>4.185</td>\n",
       "      <td>4.274986</td>\n",
       "      <td>3.839982</td>\n",
       "      <td>37.621131</td>\n",
       "      <td>30.789206</td>\n",
       "      <td>3.0</td>\n",
       "      <td>32.042999</td>\n",
       "      <td>45.341</td>\n",
       "      <td>2.051031e+10</td>\n",
       "      <td>11.073333</td>\n",
       "    </tr>\n",
       "    <tr>\n",
       "      <th>2</th>\n",
       "      <td>Jordan</td>\n",
       "      <td>Free Zones</td>\n",
       "      <td>235647.0</td>\n",
       "      <td>11.963130</td>\n",
       "      <td>2.90</td>\n",
       "      <td>160.0</td>\n",
       "      <td>33.006081</td>\n",
       "      <td>14.879</td>\n",
       "      <td>1.703771</td>\n",
       "      <td>-0.262011</td>\n",
       "      <td>65.799192</td>\n",
       "      <td>9.354240</td>\n",
       "      <td>2.0</td>\n",
       "      <td>3.955000</td>\n",
       "      <td>9.253</td>\n",
       "      <td>2.029718e+09</td>\n",
       "      <td>8.393333</td>\n",
       "    </tr>\n",
       "    <tr>\n",
       "      <th>3</th>\n",
       "      <td>Malaysia</td>\n",
       "      <td>Belize</td>\n",
       "      <td>18931.0</td>\n",
       "      <td>25.654106</td>\n",
       "      <td>5.45</td>\n",
       "      <td>38000.0</td>\n",
       "      <td>16.537790</td>\n",
       "      <td>3.360</td>\n",
       "      <td>0.884302</td>\n",
       "      <td>3.316770</td>\n",
       "      <td>0.000000</td>\n",
       "      <td>28.579113</td>\n",
       "      <td>2.0</td>\n",
       "      <td>13.833000</td>\n",
       "      <td>23.964</td>\n",
       "      <td>1.086459e+10</td>\n",
       "      <td>4.928440</td>\n",
       "    </tr>\n",
       "    <tr>\n",
       "      <th>4</th>\n",
       "      <td>Malaysia</td>\n",
       "      <td>Central African Rep.</td>\n",
       "      <td>66477.0</td>\n",
       "      <td>25.654106</td>\n",
       "      <td>5.45</td>\n",
       "      <td>38000.0</td>\n",
       "      <td>16.537790</td>\n",
       "      <td>3.360</td>\n",
       "      <td>0.884302</td>\n",
       "      <td>3.316770</td>\n",
       "      <td>0.000000</td>\n",
       "      <td>28.579113</td>\n",
       "      <td>2.0</td>\n",
       "      <td>13.833000</td>\n",
       "      <td>23.964</td>\n",
       "      <td>1.086459e+10</td>\n",
       "      <td>4.928440</td>\n",
       "    </tr>\n",
       "    <tr>\n",
       "      <th>5</th>\n",
       "      <td>Malaysia</td>\n",
       "      <td>Equatorial Guinea</td>\n",
       "      <td>7456.0</td>\n",
       "      <td>25.654106</td>\n",
       "      <td>5.45</td>\n",
       "      <td>38000.0</td>\n",
       "      <td>16.537790</td>\n",
       "      <td>3.360</td>\n",
       "      <td>0.884302</td>\n",
       "      <td>3.316770</td>\n",
       "      <td>0.000000</td>\n",
       "      <td>28.579113</td>\n",
       "      <td>2.0</td>\n",
       "      <td>13.833000</td>\n",
       "      <td>23.964</td>\n",
       "      <td>1.086459e+10</td>\n",
       "      <td>4.928440</td>\n",
       "    </tr>\n",
       "    <tr>\n",
       "      <th>6</th>\n",
       "      <td>Malaysia</td>\n",
       "      <td>French Polynesia</td>\n",
       "      <td>5439.0</td>\n",
       "      <td>25.654106</td>\n",
       "      <td>5.45</td>\n",
       "      <td>38000.0</td>\n",
       "      <td>16.537790</td>\n",
       "      <td>3.360</td>\n",
       "      <td>0.884302</td>\n",
       "      <td>3.316770</td>\n",
       "      <td>0.000000</td>\n",
       "      <td>28.579113</td>\n",
       "      <td>2.0</td>\n",
       "      <td>13.833000</td>\n",
       "      <td>23.964</td>\n",
       "      <td>1.086459e+10</td>\n",
       "      <td>4.928440</td>\n",
       "    </tr>\n",
       "    <tr>\n",
       "      <th>7</th>\n",
       "      <td>Malaysia</td>\n",
       "      <td>Guyana</td>\n",
       "      <td>2175.0</td>\n",
       "      <td>25.654106</td>\n",
       "      <td>5.45</td>\n",
       "      <td>38000.0</td>\n",
       "      <td>16.537790</td>\n",
       "      <td>3.360</td>\n",
       "      <td>0.884302</td>\n",
       "      <td>3.316770</td>\n",
       "      <td>0.000000</td>\n",
       "      <td>28.579113</td>\n",
       "      <td>2.0</td>\n",
       "      <td>13.833000</td>\n",
       "      <td>23.964</td>\n",
       "      <td>1.086459e+10</td>\n",
       "      <td>4.928440</td>\n",
       "    </tr>\n",
       "    <tr>\n",
       "      <th>8</th>\n",
       "      <td>Malaysia</td>\n",
       "      <td>Honduras</td>\n",
       "      <td>35982.0</td>\n",
       "      <td>25.654106</td>\n",
       "      <td>5.45</td>\n",
       "      <td>38000.0</td>\n",
       "      <td>16.537790</td>\n",
       "      <td>3.360</td>\n",
       "      <td>0.884302</td>\n",
       "      <td>3.316770</td>\n",
       "      <td>0.000000</td>\n",
       "      <td>28.579113</td>\n",
       "      <td>2.0</td>\n",
       "      <td>13.833000</td>\n",
       "      <td>23.964</td>\n",
       "      <td>1.086459e+10</td>\n",
       "      <td>4.928440</td>\n",
       "    </tr>\n",
       "    <tr>\n",
       "      <th>9</th>\n",
       "      <td>Malaysia</td>\n",
       "      <td>Venezuela</td>\n",
       "      <td>182270.0</td>\n",
       "      <td>25.654106</td>\n",
       "      <td>5.45</td>\n",
       "      <td>38000.0</td>\n",
       "      <td>16.537790</td>\n",
       "      <td>3.360</td>\n",
       "      <td>0.884302</td>\n",
       "      <td>3.316770</td>\n",
       "      <td>0.000000</td>\n",
       "      <td>28.579113</td>\n",
       "      <td>2.0</td>\n",
       "      <td>13.833000</td>\n",
       "      <td>23.964</td>\n",
       "      <td>1.086459e+10</td>\n",
       "      <td>4.928440</td>\n",
       "    </tr>\n",
       "    <tr>\n",
       "      <th>10</th>\n",
       "      <td>Turkey</td>\n",
       "      <td>Equatorial Guinea</td>\n",
       "      <td>5393.0</td>\n",
       "      <td>49.995452</td>\n",
       "      <td>7.30</td>\n",
       "      <td>640.0</td>\n",
       "      <td>44.197903</td>\n",
       "      <td>10.895</td>\n",
       "      <td>16.154302</td>\n",
       "      <td>1.049260</td>\n",
       "      <td>101.537503</td>\n",
       "      <td>26.598605</td>\n",
       "      <td>2.0</td>\n",
       "      <td>15.159000</td>\n",
       "      <td>24.857</td>\n",
       "      <td>1.302400e+10</td>\n",
       "      <td>0.000000</td>\n",
       "    </tr>\n",
       "    <tr>\n",
       "      <th>11</th>\n",
       "      <td>Turkey</td>\n",
       "      <td>French Polynesia</td>\n",
       "      <td>16554.0</td>\n",
       "      <td>49.995452</td>\n",
       "      <td>7.30</td>\n",
       "      <td>640.0</td>\n",
       "      <td>44.197903</td>\n",
       "      <td>10.895</td>\n",
       "      <td>16.154302</td>\n",
       "      <td>1.049260</td>\n",
       "      <td>101.537503</td>\n",
       "      <td>26.598605</td>\n",
       "      <td>2.0</td>\n",
       "      <td>15.159000</td>\n",
       "      <td>24.857</td>\n",
       "      <td>1.302400e+10</td>\n",
       "      <td>0.000000</td>\n",
       "    </tr>\n",
       "    <tr>\n",
       "      <th>12</th>\n",
       "      <td>Turkey</td>\n",
       "      <td>Honduras</td>\n",
       "      <td>11377.0</td>\n",
       "      <td>49.995452</td>\n",
       "      <td>7.30</td>\n",
       "      <td>640.0</td>\n",
       "      <td>44.197903</td>\n",
       "      <td>10.895</td>\n",
       "      <td>16.154302</td>\n",
       "      <td>1.049260</td>\n",
       "      <td>101.537503</td>\n",
       "      <td>26.598605</td>\n",
       "      <td>2.0</td>\n",
       "      <td>15.159000</td>\n",
       "      <td>24.857</td>\n",
       "      <td>1.302400e+10</td>\n",
       "      <td>0.000000</td>\n",
       "    </tr>\n",
       "    <tr>\n",
       "      <th>13</th>\n",
       "      <td>Turkey</td>\n",
       "      <td>Guinea-Bissau</td>\n",
       "      <td>36221.0</td>\n",
       "      <td>49.995452</td>\n",
       "      <td>7.30</td>\n",
       "      <td>705.0</td>\n",
       "      <td>44.311526</td>\n",
       "      <td>10.819</td>\n",
       "      <td>10.843580</td>\n",
       "      <td>5.745268</td>\n",
       "      <td>109.352997</td>\n",
       "      <td>25.478392</td>\n",
       "      <td>2.0</td>\n",
       "      <td>15.297000</td>\n",
       "      <td>25.356</td>\n",
       "      <td>1.154600e+10</td>\n",
       "      <td>0.000000</td>\n",
       "    </tr>\n",
       "    <tr>\n",
       "      <th>14</th>\n",
       "      <td>United Arab Emirates</td>\n",
       "      <td>Comoros</td>\n",
       "      <td>5967.0</td>\n",
       "      <td>5.463719</td>\n",
       "      <td>2.80</td>\n",
       "      <td>850.0</td>\n",
       "      <td>40.917510</td>\n",
       "      <td>2.463</td>\n",
       "      <td>6.310088</td>\n",
       "      <td>-0.550571</td>\n",
       "      <td>0.000000</td>\n",
       "      <td>0.000000</td>\n",
       "      <td>2.0</td>\n",
       "      <td>4.343000</td>\n",
       "      <td>13.752</td>\n",
       "      <td>1.035422e+10</td>\n",
       "      <td>0.000000</td>\n",
       "    </tr>\n",
       "    <tr>\n",
       "      <th>15</th>\n",
       "      <td>United Arab Emirates</td>\n",
       "      <td>Guinea-Bissau</td>\n",
       "      <td>6407.0</td>\n",
       "      <td>5.463719</td>\n",
       "      <td>2.80</td>\n",
       "      <td>850.0</td>\n",
       "      <td>40.917510</td>\n",
       "      <td>2.463</td>\n",
       "      <td>6.310088</td>\n",
       "      <td>-0.550571</td>\n",
       "      <td>0.000000</td>\n",
       "      <td>0.000000</td>\n",
       "      <td>2.0</td>\n",
       "      <td>4.343000</td>\n",
       "      <td>13.752</td>\n",
       "      <td>1.035422e+10</td>\n",
       "      <td>0.000000</td>\n",
       "    </tr>\n",
       "  </tbody>\n",
       "</table>\n",
       "</div>"
      ],
      "text/plain": [
       "                Reporter               Partner Trade Value (US$)  \\\n",
       "0              Indonesia      French Polynesia              14.0   \n",
       "1              Indonesia                 Yemen          111639.0   \n",
       "2                 Jordan            Free Zones          235647.0   \n",
       "3               Malaysia                Belize           18931.0   \n",
       "4               Malaysia  Central African Rep.           66477.0   \n",
       "5               Malaysia     Equatorial Guinea            7456.0   \n",
       "6               Malaysia      French Polynesia            5439.0   \n",
       "7               Malaysia                Guyana            2175.0   \n",
       "8               Malaysia              Honduras           35982.0   \n",
       "9               Malaysia             Venezuela          182270.0   \n",
       "10                Turkey     Equatorial Guinea            5393.0   \n",
       "11                Turkey      French Polynesia           16554.0   \n",
       "12                Turkey              Honduras           11377.0   \n",
       "13                Turkey         Guinea-Bissau           36221.0   \n",
       "14  United Arab Emirates               Comoros            5967.0   \n",
       "15  United Arab Emirates         Guinea-Bissau            6407.0   \n",
       "\n",
       "    AG.LND.AGRI.ZS  SH.STA.SUIC.P5  VC.IDP.NWDS  EN.ATM.PM25.MC.M3  \\\n",
       "0        31.464420            3.40     365000.0          16.502653   \n",
       "1        31.464420            3.40     365000.0          16.502653   \n",
       "2        11.963130            2.90        160.0          33.006081   \n",
       "3        25.654106            5.45      38000.0          16.537790   \n",
       "4        25.654106            5.45      38000.0          16.537790   \n",
       "5        25.654106            5.45      38000.0          16.537790   \n",
       "6        25.654106            5.45      38000.0          16.537790   \n",
       "7        25.654106            5.45      38000.0          16.537790   \n",
       "8        25.654106            5.45      38000.0          16.537790   \n",
       "9        25.654106            5.45      38000.0          16.537790   \n",
       "10       49.995452            7.30        640.0          44.197903   \n",
       "11       49.995452            7.30        640.0          44.197903   \n",
       "12       49.995452            7.30        640.0          44.197903   \n",
       "13       49.995452            7.30        705.0          44.311526   \n",
       "14        5.463719            2.80        850.0          40.917510   \n",
       "15        5.463719            2.80        850.0          40.917510   \n",
       "\n",
       "    SL.UEM.TOTL.ZS  NY.GDP.DEFL.KD.ZG  NY.GDP.PCAP.KD.ZG  DT.DOD.DSTC.IR.ZS  \\\n",
       "0            4.185           4.274986           3.839982          37.621131   \n",
       "1            4.185           4.274986           3.839982          37.621131   \n",
       "2           14.879           1.703771          -0.262011          65.799192   \n",
       "3            3.360           0.884302           3.316770           0.000000   \n",
       "4            3.360           0.884302           3.316770           0.000000   \n",
       "5            3.360           0.884302           3.316770           0.000000   \n",
       "6            3.360           0.884302           3.316770           0.000000   \n",
       "7            3.360           0.884302           3.316770           0.000000   \n",
       "8            3.360           0.884302           3.316770           0.000000   \n",
       "9            3.360           0.884302           3.316770           0.000000   \n",
       "10          10.895          16.154302           1.049260         101.537503   \n",
       "11          10.895          16.154302           1.049260         101.537503   \n",
       "12          10.895          16.154302           1.049260         101.537503   \n",
       "13          10.819          10.843580           5.745268         109.352997   \n",
       "14           2.463           6.310088          -0.550571           0.000000   \n",
       "15           2.463           6.310088          -0.550571           0.000000   \n",
       "\n",
       "    NY.GNS.ICTR.ZS  LP.EXP.DURS.MD  SL.AGR.EMPL.MA.ZS  SP.RUR.TOTL.ZS  \\\n",
       "0        30.789206             3.0          32.042999          45.341   \n",
       "1        30.789206             3.0          32.042999          45.341   \n",
       "2         9.354240             2.0           3.955000           9.253   \n",
       "3        28.579113             2.0          13.833000          23.964   \n",
       "4        28.579113             2.0          13.833000          23.964   \n",
       "5        28.579113             2.0          13.833000          23.964   \n",
       "6        28.579113             2.0          13.833000          23.964   \n",
       "7        28.579113             2.0          13.833000          23.964   \n",
       "8        28.579113             2.0          13.833000          23.964   \n",
       "9        28.579113             2.0          13.833000          23.964   \n",
       "10       26.598605             2.0          15.159000          24.857   \n",
       "11       26.598605             2.0          15.159000          24.857   \n",
       "12       26.598605             2.0          15.159000          24.857   \n",
       "13       25.478392             2.0          15.297000          25.356   \n",
       "14        0.000000             2.0           4.343000          13.752   \n",
       "15        0.000000             2.0           4.343000          13.752   \n",
       "\n",
       "    BX.KLT.DINV.CD.WD  FR.INR.LEND  \n",
       "0        2.051031e+10    11.073333  \n",
       "1        2.051031e+10    11.073333  \n",
       "2        2.029718e+09     8.393333  \n",
       "3        1.086459e+10     4.928440  \n",
       "4        1.086459e+10     4.928440  \n",
       "5        1.086459e+10     4.928440  \n",
       "6        1.086459e+10     4.928440  \n",
       "7        1.086459e+10     4.928440  \n",
       "8        1.086459e+10     4.928440  \n",
       "9        1.086459e+10     4.928440  \n",
       "10       1.302400e+10     0.000000  \n",
       "11       1.302400e+10     0.000000  \n",
       "12       1.302400e+10     0.000000  \n",
       "13       1.154600e+10     0.000000  \n",
       "14       1.035422e+10     0.000000  \n",
       "15       1.035422e+10     0.000000  "
      ]
     },
     "execution_count": 326,
     "metadata": {},
     "output_type": "execute_result"
    }
   ],
   "source": [
    "insight"
   ]
  },
  {
   "cell_type": "code",
   "execution_count": 327,
   "metadata": {},
   "outputs": [
    {
     "data": {
      "text/html": [
       "<div>\n",
       "<style scoped>\n",
       "    .dataframe tbody tr th:only-of-type {\n",
       "        vertical-align: middle;\n",
       "    }\n",
       "\n",
       "    .dataframe tbody tr th {\n",
       "        vertical-align: top;\n",
       "    }\n",
       "\n",
       "    .dataframe thead th {\n",
       "        text-align: right;\n",
       "    }\n",
       "</style>\n",
       "<table border=\"1\" class=\"dataframe\">\n",
       "  <thead>\n",
       "    <tr style=\"text-align: right;\">\n",
       "      <th></th>\n",
       "      <th>country</th>\n",
       "      <th>year</th>\n",
       "      <th>AG.LND.AGRI.ZS</th>\n",
       "      <th>SH.STA.SUIC.P5</th>\n",
       "      <th>VC.IDP.NWDS</th>\n",
       "      <th>EN.ATM.PM25.MC.M3</th>\n",
       "      <th>SL.UEM.TOTL.ZS</th>\n",
       "      <th>NY.GDP.DEFL.KD.ZG</th>\n",
       "      <th>NY.GDP.PCAP.KD.ZG</th>\n",
       "      <th>DT.DOD.DSTC.IR.ZS</th>\n",
       "      <th>NY.GNS.ICTR.ZS</th>\n",
       "      <th>LP.EXP.DURS.MD</th>\n",
       "      <th>SL.AGR.EMPL.MA.ZS</th>\n",
       "      <th>SP.RUR.TOTL.ZS</th>\n",
       "      <th>BX.KLT.DINV.CD.WD</th>\n",
       "      <th>FR.INR.LEND</th>\n",
       "    </tr>\n",
       "  </thead>\n",
       "  <tbody>\n",
       "    <tr>\n",
       "      <th>0</th>\n",
       "      <td>United Arab Emirates</td>\n",
       "      <td>2018</td>\n",
       "      <td>5.463719</td>\n",
       "      <td>2.8</td>\n",
       "      <td>850.0</td>\n",
       "      <td>40.439506</td>\n",
       "      <td>2.575</td>\n",
       "      <td>6.740992</td>\n",
       "      <td>-0.090057</td>\n",
       "      <td>0.0</td>\n",
       "      <td>0.0</td>\n",
       "      <td>2.0</td>\n",
       "      <td>4.308</td>\n",
       "      <td>13.478</td>\n",
       "      <td>9.895359e+09</td>\n",
       "      <td>0.0</td>\n",
       "    </tr>\n",
       "    <tr>\n",
       "      <th>1</th>\n",
       "      <td>United Arab Emirates</td>\n",
       "      <td>2017</td>\n",
       "      <td>5.463719</td>\n",
       "      <td>2.8</td>\n",
       "      <td>850.0</td>\n",
       "      <td>40.917510</td>\n",
       "      <td>2.463</td>\n",
       "      <td>6.310088</td>\n",
       "      <td>-0.550571</td>\n",
       "      <td>0.0</td>\n",
       "      <td>0.0</td>\n",
       "      <td>2.0</td>\n",
       "      <td>4.343</td>\n",
       "      <td>13.752</td>\n",
       "      <td>1.035422e+10</td>\n",
       "      <td>0.0</td>\n",
       "    </tr>\n",
       "    <tr>\n",
       "      <th>2</th>\n",
       "      <td>United Arab Emirates</td>\n",
       "      <td>2016</td>\n",
       "      <td>5.474514</td>\n",
       "      <td>2.8</td>\n",
       "      <td>850.0</td>\n",
       "      <td>40.522103</td>\n",
       "      <td>1.636</td>\n",
       "      <td>-3.197247</td>\n",
       "      <td>1.909377</td>\n",
       "      <td>0.0</td>\n",
       "      <td>0.0</td>\n",
       "      <td>2.0</td>\n",
       "      <td>4.378</td>\n",
       "      <td>14.035</td>\n",
       "      <td>9.604773e+09</td>\n",
       "      <td>0.0</td>\n",
       "    </tr>\n",
       "    <tr>\n",
       "      <th>3</th>\n",
       "      <td>United Arab Emirates</td>\n",
       "      <td>2015</td>\n",
       "      <td>5.460434</td>\n",
       "      <td>2.8</td>\n",
       "      <td>850.0</td>\n",
       "      <td>42.334990</td>\n",
       "      <td>1.836</td>\n",
       "      <td>-15.445400</td>\n",
       "      <td>4.512037</td>\n",
       "      <td>0.0</td>\n",
       "      <td>0.0</td>\n",
       "      <td>2.0</td>\n",
       "      <td>4.445</td>\n",
       "      <td>14.326</td>\n",
       "      <td>8.550902e+09</td>\n",
       "      <td>0.0</td>\n",
       "    </tr>\n",
       "    <tr>\n",
       "      <th>4</th>\n",
       "      <td>United Arab Emirates</td>\n",
       "      <td>2014</td>\n",
       "      <td>5.456210</td>\n",
       "      <td>2.8</td>\n",
       "      <td>850.0</td>\n",
       "      <td>37.983421</td>\n",
       "      <td>2.061</td>\n",
       "      <td>-1.014102</td>\n",
       "      <td>4.214411</td>\n",
       "      <td>0.0</td>\n",
       "      <td>0.0</td>\n",
       "      <td>2.0</td>\n",
       "      <td>4.588</td>\n",
       "      <td>14.625</td>\n",
       "      <td>1.107154e+10</td>\n",
       "      <td>0.0</td>\n",
       "    </tr>\n",
       "  </tbody>\n",
       "</table>\n",
       "</div>"
      ],
      "text/plain": [
       "                country  year  AG.LND.AGRI.ZS  SH.STA.SUIC.P5  VC.IDP.NWDS  \\\n",
       "0  United Arab Emirates  2018        5.463719             2.8        850.0   \n",
       "1  United Arab Emirates  2017        5.463719             2.8        850.0   \n",
       "2  United Arab Emirates  2016        5.474514             2.8        850.0   \n",
       "3  United Arab Emirates  2015        5.460434             2.8        850.0   \n",
       "4  United Arab Emirates  2014        5.456210             2.8        850.0   \n",
       "\n",
       "   EN.ATM.PM25.MC.M3  SL.UEM.TOTL.ZS  NY.GDP.DEFL.KD.ZG  NY.GDP.PCAP.KD.ZG  \\\n",
       "0          40.439506           2.575           6.740992          -0.090057   \n",
       "1          40.917510           2.463           6.310088          -0.550571   \n",
       "2          40.522103           1.636          -3.197247           1.909377   \n",
       "3          42.334990           1.836         -15.445400           4.512037   \n",
       "4          37.983421           2.061          -1.014102           4.214411   \n",
       "\n",
       "   DT.DOD.DSTC.IR.ZS  NY.GNS.ICTR.ZS  LP.EXP.DURS.MD  SL.AGR.EMPL.MA.ZS  \\\n",
       "0                0.0             0.0             2.0              4.308   \n",
       "1                0.0             0.0             2.0              4.343   \n",
       "2                0.0             0.0             2.0              4.378   \n",
       "3                0.0             0.0             2.0              4.445   \n",
       "4                0.0             0.0             2.0              4.588   \n",
       "\n",
       "   SP.RUR.TOTL.ZS  BX.KLT.DINV.CD.WD  FR.INR.LEND  \n",
       "0          13.478       9.895359e+09          0.0  \n",
       "1          13.752       1.035422e+10          0.0  \n",
       "2          14.035       9.604773e+09          0.0  \n",
       "3          14.326       8.550902e+09          0.0  \n",
       "4          14.625       1.107154e+10          0.0  "
      ]
     },
     "execution_count": 327,
     "metadata": {},
     "output_type": "execute_result"
    }
   ],
   "source": [
    "feats.head()"
   ]
  },
  {
   "cell_type": "code",
   "execution_count": 330,
   "metadata": {},
   "outputs": [
    {
     "name": "stdout",
     "output_type": "stream",
     "text": [
      "AG.LND.AGRI.ZS 35.27464972479408\n",
      "SH.STA.SUIC.P5 7.664285714285715\n",
      "VC.IDP.NWDS 316166.7724489796\n",
      "EN.ATM.PM25.MC.M3 38.74857427918676\n",
      "SL.UEM.TOTL.ZS 6.024118359174048\n",
      "NY.GDP.DEFL.KD.ZG 3.248801349069702\n",
      "NY.GDP.PCAP.KD.ZG 1.8615781883174065\n",
      "DT.DOD.DSTC.IR.ZS 24.058238583189283\n",
      "NY.GNS.ICTR.ZS 23.056292326902177\n",
      "LP.EXP.DURS.MD 3.2346938775510203\n",
      "SL.AGR.EMPL.MA.ZS 23.772440747825467\n",
      "SP.RUR.TOTL.ZS 41.183657142857136\n",
      "BX.KLT.DINV.CD.WD 10640513144.09392\n",
      "FR.INR.LEND 7.498768658610151\n"
     ]
    }
   ],
   "source": [
    "for col in feats:\n",
    "    if col == 'country' or col == 'year':\n",
    "        continue\n",
    "    print(col, feats[col].mean())"
   ]
  },
  {
   "cell_type": "code",
   "execution_count": null,
   "metadata": {},
   "outputs": [],
   "source": []
  }
 ],
 "metadata": {
  "kernelspec": {
   "display_name": "Python 3",
   "language": "python",
   "name": "python3"
  },
  "language_info": {
   "codemirror_mode": {
    "name": "ipython",
    "version": 3
   },
   "file_extension": ".py",
   "mimetype": "text/x-python",
   "name": "python",
   "nbconvert_exporter": "python",
   "pygments_lexer": "ipython3",
   "version": "3.7.3"
  }
 },
 "nbformat": 4,
 "nbformat_minor": 4
}
