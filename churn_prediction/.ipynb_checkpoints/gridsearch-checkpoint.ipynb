{
 "cells": [
  {
   "cell_type": "code",
   "execution_count": 1,
   "metadata": {},
   "outputs": [
    {
     "name": "stderr",
     "output_type": "stream",
     "text": [
      "Using TensorFlow backend.\n"
     ]
    }
   ],
   "source": [
    "import numpy as np\n",
    "import pandas as pd\n",
    "from keras import models\n",
    "from keras import layers\n",
    "from keras import optimizers\n",
    "from sklearn.model_selection import train_test_split\n",
    "from sklearn.preprocessing import StandardScaler\n",
    "from keras.wrappers.scikit_learn import KerasClassifier\n",
    "from sklearn.model_selection import GridSearchCV\n",
    "from sklearn.datasets import make_classification"
   ]
  },
  {
   "cell_type": "code",
   "execution_count": 2,
   "metadata": {},
   "outputs": [],
   "source": [
    "def oneHotEncoded(data_frame, column_name_ls):\n",
    "    df = data_frame.copy(deep=True)\n",
    "    for col in column_name_ls:\n",
    "        df[col] = pd.Categorical(df[col])\n",
    "        df_dummies = pd.get_dummies(df[col], prefix=col)\n",
    "        df = pd.concat([df, df_dummies], axis=1)\n",
    "        df.drop([col], axis=1, inplace=True)\n",
    "        \n",
    "    return df\n",
    "\n",
    "def build_classifier(units=16, learn_rate=0.001, hidden_layers=1):\n",
    "    m =  models.Sequential()\n",
    "\n",
    "    m.add(layers.Dense(units=29, activation='relu', input_shape=(29,)))\n",
    "    for i in range(hidden_layers):\n",
    "        m.add(layers.Dense(units=units, activation='relu'))\n",
    "    m.add(layers.Dense(units=1, activation='sigmoid'))\n",
    "    optimizer = optimizers.Adam(learning_rate=learn_rate)\n",
    "    m.compile(optimizer=optimizer, loss='binary_crossentropy',\n",
    "             metrics=['accuracy'])\n",
    "    return m"
   ]
  },
  {
   "cell_type": "code",
   "execution_count": 3,
   "metadata": {},
   "outputs": [],
   "source": [
    "df = pd.read_csv('WA_Fn-UseC_-Telco-Customer-Churn.csv')\n",
    "total_charges_filter = df['TotalCharges'] == ' '\n",
    "df = df[~total_charges_filter]\n",
    "\n",
    "categorical_features = ['gender', 'SeniorCitizen', 'Partner',\n",
    " 'Dependents', 'PhoneService', 'MultipleLines', 'InternetService',\n",
    " 'OnlineSecurity', 'OnlineBackup', 'DeviceProtection', 'TechSupport',\n",
    " 'StreamingTV', 'StreamingMovies', 'Contract', 'PaperlessBilling',\n",
    " 'PaymentMethod'] # ~16\n",
    "numerical_features = ['tenure', 'MonthlyCharges', 'TotalCharges']\n",
    "target = 'Churn'\n",
    "\n",
    "df['TotalCharges'] = pd.to_numeric(df['TotalCharges'])\n",
    "\n",
    "label = df['Churn'].map({'Yes': 1, 'No': 0})\n",
    "\n",
    "data = oneHotEncoded(df.drop(['customerID','Churn'], axis=1), categorical_features)\n",
    "\n",
    "x_train, x_test, y_train, y_test = train_test_split(data, label, test_size = 0.2)"
   ]
  },
  {
   "cell_type": "code",
   "execution_count": null,
   "metadata": {},
   "outputs": [],
   "source": [
    "def build_classifier(units=16, learn_rate=0.001, hidden_layers=1):\n",
    "    m =  models.Sequential()\n",
    "\n",
    "    m.add(layers.Dense(units=29, activation='relu', input_shape=(29,)))\n",
    "    for i in range(hidden_layers):\n",
    "        m.add(layers.Dense(units=units, activation='relu'))\n",
    "    m.add(layers.Dense(units=1, activation='sigmoid'))\n",
    "    optimizer = optimizers.Adam(learning_rate=learn_rate)\n",
    "    m.compile(optimizer=optimizer, loss='binary_crossentropy',\n",
    "             metrics=['accuracy'])\n",
    "    return m"
   ]
  },
  {
   "cell_type": "code",
   "execution_count": null,
   "metadata": {},
   "outputs": [],
   "source": [
    "classifier = KerasClassifier(build_fn=build_classifier)"
   ]
  },
  {
   "cell_type": "code",
   "execution_count": null,
   "metadata": {},
   "outputs": [],
   "source": []
  },
  {
   "cell_type": "code",
   "execution_count": null,
   "metadata": {},
   "outputs": [],
   "source": []
  }
 ],
 "metadata": {
  "kernelspec": {
   "display_name": "Python 3",
   "language": "python",
   "name": "python3"
  },
  "language_info": {
   "codemirror_mode": {
    "name": "ipython",
    "version": 3
   },
   "file_extension": ".py",
   "mimetype": "text/x-python",
   "name": "python",
   "nbconvert_exporter": "python",
   "pygments_lexer": "ipython3",
   "version": "3.7.5"
  }
 },
 "nbformat": 4,
 "nbformat_minor": 4
}
